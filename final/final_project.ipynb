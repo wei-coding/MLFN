{
 "cells": [
  {
   "attachments": {},
   "cell_type": "markdown",
   "metadata": {},
   "source": [
    "# MLFN Final Project\n",
    "## Web page Phishing Detection Dataset\n",
    "[link](https://www.kaggle.com/datasets/shashwatwork/web-page-phishing-detection-dataset)"
   ]
  },
  {
   "attachments": {},
   "cell_type": "markdown",
   "metadata": {},
   "source": [
    "### Load data"
   ]
  },
  {
   "cell_type": "code",
   "execution_count": 1,
   "metadata": {},
   "outputs": [
    {
     "data": {
      "text/html": [
       "<div>\n",
       "<style scoped>\n",
       "    .dataframe tbody tr th:only-of-type {\n",
       "        vertical-align: middle;\n",
       "    }\n",
       "\n",
       "    .dataframe tbody tr th {\n",
       "        vertical-align: top;\n",
       "    }\n",
       "\n",
       "    .dataframe thead th {\n",
       "        text-align: right;\n",
       "    }\n",
       "</style>\n",
       "<table border=\"1\" class=\"dataframe\">\n",
       "  <thead>\n",
       "    <tr style=\"text-align: right;\">\n",
       "      <th></th>\n",
       "      <th>url</th>\n",
       "      <th>length_url</th>\n",
       "      <th>length_hostname</th>\n",
       "      <th>ip</th>\n",
       "      <th>nb_dots</th>\n",
       "      <th>nb_hyphens</th>\n",
       "      <th>nb_at</th>\n",
       "      <th>nb_qm</th>\n",
       "      <th>nb_and</th>\n",
       "      <th>nb_or</th>\n",
       "      <th>...</th>\n",
       "      <th>domain_in_title</th>\n",
       "      <th>domain_with_copyright</th>\n",
       "      <th>whois_registered_domain</th>\n",
       "      <th>domain_registration_length</th>\n",
       "      <th>domain_age</th>\n",
       "      <th>web_traffic</th>\n",
       "      <th>dns_record</th>\n",
       "      <th>google_index</th>\n",
       "      <th>page_rank</th>\n",
       "      <th>status</th>\n",
       "    </tr>\n",
       "  </thead>\n",
       "  <tbody>\n",
       "    <tr>\n",
       "      <th>0</th>\n",
       "      <td>http://www.crestonwood.com/router.php</td>\n",
       "      <td>37</td>\n",
       "      <td>19</td>\n",
       "      <td>0</td>\n",
       "      <td>3</td>\n",
       "      <td>0</td>\n",
       "      <td>0</td>\n",
       "      <td>0</td>\n",
       "      <td>0</td>\n",
       "      <td>0</td>\n",
       "      <td>...</td>\n",
       "      <td>0</td>\n",
       "      <td>1</td>\n",
       "      <td>0</td>\n",
       "      <td>45</td>\n",
       "      <td>-1</td>\n",
       "      <td>0</td>\n",
       "      <td>1</td>\n",
       "      <td>1</td>\n",
       "      <td>4</td>\n",
       "      <td>legitimate</td>\n",
       "    </tr>\n",
       "    <tr>\n",
       "      <th>1</th>\n",
       "      <td>http://shadetreetechnology.com/V4/validation/a...</td>\n",
       "      <td>77</td>\n",
       "      <td>23</td>\n",
       "      <td>1</td>\n",
       "      <td>1</td>\n",
       "      <td>0</td>\n",
       "      <td>0</td>\n",
       "      <td>0</td>\n",
       "      <td>0</td>\n",
       "      <td>0</td>\n",
       "      <td>...</td>\n",
       "      <td>1</td>\n",
       "      <td>0</td>\n",
       "      <td>0</td>\n",
       "      <td>77</td>\n",
       "      <td>5767</td>\n",
       "      <td>0</td>\n",
       "      <td>0</td>\n",
       "      <td>1</td>\n",
       "      <td>2</td>\n",
       "      <td>phishing</td>\n",
       "    </tr>\n",
       "    <tr>\n",
       "      <th>2</th>\n",
       "      <td>https://support-appleld.com.secureupdate.duila...</td>\n",
       "      <td>126</td>\n",
       "      <td>50</td>\n",
       "      <td>1</td>\n",
       "      <td>4</td>\n",
       "      <td>1</td>\n",
       "      <td>0</td>\n",
       "      <td>1</td>\n",
       "      <td>2</td>\n",
       "      <td>0</td>\n",
       "      <td>...</td>\n",
       "      <td>1</td>\n",
       "      <td>0</td>\n",
       "      <td>0</td>\n",
       "      <td>14</td>\n",
       "      <td>4004</td>\n",
       "      <td>5828815</td>\n",
       "      <td>0</td>\n",
       "      <td>1</td>\n",
       "      <td>0</td>\n",
       "      <td>phishing</td>\n",
       "    </tr>\n",
       "    <tr>\n",
       "      <th>3</th>\n",
       "      <td>http://rgipt.ac.in</td>\n",
       "      <td>18</td>\n",
       "      <td>11</td>\n",
       "      <td>0</td>\n",
       "      <td>2</td>\n",
       "      <td>0</td>\n",
       "      <td>0</td>\n",
       "      <td>0</td>\n",
       "      <td>0</td>\n",
       "      <td>0</td>\n",
       "      <td>...</td>\n",
       "      <td>1</td>\n",
       "      <td>0</td>\n",
       "      <td>0</td>\n",
       "      <td>62</td>\n",
       "      <td>-1</td>\n",
       "      <td>107721</td>\n",
       "      <td>0</td>\n",
       "      <td>0</td>\n",
       "      <td>3</td>\n",
       "      <td>legitimate</td>\n",
       "    </tr>\n",
       "    <tr>\n",
       "      <th>4</th>\n",
       "      <td>http://www.iracing.com/tracks/gateway-motorspo...</td>\n",
       "      <td>55</td>\n",
       "      <td>15</td>\n",
       "      <td>0</td>\n",
       "      <td>2</td>\n",
       "      <td>2</td>\n",
       "      <td>0</td>\n",
       "      <td>0</td>\n",
       "      <td>0</td>\n",
       "      <td>0</td>\n",
       "      <td>...</td>\n",
       "      <td>0</td>\n",
       "      <td>1</td>\n",
       "      <td>0</td>\n",
       "      <td>224</td>\n",
       "      <td>8175</td>\n",
       "      <td>8725</td>\n",
       "      <td>0</td>\n",
       "      <td>0</td>\n",
       "      <td>6</td>\n",
       "      <td>legitimate</td>\n",
       "    </tr>\n",
       "    <tr>\n",
       "      <th>...</th>\n",
       "      <td>...</td>\n",
       "      <td>...</td>\n",
       "      <td>...</td>\n",
       "      <td>...</td>\n",
       "      <td>...</td>\n",
       "      <td>...</td>\n",
       "      <td>...</td>\n",
       "      <td>...</td>\n",
       "      <td>...</td>\n",
       "      <td>...</td>\n",
       "      <td>...</td>\n",
       "      <td>...</td>\n",
       "      <td>...</td>\n",
       "      <td>...</td>\n",
       "      <td>...</td>\n",
       "      <td>...</td>\n",
       "      <td>...</td>\n",
       "      <td>...</td>\n",
       "      <td>...</td>\n",
       "      <td>...</td>\n",
       "      <td>...</td>\n",
       "    </tr>\n",
       "    <tr>\n",
       "      <th>11425</th>\n",
       "      <td>http://www.fontspace.com/category/blackletter</td>\n",
       "      <td>45</td>\n",
       "      <td>17</td>\n",
       "      <td>0</td>\n",
       "      <td>2</td>\n",
       "      <td>0</td>\n",
       "      <td>0</td>\n",
       "      <td>0</td>\n",
       "      <td>0</td>\n",
       "      <td>0</td>\n",
       "      <td>...</td>\n",
       "      <td>0</td>\n",
       "      <td>0</td>\n",
       "      <td>0</td>\n",
       "      <td>448</td>\n",
       "      <td>5396</td>\n",
       "      <td>3980</td>\n",
       "      <td>0</td>\n",
       "      <td>0</td>\n",
       "      <td>6</td>\n",
       "      <td>legitimate</td>\n",
       "    </tr>\n",
       "    <tr>\n",
       "      <th>11426</th>\n",
       "      <td>http://www.budgetbots.com/server.php/Server%20...</td>\n",
       "      <td>84</td>\n",
       "      <td>18</td>\n",
       "      <td>0</td>\n",
       "      <td>5</td>\n",
       "      <td>0</td>\n",
       "      <td>1</td>\n",
       "      <td>1</td>\n",
       "      <td>0</td>\n",
       "      <td>0</td>\n",
       "      <td>...</td>\n",
       "      <td>1</td>\n",
       "      <td>0</td>\n",
       "      <td>0</td>\n",
       "      <td>211</td>\n",
       "      <td>6728</td>\n",
       "      <td>0</td>\n",
       "      <td>0</td>\n",
       "      <td>1</td>\n",
       "      <td>0</td>\n",
       "      <td>phishing</td>\n",
       "    </tr>\n",
       "    <tr>\n",
       "      <th>11427</th>\n",
       "      <td>https://www.facebook.com/Interactive-Televisio...</td>\n",
       "      <td>105</td>\n",
       "      <td>16</td>\n",
       "      <td>1</td>\n",
       "      <td>2</td>\n",
       "      <td>6</td>\n",
       "      <td>0</td>\n",
       "      <td>1</td>\n",
       "      <td>0</td>\n",
       "      <td>0</td>\n",
       "      <td>...</td>\n",
       "      <td>0</td>\n",
       "      <td>0</td>\n",
       "      <td>0</td>\n",
       "      <td>2809</td>\n",
       "      <td>8515</td>\n",
       "      <td>8</td>\n",
       "      <td>0</td>\n",
       "      <td>1</td>\n",
       "      <td>10</td>\n",
       "      <td>legitimate</td>\n",
       "    </tr>\n",
       "    <tr>\n",
       "      <th>11428</th>\n",
       "      <td>http://www.mypublicdomainpictures.com/</td>\n",
       "      <td>38</td>\n",
       "      <td>30</td>\n",
       "      <td>0</td>\n",
       "      <td>2</td>\n",
       "      <td>0</td>\n",
       "      <td>0</td>\n",
       "      <td>0</td>\n",
       "      <td>0</td>\n",
       "      <td>0</td>\n",
       "      <td>...</td>\n",
       "      <td>1</td>\n",
       "      <td>0</td>\n",
       "      <td>0</td>\n",
       "      <td>85</td>\n",
       "      <td>2836</td>\n",
       "      <td>2455493</td>\n",
       "      <td>0</td>\n",
       "      <td>0</td>\n",
       "      <td>4</td>\n",
       "      <td>legitimate</td>\n",
       "    </tr>\n",
       "    <tr>\n",
       "      <th>11429</th>\n",
       "      <td>http://174.139.46.123/ap/signin?openid.pape.ma...</td>\n",
       "      <td>477</td>\n",
       "      <td>14</td>\n",
       "      <td>1</td>\n",
       "      <td>24</td>\n",
       "      <td>0</td>\n",
       "      <td>1</td>\n",
       "      <td>1</td>\n",
       "      <td>9</td>\n",
       "      <td>0</td>\n",
       "      <td>...</td>\n",
       "      <td>1</td>\n",
       "      <td>1</td>\n",
       "      <td>1</td>\n",
       "      <td>0</td>\n",
       "      <td>-1</td>\n",
       "      <td>0</td>\n",
       "      <td>1</td>\n",
       "      <td>1</td>\n",
       "      <td>0</td>\n",
       "      <td>phishing</td>\n",
       "    </tr>\n",
       "  </tbody>\n",
       "</table>\n",
       "<p>11430 rows × 89 columns</p>\n",
       "</div>"
      ],
      "text/plain": [
       "                                                     url  length_url  \\\n",
       "0                  http://www.crestonwood.com/router.php          37   \n",
       "1      http://shadetreetechnology.com/V4/validation/a...          77   \n",
       "2      https://support-appleld.com.secureupdate.duila...         126   \n",
       "3                                     http://rgipt.ac.in          18   \n",
       "4      http://www.iracing.com/tracks/gateway-motorspo...          55   \n",
       "...                                                  ...         ...   \n",
       "11425      http://www.fontspace.com/category/blackletter          45   \n",
       "11426  http://www.budgetbots.com/server.php/Server%20...          84   \n",
       "11427  https://www.facebook.com/Interactive-Televisio...         105   \n",
       "11428             http://www.mypublicdomainpictures.com/          38   \n",
       "11429  http://174.139.46.123/ap/signin?openid.pape.ma...         477   \n",
       "\n",
       "       length_hostname  ip  nb_dots  nb_hyphens  nb_at  nb_qm  nb_and  nb_or  \\\n",
       "0                   19   0        3           0      0      0       0      0   \n",
       "1                   23   1        1           0      0      0       0      0   \n",
       "2                   50   1        4           1      0      1       2      0   \n",
       "3                   11   0        2           0      0      0       0      0   \n",
       "4                   15   0        2           2      0      0       0      0   \n",
       "...                ...  ..      ...         ...    ...    ...     ...    ...   \n",
       "11425               17   0        2           0      0      0       0      0   \n",
       "11426               18   0        5           0      1      1       0      0   \n",
       "11427               16   1        2           6      0      1       0      0   \n",
       "11428               30   0        2           0      0      0       0      0   \n",
       "11429               14   1       24           0      1      1       9      0   \n",
       "\n",
       "       ...  domain_in_title  domain_with_copyright  whois_registered_domain  \\\n",
       "0      ...                0                      1                        0   \n",
       "1      ...                1                      0                        0   \n",
       "2      ...                1                      0                        0   \n",
       "3      ...                1                      0                        0   \n",
       "4      ...                0                      1                        0   \n",
       "...    ...              ...                    ...                      ...   \n",
       "11425  ...                0                      0                        0   \n",
       "11426  ...                1                      0                        0   \n",
       "11427  ...                0                      0                        0   \n",
       "11428  ...                1                      0                        0   \n",
       "11429  ...                1                      1                        1   \n",
       "\n",
       "       domain_registration_length  domain_age  web_traffic  dns_record  \\\n",
       "0                              45          -1            0           1   \n",
       "1                              77        5767            0           0   \n",
       "2                              14        4004      5828815           0   \n",
       "3                              62          -1       107721           0   \n",
       "4                             224        8175         8725           0   \n",
       "...                           ...         ...          ...         ...   \n",
       "11425                         448        5396         3980           0   \n",
       "11426                         211        6728            0           0   \n",
       "11427                        2809        8515            8           0   \n",
       "11428                          85        2836      2455493           0   \n",
       "11429                           0          -1            0           1   \n",
       "\n",
       "       google_index  page_rank      status  \n",
       "0                 1          4  legitimate  \n",
       "1                 1          2    phishing  \n",
       "2                 1          0    phishing  \n",
       "3                 0          3  legitimate  \n",
       "4                 0          6  legitimate  \n",
       "...             ...        ...         ...  \n",
       "11425             0          6  legitimate  \n",
       "11426             1          0    phishing  \n",
       "11427             1         10  legitimate  \n",
       "11428             0          4  legitimate  \n",
       "11429             1          0    phishing  \n",
       "\n",
       "[11430 rows x 89 columns]"
      ]
     },
     "metadata": {},
     "output_type": "display_data"
    }
   ],
   "source": [
    "import pandas as pd\n",
    "df = pd.read_csv(\"dataset/dataset_phishing.csv\")\n",
    "display(df)"
   ]
  },
  {
   "attachments": {},
   "cell_type": "markdown",
   "metadata": {},
   "source": [
    "### Data visualization"
   ]
  },
  {
   "cell_type": "code",
   "execution_count": 2,
   "metadata": {},
   "outputs": [
    {
     "data": {
      "text/plain": [
       "(array([ 25., 113., 452., 594., 699., 946., 673., 559., 748., 602., 675.,\n",
       "        456., 394., 520., 304., 289., 367., 250., 314., 236., 168., 202.,\n",
       "        114.,  97., 113., 102., 112.,  73.,  53.,  84.,  49.,  79.,  85.,\n",
       "        131., 165.,  59.,  22.,  30.,  22.,  20.,  23.,  13.,  26.,  22.,\n",
       "         16.,  20.,  10.,   7.,  10.,   5.,   8.,   5.,  12.,   2.,   7.,\n",
       "          6.,  17.,   6.,  10.,   8.,   3.,  13.,   0.,   4.,   8.,   2.,\n",
       "          6.,   8.,   9.,   5.,   3.,   6.,   4.,  12.,  11.,   8.,   2.,\n",
       "          2.,   5.,   1.,   2.,   0.,   1.,   3.,   0.,   4.,   2.,   0.,\n",
       "          0.,   2.,   0.,   1.,   1.,   3.,   2.,   2.,   1.,   2.,   0.,\n",
       "          1.,   0.,   0.,   2.,   2.,   0.,   0.,   1.,   1.,   0.,   1.,\n",
       "          1.,   1.,   2.,   3.,   0.,   1.,   3.,   1.,   0.,   3.,   0.,\n",
       "          0.,   2.,   1.,   0.,   3.,   3.,   2.,   0.,   0.,   0.,   0.,\n",
       "          2.,   2.,   3.,   0.,   0.,   2.,   0.,   0.,   1.,   0.,   0.,\n",
       "          0.,   1.,   0.,   0.,   0.,   0.,   0.,   0.,   0.,   1.,   0.,\n",
       "          0.,   1.,   0.,   0.,   1.,   1.,   2.,   2.,   0.,   1.,   0.,\n",
       "          0.,   0.,   0.,   0.,   0.,   0.,   0.,   0.,   0.,   0.,   0.,\n",
       "          0.,   1.,   0.,   0.,   0.,   0.,   1.,   0.,   0.,   0.,   0.,\n",
       "          0.,   1.,   0.,   0.,   0.,   0.,   0.,   0.,   0.,   0.,   0.,\n",
       "          0.,   0.,   0.,   0.,   0.,   0.,   0.,   0.,   0.,   0.,   0.,\n",
       "          0.,   0.,   0.,   0.,   0.,   0.,   0.,   0.,   0.,   0.,   0.,\n",
       "          0.,   0.,   0.,   0.,   0.,   0.,   0.,   0.,   0.,   0.,   0.,\n",
       "          0.,   1.,   0.,   0.,   0.,   0.,   0.,   0.,   0.,   0.,   0.,\n",
       "          0.,   0.,   0.,   0.,   0.,   0.,   0.,   0.,   0.,   0.,   0.,\n",
       "          0.,   0.,   0.,   0.,   0.,   0.,   0.,   0.,   0.,   0.,   0.,\n",
       "          0.,   1.,   0.,   0.,   0.,   0.,   0.,   0.,   0.,   0.,   1.,\n",
       "          0.,   0.,   0.,   0.,   0.,   0.,   0.,   0.,   0.,   0.,   0.,\n",
       "          0.,   0.,   0.,   0.,   0.,   0.,   0.,   0.,   0.,   0.,   0.,\n",
       "          0.,   0.,   0.,   0.,   0.,   0.,   0.,   0.,   0.,   0.,   0.,\n",
       "          0.,   0.,   0.,   0.,   0.,   0.,   0.,   0.,   0.,   0.,   0.,\n",
       "          0.,   0.,   0.,   0.,   0.,   0.,   0.,   0.,   0.,   0.,   0.,\n",
       "          0.,   0.,   0.,   0.,   0.,   0.,   0.,   0.,   0.,   0.,   0.,\n",
       "          0.,   0.,   0.,   0.,   0.,   0.,   0.,   0.,   0.,   0.,   0.,\n",
       "          0.,   0.,   0.,   0.,   0.,   0.,   0.,   0.,   0.,   0.,   0.,\n",
       "          0.,   0.,   0.,   0.,   0.,   0.,   0.,   0.,   0.,   0.,   0.,\n",
       "          0.,   0.,   0.,   0.,   0.,   0.,   0.,   0.,   0.,   0.,   0.,\n",
       "          0.,   0.,   0.,   0.,   0.,   0.,   0.,   0.,   0.,   0.,   0.,\n",
       "          0.,   0.,   0.,   0.,   0.,   0.,   0.,   0.,   0.,   0.,   0.,\n",
       "          2.,   0.,   0.,   0.,   0.,   0.,   0.,   0.,   0.,   0.,   0.,\n",
       "          0.,   0.,   0.,   0.,   0.,   0.,   0.,   0.,   0.,   0.,   0.,\n",
       "          0.,   0.,   0.,   0.,   0.,   0.,   0.,   0.,   0.,   0.,   0.,\n",
       "          0.,   0.,   0.,   0.,   0.,   0.,   0.,   0.,   0.,   0.,   0.,\n",
       "          0.,   0.,   0.,   0.,   0.,   0.,   0.,   0.,   0.,   0.,   0.,\n",
       "          0.,   0.,   0.,   0.,   0.,   0.,   0.,   0.,   0.,   0.,   0.,\n",
       "          0.,   0.,   0.,   0.,   0.,   0.,   0.,   0.,   0.,   1.]),\n",
       " array([  12.        ,   15.37267081,   18.74534161,   22.11801242,\n",
       "          25.49068323,   28.86335404,   32.23602484,   35.60869565,\n",
       "          38.98136646,   42.35403727,   45.72670807,   49.09937888,\n",
       "          52.47204969,   55.8447205 ,   59.2173913 ,   62.59006211,\n",
       "          65.96273292,   69.33540373,   72.70807453,   76.08074534,\n",
       "          79.45341615,   82.82608696,   86.19875776,   89.57142857,\n",
       "          92.94409938,   96.31677019,   99.68944099,  103.0621118 ,\n",
       "         106.43478261,  109.80745342,  113.18012422,  116.55279503,\n",
       "         119.92546584,  123.29813665,  126.67080745,  130.04347826,\n",
       "         133.41614907,  136.78881988,  140.16149068,  143.53416149,\n",
       "         146.9068323 ,  150.27950311,  153.65217391,  157.02484472,\n",
       "         160.39751553,  163.77018634,  167.14285714,  170.51552795,\n",
       "         173.88819876,  177.26086957,  180.63354037,  184.00621118,\n",
       "         187.37888199,  190.7515528 ,  194.1242236 ,  197.49689441,\n",
       "         200.86956522,  204.24223602,  207.61490683,  210.98757764,\n",
       "         214.36024845,  217.73291925,  221.10559006,  224.47826087,\n",
       "         227.85093168,  231.22360248,  234.59627329,  237.9689441 ,\n",
       "         241.34161491,  244.71428571,  248.08695652,  251.45962733,\n",
       "         254.83229814,  258.20496894,  261.57763975,  264.95031056,\n",
       "         268.32298137,  271.69565217,  275.06832298,  278.44099379,\n",
       "         281.8136646 ,  285.1863354 ,  288.55900621,  291.93167702,\n",
       "         295.30434783,  298.67701863,  302.04968944,  305.42236025,\n",
       "         308.79503106,  312.16770186,  315.54037267,  318.91304348,\n",
       "         322.28571429,  325.65838509,  329.0310559 ,  332.40372671,\n",
       "         335.77639752,  339.14906832,  342.52173913,  345.89440994,\n",
       "         349.26708075,  352.63975155,  356.01242236,  359.38509317,\n",
       "         362.75776398,  366.13043478,  369.50310559,  372.8757764 ,\n",
       "         376.2484472 ,  379.62111801,  382.99378882,  386.36645963,\n",
       "         389.73913043,  393.11180124,  396.48447205,  399.85714286,\n",
       "         403.22981366,  406.60248447,  409.97515528,  413.34782609,\n",
       "         416.72049689,  420.0931677 ,  423.46583851,  426.83850932,\n",
       "         430.21118012,  433.58385093,  436.95652174,  440.32919255,\n",
       "         443.70186335,  447.07453416,  450.44720497,  453.81987578,\n",
       "         457.19254658,  460.56521739,  463.9378882 ,  467.31055901,\n",
       "         470.68322981,  474.05590062,  477.42857143,  480.80124224,\n",
       "         484.17391304,  487.54658385,  490.91925466,  494.29192547,\n",
       "         497.66459627,  501.03726708,  504.40993789,  507.7826087 ,\n",
       "         511.1552795 ,  514.52795031,  517.90062112,  521.27329193,\n",
       "         524.64596273,  528.01863354,  531.39130435,  534.76397516,\n",
       "         538.13664596,  541.50931677,  544.88198758,  548.25465839,\n",
       "         551.62732919,  555.        ,  558.37267081,  561.74534161,\n",
       "         565.11801242,  568.49068323,  571.86335404,  575.23602484,\n",
       "         578.60869565,  581.98136646,  585.35403727,  588.72670807,\n",
       "         592.09937888,  595.47204969,  598.8447205 ,  602.2173913 ,\n",
       "         605.59006211,  608.96273292,  612.33540373,  615.70807453,\n",
       "         619.08074534,  622.45341615,  625.82608696,  629.19875776,\n",
       "         632.57142857,  635.94409938,  639.31677019,  642.68944099,\n",
       "         646.0621118 ,  649.43478261,  652.80745342,  656.18012422,\n",
       "         659.55279503,  662.92546584,  666.29813665,  669.67080745,\n",
       "         673.04347826,  676.41614907,  679.78881988,  683.16149068,\n",
       "         686.53416149,  689.9068323 ,  693.27950311,  696.65217391,\n",
       "         700.02484472,  703.39751553,  706.77018634,  710.14285714,\n",
       "         713.51552795,  716.88819876,  720.26086957,  723.63354037,\n",
       "         727.00621118,  730.37888199,  733.7515528 ,  737.1242236 ,\n",
       "         740.49689441,  743.86956522,  747.24223602,  750.61490683,\n",
       "         753.98757764,  757.36024845,  760.73291925,  764.10559006,\n",
       "         767.47826087,  770.85093168,  774.22360248,  777.59627329,\n",
       "         780.9689441 ,  784.34161491,  787.71428571,  791.08695652,\n",
       "         794.45962733,  797.83229814,  801.20496894,  804.57763975,\n",
       "         807.95031056,  811.32298137,  814.69565217,  818.06832298,\n",
       "         821.44099379,  824.8136646 ,  828.1863354 ,  831.55900621,\n",
       "         834.93167702,  838.30434783,  841.67701863,  845.04968944,\n",
       "         848.42236025,  851.79503106,  855.16770186,  858.54037267,\n",
       "         861.91304348,  865.28571429,  868.65838509,  872.0310559 ,\n",
       "         875.40372671,  878.77639752,  882.14906832,  885.52173913,\n",
       "         888.89440994,  892.26708075,  895.63975155,  899.01242236,\n",
       "         902.38509317,  905.75776398,  909.13043478,  912.50310559,\n",
       "         915.8757764 ,  919.2484472 ,  922.62111801,  925.99378882,\n",
       "         929.36645963,  932.73913043,  936.11180124,  939.48447205,\n",
       "         942.85714286,  946.22981366,  949.60248447,  952.97515528,\n",
       "         956.34782609,  959.72049689,  963.0931677 ,  966.46583851,\n",
       "         969.83850932,  973.21118012,  976.58385093,  979.95652174,\n",
       "         983.32919255,  986.70186335,  990.07453416,  993.44720497,\n",
       "         996.81987578, 1000.19254658, 1003.56521739, 1006.9378882 ,\n",
       "        1010.31055901, 1013.68322981, 1017.05590062, 1020.42857143,\n",
       "        1023.80124224, 1027.17391304, 1030.54658385, 1033.91925466,\n",
       "        1037.29192547, 1040.66459627, 1044.03726708, 1047.40993789,\n",
       "        1050.7826087 , 1054.1552795 , 1057.52795031, 1060.90062112,\n",
       "        1064.27329193, 1067.64596273, 1071.01863354, 1074.39130435,\n",
       "        1077.76397516, 1081.13664596, 1084.50931677, 1087.88198758,\n",
       "        1091.25465839, 1094.62732919, 1098.        , 1101.37267081,\n",
       "        1104.74534161, 1108.11801242, 1111.49068323, 1114.86335404,\n",
       "        1118.23602484, 1121.60869565, 1124.98136646, 1128.35403727,\n",
       "        1131.72670807, 1135.09937888, 1138.47204969, 1141.8447205 ,\n",
       "        1145.2173913 , 1148.59006211, 1151.96273292, 1155.33540373,\n",
       "        1158.70807453, 1162.08074534, 1165.45341615, 1168.82608696,\n",
       "        1172.19875776, 1175.57142857, 1178.94409938, 1182.31677019,\n",
       "        1185.68944099, 1189.0621118 , 1192.43478261, 1195.80745342,\n",
       "        1199.18012422, 1202.55279503, 1205.92546584, 1209.29813665,\n",
       "        1212.67080745, 1216.04347826, 1219.41614907, 1222.78881988,\n",
       "        1226.16149068, 1229.53416149, 1232.9068323 , 1236.27950311,\n",
       "        1239.65217391, 1243.02484472, 1246.39751553, 1249.77018634,\n",
       "        1253.14285714, 1256.51552795, 1259.88819876, 1263.26086957,\n",
       "        1266.63354037, 1270.00621118, 1273.37888199, 1276.7515528 ,\n",
       "        1280.1242236 , 1283.49689441, 1286.86956522, 1290.24223602,\n",
       "        1293.61490683, 1296.98757764, 1300.36024845, 1303.73291925,\n",
       "        1307.10559006, 1310.47826087, 1313.85093168, 1317.22360248,\n",
       "        1320.59627329, 1323.9689441 , 1327.34161491, 1330.71428571,\n",
       "        1334.08695652, 1337.45962733, 1340.83229814, 1344.20496894,\n",
       "        1347.57763975, 1350.95031056, 1354.32298137, 1357.69565217,\n",
       "        1361.06832298, 1364.44099379, 1367.8136646 , 1371.1863354 ,\n",
       "        1374.55900621, 1377.93167702, 1381.30434783, 1384.67701863,\n",
       "        1388.04968944, 1391.42236025, 1394.79503106, 1398.16770186,\n",
       "        1401.54037267, 1404.91304348, 1408.28571429, 1411.65838509,\n",
       "        1415.0310559 , 1418.40372671, 1421.77639752, 1425.14906832,\n",
       "        1428.52173913, 1431.89440994, 1435.26708075, 1438.63975155,\n",
       "        1442.01242236, 1445.38509317, 1448.75776398, 1452.13043478,\n",
       "        1455.50310559, 1458.8757764 , 1462.2484472 , 1465.62111801,\n",
       "        1468.99378882, 1472.36645963, 1475.73913043, 1479.11180124,\n",
       "        1482.48447205, 1485.85714286, 1489.22981366, 1492.60248447,\n",
       "        1495.97515528, 1499.34782609, 1502.72049689, 1506.0931677 ,\n",
       "        1509.46583851, 1512.83850932, 1516.21118012, 1519.58385093,\n",
       "        1522.95652174, 1526.32919255, 1529.70186335, 1533.07453416,\n",
       "        1536.44720497, 1539.81987578, 1543.19254658, 1546.56521739,\n",
       "        1549.9378882 , 1553.31055901, 1556.68322981, 1560.05590062,\n",
       "        1563.42857143, 1566.80124224, 1570.17391304, 1573.54658385,\n",
       "        1576.91925466, 1580.29192547, 1583.66459627, 1587.03726708,\n",
       "        1590.40993789, 1593.7826087 , 1597.1552795 , 1600.52795031,\n",
       "        1603.90062112, 1607.27329193, 1610.64596273, 1614.01863354,\n",
       "        1617.39130435, 1620.76397516, 1624.13664596, 1627.50931677,\n",
       "        1630.88198758, 1634.25465839, 1637.62732919, 1641.        ]),\n",
       " <BarContainer object of 483 artists>)"
      ]
     },
     "execution_count": 2,
     "metadata": {},
     "output_type": "execute_result"
    },
    {
     "data": {
      "image/png": "[encoded data removed]",
      "text/plain": [
       "<Figure size 640x480 with 1 Axes>"
      ]
     },
     "metadata": {},
     "output_type": "display_data"
    }
   ],
   "source": [
    "import matplotlib.pyplot as plt\n",
    "plt.hist(df[\"length_url\"], bins='auto')"
   ]
  },
  {
   "attachments": {},
   "cell_type": "markdown",
   "metadata": {},
   "source": [
    "### Extract useful part and encoding label"
   ]
  },
  {
   "cell_type": "code",
   "execution_count": 3,
   "metadata": {},
   "outputs": [
    {
     "data": {
      "text/html": [
       "<div>\n",
       "<style scoped>\n",
       "    .dataframe tbody tr th:only-of-type {\n",
       "        vertical-align: middle;\n",
       "    }\n",
       "\n",
       "    .dataframe tbody tr th {\n",
       "        vertical-align: top;\n",
       "    }\n",
       "\n",
       "    .dataframe thead th {\n",
       "        text-align: right;\n",
       "    }\n",
       "</style>\n",
       "<table border=\"1\" class=\"dataframe\">\n",
       "  <thead>\n",
       "    <tr style=\"text-align: right;\">\n",
       "      <th></th>\n",
       "      <th>length_url</th>\n",
       "      <th>length_hostname</th>\n",
       "      <th>ip</th>\n",
       "      <th>nb_dots</th>\n",
       "      <th>nb_hyphens</th>\n",
       "      <th>nb_at</th>\n",
       "      <th>nb_qm</th>\n",
       "      <th>nb_and</th>\n",
       "      <th>nb_or</th>\n",
       "      <th>nb_eq</th>\n",
       "      <th>...</th>\n",
       "      <th>domain_in_title</th>\n",
       "      <th>domain_with_copyright</th>\n",
       "      <th>whois_registered_domain</th>\n",
       "      <th>domain_registration_length</th>\n",
       "      <th>domain_age</th>\n",
       "      <th>web_traffic</th>\n",
       "      <th>dns_record</th>\n",
       "      <th>google_index</th>\n",
       "      <th>page_rank</th>\n",
       "      <th>status</th>\n",
       "    </tr>\n",
       "  </thead>\n",
       "  <tbody>\n",
       "    <tr>\n",
       "      <th>0</th>\n",
       "      <td>37</td>\n",
       "      <td>19</td>\n",
       "      <td>0</td>\n",
       "      <td>3</td>\n",
       "      <td>0</td>\n",
       "      <td>0</td>\n",
       "      <td>0</td>\n",
       "      <td>0</td>\n",
       "      <td>0</td>\n",
       "      <td>0</td>\n",
       "      <td>...</td>\n",
       "      <td>0</td>\n",
       "      <td>1</td>\n",
       "      <td>0</td>\n",
       "      <td>45</td>\n",
       "      <td>-1</td>\n",
       "      <td>0</td>\n",
       "      <td>1</td>\n",
       "      <td>1</td>\n",
       "      <td>4</td>\n",
       "      <td>legitimate</td>\n",
       "    </tr>\n",
       "    <tr>\n",
       "      <th>1</th>\n",
       "      <td>77</td>\n",
       "      <td>23</td>\n",
       "      <td>1</td>\n",
       "      <td>1</td>\n",
       "      <td>0</td>\n",
       "      <td>0</td>\n",
       "      <td>0</td>\n",
       "      <td>0</td>\n",
       "      <td>0</td>\n",
       "      <td>0</td>\n",
       "      <td>...</td>\n",
       "      <td>1</td>\n",
       "      <td>0</td>\n",
       "      <td>0</td>\n",
       "      <td>77</td>\n",
       "      <td>5767</td>\n",
       "      <td>0</td>\n",
       "      <td>0</td>\n",
       "      <td>1</td>\n",
       "      <td>2</td>\n",
       "      <td>phishing</td>\n",
       "    </tr>\n",
       "    <tr>\n",
       "      <th>2</th>\n",
       "      <td>126</td>\n",
       "      <td>50</td>\n",
       "      <td>1</td>\n",
       "      <td>4</td>\n",
       "      <td>1</td>\n",
       "      <td>0</td>\n",
       "      <td>1</td>\n",
       "      <td>2</td>\n",
       "      <td>0</td>\n",
       "      <td>3</td>\n",
       "      <td>...</td>\n",
       "      <td>1</td>\n",
       "      <td>0</td>\n",
       "      <td>0</td>\n",
       "      <td>14</td>\n",
       "      <td>4004</td>\n",
       "      <td>5828815</td>\n",
       "      <td>0</td>\n",
       "      <td>1</td>\n",
       "      <td>0</td>\n",
       "      <td>phishing</td>\n",
       "    </tr>\n",
       "    <tr>\n",
       "      <th>3</th>\n",
       "      <td>18</td>\n",
       "      <td>11</td>\n",
       "      <td>0</td>\n",
       "      <td>2</td>\n",
       "      <td>0</td>\n",
       "      <td>0</td>\n",
       "      <td>0</td>\n",
       "      <td>0</td>\n",
       "      <td>0</td>\n",
       "      <td>0</td>\n",
       "      <td>...</td>\n",
       "      <td>1</td>\n",
       "      <td>0</td>\n",
       "      <td>0</td>\n",
       "      <td>62</td>\n",
       "      <td>-1</td>\n",
       "      <td>107721</td>\n",
       "      <td>0</td>\n",
       "      <td>0</td>\n",
       "      <td>3</td>\n",
       "      <td>legitimate</td>\n",
       "    </tr>\n",
       "    <tr>\n",
       "      <th>4</th>\n",
       "      <td>55</td>\n",
       "      <td>15</td>\n",
       "      <td>0</td>\n",
       "      <td>2</td>\n",
       "      <td>2</td>\n",
       "      <td>0</td>\n",
       "      <td>0</td>\n",
       "      <td>0</td>\n",
       "      <td>0</td>\n",
       "      <td>0</td>\n",
       "      <td>...</td>\n",
       "      <td>0</td>\n",
       "      <td>1</td>\n",
       "      <td>0</td>\n",
       "      <td>224</td>\n",
       "      <td>8175</td>\n",
       "      <td>8725</td>\n",
       "      <td>0</td>\n",
       "      <td>0</td>\n",
       "      <td>6</td>\n",
       "      <td>legitimate</td>\n",
       "    </tr>\n",
       "    <tr>\n",
       "      <th>...</th>\n",
       "      <td>...</td>\n",
       "      <td>...</td>\n",
       "      <td>...</td>\n",
       "      <td>...</td>\n",
       "      <td>...</td>\n",
       "      <td>...</td>\n",
       "      <td>...</td>\n",
       "      <td>...</td>\n",
       "      <td>...</td>\n",
       "      <td>...</td>\n",
       "      <td>...</td>\n",
       "      <td>...</td>\n",
       "      <td>...</td>\n",
       "      <td>...</td>\n",
       "      <td>...</td>\n",
       "      <td>...</td>\n",
       "      <td>...</td>\n",
       "      <td>...</td>\n",
       "      <td>...</td>\n",
       "      <td>...</td>\n",
       "      <td>...</td>\n",
       "    </tr>\n",
       "    <tr>\n",
       "      <th>11425</th>\n",
       "      <td>45</td>\n",
       "      <td>17</td>\n",
       "      <td>0</td>\n",
       "      <td>2</td>\n",
       "      <td>0</td>\n",
       "      <td>0</td>\n",
       "      <td>0</td>\n",
       "      <td>0</td>\n",
       "      <td>0</td>\n",
       "      <td>0</td>\n",
       "      <td>...</td>\n",
       "      <td>0</td>\n",
       "      <td>0</td>\n",
       "      <td>0</td>\n",
       "      <td>448</td>\n",
       "      <td>5396</td>\n",
       "      <td>3980</td>\n",
       "      <td>0</td>\n",
       "      <td>0</td>\n",
       "      <td>6</td>\n",
       "      <td>legitimate</td>\n",
       "    </tr>\n",
       "    <tr>\n",
       "      <th>11426</th>\n",
       "      <td>84</td>\n",
       "      <td>18</td>\n",
       "      <td>0</td>\n",
       "      <td>5</td>\n",
       "      <td>0</td>\n",
       "      <td>1</td>\n",
       "      <td>1</td>\n",
       "      <td>0</td>\n",
       "      <td>0</td>\n",
       "      <td>1</td>\n",
       "      <td>...</td>\n",
       "      <td>1</td>\n",
       "      <td>0</td>\n",
       "      <td>0</td>\n",
       "      <td>211</td>\n",
       "      <td>6728</td>\n",
       "      <td>0</td>\n",
       "      <td>0</td>\n",
       "      <td>1</td>\n",
       "      <td>0</td>\n",
       "      <td>phishing</td>\n",
       "    </tr>\n",
       "    <tr>\n",
       "      <th>11427</th>\n",
       "      <td>105</td>\n",
       "      <td>16</td>\n",
       "      <td>1</td>\n",
       "      <td>2</td>\n",
       "      <td>6</td>\n",
       "      <td>0</td>\n",
       "      <td>1</td>\n",
       "      <td>0</td>\n",
       "      <td>0</td>\n",
       "      <td>1</td>\n",
       "      <td>...</td>\n",
       "      <td>0</td>\n",
       "      <td>0</td>\n",
       "      <td>0</td>\n",
       "      <td>2809</td>\n",
       "      <td>8515</td>\n",
       "      <td>8</td>\n",
       "      <td>0</td>\n",
       "      <td>1</td>\n",
       "      <td>10</td>\n",
       "      <td>legitimate</td>\n",
       "    </tr>\n",
       "    <tr>\n",
       "      <th>11428</th>\n",
       "      <td>38</td>\n",
       "      <td>30</td>\n",
       "      <td>0</td>\n",
       "      <td>2</td>\n",
       "      <td>0</td>\n",
       "      <td>0</td>\n",
       "      <td>0</td>\n",
       "      <td>0</td>\n",
       "      <td>0</td>\n",
       "      <td>0</td>\n",
       "      <td>...</td>\n",
       "      <td>1</td>\n",
       "      <td>0</td>\n",
       "      <td>0</td>\n",
       "      <td>85</td>\n",
       "      <td>2836</td>\n",
       "      <td>2455493</td>\n",
       "      <td>0</td>\n",
       "      <td>0</td>\n",
       "      <td>4</td>\n",
       "      <td>legitimate</td>\n",
       "    </tr>\n",
       "    <tr>\n",
       "      <th>11429</th>\n",
       "      <td>477</td>\n",
       "      <td>14</td>\n",
       "      <td>1</td>\n",
       "      <td>24</td>\n",
       "      <td>0</td>\n",
       "      <td>1</td>\n",
       "      <td>1</td>\n",
       "      <td>9</td>\n",
       "      <td>0</td>\n",
       "      <td>9</td>\n",
       "      <td>...</td>\n",
       "      <td>1</td>\n",
       "      <td>1</td>\n",
       "      <td>1</td>\n",
       "      <td>0</td>\n",
       "      <td>-1</td>\n",
       "      <td>0</td>\n",
       "      <td>1</td>\n",
       "      <td>1</td>\n",
       "      <td>0</td>\n",
       "      <td>phishing</td>\n",
       "    </tr>\n",
       "  </tbody>\n",
       "</table>\n",
       "<p>11430 rows × 88 columns</p>\n",
       "</div>"
      ],
      "text/plain": [
       "       length_url  length_hostname  ip  nb_dots  nb_hyphens  nb_at  nb_qm  \\\n",
       "0              37               19   0        3           0      0      0   \n",
       "1              77               23   1        1           0      0      0   \n",
       "2             126               50   1        4           1      0      1   \n",
       "3              18               11   0        2           0      0      0   \n",
       "4              55               15   0        2           2      0      0   \n",
       "...           ...              ...  ..      ...         ...    ...    ...   \n",
       "11425          45               17   0        2           0      0      0   \n",
       "11426          84               18   0        5           0      1      1   \n",
       "11427         105               16   1        2           6      0      1   \n",
       "11428          38               30   0        2           0      0      0   \n",
       "11429         477               14   1       24           0      1      1   \n",
       "\n",
       "       nb_and  nb_or  nb_eq  ...  domain_in_title  domain_with_copyright  \\\n",
       "0           0      0      0  ...                0                      1   \n",
       "1           0      0      0  ...                1                      0   \n",
       "2           2      0      3  ...                1                      0   \n",
       "3           0      0      0  ...                1                      0   \n",
       "4           0      0      0  ...                0                      1   \n",
       "...       ...    ...    ...  ...              ...                    ...   \n",
       "11425       0      0      0  ...                0                      0   \n",
       "11426       0      0      1  ...                1                      0   \n",
       "11427       0      0      1  ...                0                      0   \n",
       "11428       0      0      0  ...                1                      0   \n",
       "11429       9      0      9  ...                1                      1   \n",
       "\n",
       "       whois_registered_domain  domain_registration_length  domain_age  \\\n",
       "0                            0                          45          -1   \n",
       "1                            0                          77        5767   \n",
       "2                            0                          14        4004   \n",
       "3                            0                          62          -1   \n",
       "4                            0                         224        8175   \n",
       "...                        ...                         ...         ...   \n",
       "11425                        0                         448        5396   \n",
       "11426                        0                         211        6728   \n",
       "11427                        0                        2809        8515   \n",
       "11428                        0                          85        2836   \n",
       "11429                        1                           0          -1   \n",
       "\n",
       "       web_traffic  dns_record  google_index  page_rank      status  \n",
       "0                0           1             1          4  legitimate  \n",
       "1                0           0             1          2    phishing  \n",
       "2          5828815           0             1          0    phishing  \n",
       "3           107721           0             0          3  legitimate  \n",
       "4             8725           0             0          6  legitimate  \n",
       "...            ...         ...           ...        ...         ...  \n",
       "11425         3980           0             0          6  legitimate  \n",
       "11426            0           0             1          0    phishing  \n",
       "11427            8           0             1         10  legitimate  \n",
       "11428      2455493           0             0          4  legitimate  \n",
       "11429            0           1             1          0    phishing  \n",
       "\n",
       "[11430 rows x 88 columns]"
      ]
     },
     "metadata": {},
     "output_type": "display_data"
    }
   ],
   "source": [
    "df = df.drop(\"url\", axis=1)\n",
    "display(df)"
   ]
  },
  {
   "cell_type": "code",
   "execution_count": 4,
   "metadata": {},
   "outputs": [
    {
     "data": {
      "text/html": [
       "<div>\n",
       "<style scoped>\n",
       "    .dataframe tbody tr th:only-of-type {\n",
       "        vertical-align: middle;\n",
       "    }\n",
       "\n",
       "    .dataframe tbody tr th {\n",
       "        vertical-align: top;\n",
       "    }\n",
       "\n",
       "    .dataframe thead th {\n",
       "        text-align: right;\n",
       "    }\n",
       "</style>\n",
       "<table border=\"1\" class=\"dataframe\">\n",
       "  <thead>\n",
       "    <tr style=\"text-align: right;\">\n",
       "      <th></th>\n",
       "      <th>length_url</th>\n",
       "      <th>length_hostname</th>\n",
       "      <th>ip</th>\n",
       "      <th>nb_dots</th>\n",
       "      <th>nb_hyphens</th>\n",
       "      <th>nb_at</th>\n",
       "      <th>nb_qm</th>\n",
       "      <th>nb_and</th>\n",
       "      <th>nb_or</th>\n",
       "      <th>nb_eq</th>\n",
       "      <th>...</th>\n",
       "      <th>domain_with_copyright</th>\n",
       "      <th>whois_registered_domain</th>\n",
       "      <th>domain_registration_length</th>\n",
       "      <th>domain_age</th>\n",
       "      <th>web_traffic</th>\n",
       "      <th>dns_record</th>\n",
       "      <th>google_index</th>\n",
       "      <th>page_rank</th>\n",
       "      <th>legitimate</th>\n",
       "      <th>phishing</th>\n",
       "    </tr>\n",
       "  </thead>\n",
       "  <tbody>\n",
       "    <tr>\n",
       "      <th>0</th>\n",
       "      <td>37</td>\n",
       "      <td>19</td>\n",
       "      <td>0</td>\n",
       "      <td>3</td>\n",
       "      <td>0</td>\n",
       "      <td>0</td>\n",
       "      <td>0</td>\n",
       "      <td>0</td>\n",
       "      <td>0</td>\n",
       "      <td>0</td>\n",
       "      <td>...</td>\n",
       "      <td>1</td>\n",
       "      <td>0</td>\n",
       "      <td>45</td>\n",
       "      <td>-1</td>\n",
       "      <td>0</td>\n",
       "      <td>1</td>\n",
       "      <td>1</td>\n",
       "      <td>4</td>\n",
       "      <td>1</td>\n",
       "      <td>0</td>\n",
       "    </tr>\n",
       "    <tr>\n",
       "      <th>1</th>\n",
       "      <td>77</td>\n",
       "      <td>23</td>\n",
       "      <td>1</td>\n",
       "      <td>1</td>\n",
       "      <td>0</td>\n",
       "      <td>0</td>\n",
       "      <td>0</td>\n",
       "      <td>0</td>\n",
       "      <td>0</td>\n",
       "      <td>0</td>\n",
       "      <td>...</td>\n",
       "      <td>0</td>\n",
       "      <td>0</td>\n",
       "      <td>77</td>\n",
       "      <td>5767</td>\n",
       "      <td>0</td>\n",
       "      <td>0</td>\n",
       "      <td>1</td>\n",
       "      <td>2</td>\n",
       "      <td>0</td>\n",
       "      <td>1</td>\n",
       "    </tr>\n",
       "    <tr>\n",
       "      <th>2</th>\n",
       "      <td>126</td>\n",
       "      <td>50</td>\n",
       "      <td>1</td>\n",
       "      <td>4</td>\n",
       "      <td>1</td>\n",
       "      <td>0</td>\n",
       "      <td>1</td>\n",
       "      <td>2</td>\n",
       "      <td>0</td>\n",
       "      <td>3</td>\n",
       "      <td>...</td>\n",
       "      <td>0</td>\n",
       "      <td>0</td>\n",
       "      <td>14</td>\n",
       "      <td>4004</td>\n",
       "      <td>5828815</td>\n",
       "      <td>0</td>\n",
       "      <td>1</td>\n",
       "      <td>0</td>\n",
       "      <td>0</td>\n",
       "      <td>1</td>\n",
       "    </tr>\n",
       "    <tr>\n",
       "      <th>3</th>\n",
       "      <td>18</td>\n",
       "      <td>11</td>\n",
       "      <td>0</td>\n",
       "      <td>2</td>\n",
       "      <td>0</td>\n",
       "      <td>0</td>\n",
       "      <td>0</td>\n",
       "      <td>0</td>\n",
       "      <td>0</td>\n",
       "      <td>0</td>\n",
       "      <td>...</td>\n",
       "      <td>0</td>\n",
       "      <td>0</td>\n",
       "      <td>62</td>\n",
       "      <td>-1</td>\n",
       "      <td>107721</td>\n",
       "      <td>0</td>\n",
       "      <td>0</td>\n",
       "      <td>3</td>\n",
       "      <td>1</td>\n",
       "      <td>0</td>\n",
       "    </tr>\n",
       "    <tr>\n",
       "      <th>4</th>\n",
       "      <td>55</td>\n",
       "      <td>15</td>\n",
       "      <td>0</td>\n",
       "      <td>2</td>\n",
       "      <td>2</td>\n",
       "      <td>0</td>\n",
       "      <td>0</td>\n",
       "      <td>0</td>\n",
       "      <td>0</td>\n",
       "      <td>0</td>\n",
       "      <td>...</td>\n",
       "      <td>1</td>\n",
       "      <td>0</td>\n",
       "      <td>224</td>\n",
       "      <td>8175</td>\n",
       "      <td>8725</td>\n",
       "      <td>0</td>\n",
       "      <td>0</td>\n",
       "      <td>6</td>\n",
       "      <td>1</td>\n",
       "      <td>0</td>\n",
       "    </tr>\n",
       "    <tr>\n",
       "      <th>...</th>\n",
       "      <td>...</td>\n",
       "      <td>...</td>\n",
       "      <td>...</td>\n",
       "      <td>...</td>\n",
       "      <td>...</td>\n",
       "      <td>...</td>\n",
       "      <td>...</td>\n",
       "      <td>...</td>\n",
       "      <td>...</td>\n",
       "      <td>...</td>\n",
       "      <td>...</td>\n",
       "      <td>...</td>\n",
       "      <td>...</td>\n",
       "      <td>...</td>\n",
       "      <td>...</td>\n",
       "      <td>...</td>\n",
       "      <td>...</td>\n",
       "      <td>...</td>\n",
       "      <td>...</td>\n",
       "      <td>...</td>\n",
       "      <td>...</td>\n",
       "    </tr>\n",
       "    <tr>\n",
       "      <th>11425</th>\n",
       "      <td>45</td>\n",
       "      <td>17</td>\n",
       "      <td>0</td>\n",
       "      <td>2</td>\n",
       "      <td>0</td>\n",
       "      <td>0</td>\n",
       "      <td>0</td>\n",
       "      <td>0</td>\n",
       "      <td>0</td>\n",
       "      <td>0</td>\n",
       "      <td>...</td>\n",
       "      <td>0</td>\n",
       "      <td>0</td>\n",
       "      <td>448</td>\n",
       "      <td>5396</td>\n",
       "      <td>3980</td>\n",
       "      <td>0</td>\n",
       "      <td>0</td>\n",
       "      <td>6</td>\n",
       "      <td>1</td>\n",
       "      <td>0</td>\n",
       "    </tr>\n",
       "    <tr>\n",
       "      <th>11426</th>\n",
       "      <td>84</td>\n",
       "      <td>18</td>\n",
       "      <td>0</td>\n",
       "      <td>5</td>\n",
       "      <td>0</td>\n",
       "      <td>1</td>\n",
       "      <td>1</td>\n",
       "      <td>0</td>\n",
       "      <td>0</td>\n",
       "      <td>1</td>\n",
       "      <td>...</td>\n",
       "      <td>0</td>\n",
       "      <td>0</td>\n",
       "      <td>211</td>\n",
       "      <td>6728</td>\n",
       "      <td>0</td>\n",
       "      <td>0</td>\n",
       "      <td>1</td>\n",
       "      <td>0</td>\n",
       "      <td>0</td>\n",
       "      <td>1</td>\n",
       "    </tr>\n",
       "    <tr>\n",
       "      <th>11427</th>\n",
       "      <td>105</td>\n",
       "      <td>16</td>\n",
       "      <td>1</td>\n",
       "      <td>2</td>\n",
       "      <td>6</td>\n",
       "      <td>0</td>\n",
       "      <td>1</td>\n",
       "      <td>0</td>\n",
       "      <td>0</td>\n",
       "      <td>1</td>\n",
       "      <td>...</td>\n",
       "      <td>0</td>\n",
       "      <td>0</td>\n",
       "      <td>2809</td>\n",
       "      <td>8515</td>\n",
       "      <td>8</td>\n",
       "      <td>0</td>\n",
       "      <td>1</td>\n",
       "      <td>10</td>\n",
       "      <td>1</td>\n",
       "      <td>0</td>\n",
       "    </tr>\n",
       "    <tr>\n",
       "      <th>11428</th>\n",
       "      <td>38</td>\n",
       "      <td>30</td>\n",
       "      <td>0</td>\n",
       "      <td>2</td>\n",
       "      <td>0</td>\n",
       "      <td>0</td>\n",
       "      <td>0</td>\n",
       "      <td>0</td>\n",
       "      <td>0</td>\n",
       "      <td>0</td>\n",
       "      <td>...</td>\n",
       "      <td>0</td>\n",
       "      <td>0</td>\n",
       "      <td>85</td>\n",
       "      <td>2836</td>\n",
       "      <td>2455493</td>\n",
       "      <td>0</td>\n",
       "      <td>0</td>\n",
       "      <td>4</td>\n",
       "      <td>1</td>\n",
       "      <td>0</td>\n",
       "    </tr>\n",
       "    <tr>\n",
       "      <th>11429</th>\n",
       "      <td>477</td>\n",
       "      <td>14</td>\n",
       "      <td>1</td>\n",
       "      <td>24</td>\n",
       "      <td>0</td>\n",
       "      <td>1</td>\n",
       "      <td>1</td>\n",
       "      <td>9</td>\n",
       "      <td>0</td>\n",
       "      <td>9</td>\n",
       "      <td>...</td>\n",
       "      <td>1</td>\n",
       "      <td>1</td>\n",
       "      <td>0</td>\n",
       "      <td>-1</td>\n",
       "      <td>0</td>\n",
       "      <td>1</td>\n",
       "      <td>1</td>\n",
       "      <td>0</td>\n",
       "      <td>0</td>\n",
       "      <td>1</td>\n",
       "    </tr>\n",
       "  </tbody>\n",
       "</table>\n",
       "<p>11430 rows × 89 columns</p>\n",
       "</div>"
      ],
      "text/plain": [
       "       length_url  length_hostname  ip  nb_dots  nb_hyphens  nb_at  nb_qm  \\\n",
       "0              37               19   0        3           0      0      0   \n",
       "1              77               23   1        1           0      0      0   \n",
       "2             126               50   1        4           1      0      1   \n",
       "3              18               11   0        2           0      0      0   \n",
       "4              55               15   0        2           2      0      0   \n",
       "...           ...              ...  ..      ...         ...    ...    ...   \n",
       "11425          45               17   0        2           0      0      0   \n",
       "11426          84               18   0        5           0      1      1   \n",
       "11427         105               16   1        2           6      0      1   \n",
       "11428          38               30   0        2           0      0      0   \n",
       "11429         477               14   1       24           0      1      1   \n",
       "\n",
       "       nb_and  nb_or  nb_eq  ...  domain_with_copyright  \\\n",
       "0           0      0      0  ...                      1   \n",
       "1           0      0      0  ...                      0   \n",
       "2           2      0      3  ...                      0   \n",
       "3           0      0      0  ...                      0   \n",
       "4           0      0      0  ...                      1   \n",
       "...       ...    ...    ...  ...                    ...   \n",
       "11425       0      0      0  ...                      0   \n",
       "11426       0      0      1  ...                      0   \n",
       "11427       0      0      1  ...                      0   \n",
       "11428       0      0      0  ...                      0   \n",
       "11429       9      0      9  ...                      1   \n",
       "\n",
       "       whois_registered_domain  domain_registration_length  domain_age  \\\n",
       "0                            0                          45          -1   \n",
       "1                            0                          77        5767   \n",
       "2                            0                          14        4004   \n",
       "3                            0                          62          -1   \n",
       "4                            0                         224        8175   \n",
       "...                        ...                         ...         ...   \n",
       "11425                        0                         448        5396   \n",
       "11426                        0                         211        6728   \n",
       "11427                        0                        2809        8515   \n",
       "11428                        0                          85        2836   \n",
       "11429                        1                           0          -1   \n",
       "\n",
       "       web_traffic  dns_record  google_index  page_rank  legitimate  phishing  \n",
       "0                0           1             1          4           1         0  \n",
       "1                0           0             1          2           0         1  \n",
       "2          5828815           0             1          0           0         1  \n",
       "3           107721           0             0          3           1         0  \n",
       "4             8725           0             0          6           1         0  \n",
       "...            ...         ...           ...        ...         ...       ...  \n",
       "11425         3980           0             0          6           1         0  \n",
       "11426            0           0             1          0           0         1  \n",
       "11427            8           0             1         10           1         0  \n",
       "11428      2455493           0             0          4           1         0  \n",
       "11429            0           1             1          0           0         1  \n",
       "\n",
       "[11430 rows x 89 columns]"
      ]
     },
     "metadata": {},
     "output_type": "display_data"
    }
   ],
   "source": [
    "status_dummy = pd.get_dummies(df[\"status\"])\n",
    "df = df.drop(\"status\", axis=1).join(status_dummy)\n",
    "display(df)"
   ]
  },
  {
   "cell_type": "code",
   "execution_count": 5,
   "metadata": {},
   "outputs": [
    {
     "data": {
      "text/html": [
       "<div>\n",
       "<style scoped>\n",
       "    .dataframe tbody tr th:only-of-type {\n",
       "        vertical-align: middle;\n",
       "    }\n",
       "\n",
       "    .dataframe tbody tr th {\n",
       "        vertical-align: top;\n",
       "    }\n",
       "\n",
       "    .dataframe thead th {\n",
       "        text-align: right;\n",
       "    }\n",
       "</style>\n",
       "<table border=\"1\" class=\"dataframe\">\n",
       "  <thead>\n",
       "    <tr style=\"text-align: right;\">\n",
       "      <th></th>\n",
       "      <th>length_url</th>\n",
       "      <th>length_hostname</th>\n",
       "      <th>ip</th>\n",
       "      <th>nb_dots</th>\n",
       "      <th>nb_hyphens</th>\n",
       "      <th>nb_at</th>\n",
       "      <th>nb_qm</th>\n",
       "      <th>nb_and</th>\n",
       "      <th>nb_or</th>\n",
       "      <th>nb_eq</th>\n",
       "      <th>...</th>\n",
       "      <th>domain_in_title</th>\n",
       "      <th>domain_with_copyright</th>\n",
       "      <th>whois_registered_domain</th>\n",
       "      <th>domain_registration_length</th>\n",
       "      <th>domain_age</th>\n",
       "      <th>web_traffic</th>\n",
       "      <th>dns_record</th>\n",
       "      <th>google_index</th>\n",
       "      <th>page_rank</th>\n",
       "      <th>phishing</th>\n",
       "    </tr>\n",
       "  </thead>\n",
       "  <tbody>\n",
       "    <tr>\n",
       "      <th>0</th>\n",
       "      <td>37</td>\n",
       "      <td>19</td>\n",
       "      <td>0</td>\n",
       "      <td>3</td>\n",
       "      <td>0</td>\n",
       "      <td>0</td>\n",
       "      <td>0</td>\n",
       "      <td>0</td>\n",
       "      <td>0</td>\n",
       "      <td>0</td>\n",
       "      <td>...</td>\n",
       "      <td>0</td>\n",
       "      <td>1</td>\n",
       "      <td>0</td>\n",
       "      <td>45</td>\n",
       "      <td>-1</td>\n",
       "      <td>0</td>\n",
       "      <td>1</td>\n",
       "      <td>1</td>\n",
       "      <td>4</td>\n",
       "      <td>0</td>\n",
       "    </tr>\n",
       "    <tr>\n",
       "      <th>1</th>\n",
       "      <td>77</td>\n",
       "      <td>23</td>\n",
       "      <td>1</td>\n",
       "      <td>1</td>\n",
       "      <td>0</td>\n",
       "      <td>0</td>\n",
       "      <td>0</td>\n",
       "      <td>0</td>\n",
       "      <td>0</td>\n",
       "      <td>0</td>\n",
       "      <td>...</td>\n",
       "      <td>1</td>\n",
       "      <td>0</td>\n",
       "      <td>0</td>\n",
       "      <td>77</td>\n",
       "      <td>5767</td>\n",
       "      <td>0</td>\n",
       "      <td>0</td>\n",
       "      <td>1</td>\n",
       "      <td>2</td>\n",
       "      <td>1</td>\n",
       "    </tr>\n",
       "    <tr>\n",
       "      <th>2</th>\n",
       "      <td>126</td>\n",
       "      <td>50</td>\n",
       "      <td>1</td>\n",
       "      <td>4</td>\n",
       "      <td>1</td>\n",
       "      <td>0</td>\n",
       "      <td>1</td>\n",
       "      <td>2</td>\n",
       "      <td>0</td>\n",
       "      <td>3</td>\n",
       "      <td>...</td>\n",
       "      <td>1</td>\n",
       "      <td>0</td>\n",
       "      <td>0</td>\n",
       "      <td>14</td>\n",
       "      <td>4004</td>\n",
       "      <td>5828815</td>\n",
       "      <td>0</td>\n",
       "      <td>1</td>\n",
       "      <td>0</td>\n",
       "      <td>1</td>\n",
       "    </tr>\n",
       "    <tr>\n",
       "      <th>3</th>\n",
       "      <td>18</td>\n",
       "      <td>11</td>\n",
       "      <td>0</td>\n",
       "      <td>2</td>\n",
       "      <td>0</td>\n",
       "      <td>0</td>\n",
       "      <td>0</td>\n",
       "      <td>0</td>\n",
       "      <td>0</td>\n",
       "      <td>0</td>\n",
       "      <td>...</td>\n",
       "      <td>1</td>\n",
       "      <td>0</td>\n",
       "      <td>0</td>\n",
       "      <td>62</td>\n",
       "      <td>-1</td>\n",
       "      <td>107721</td>\n",
       "      <td>0</td>\n",
       "      <td>0</td>\n",
       "      <td>3</td>\n",
       "      <td>0</td>\n",
       "    </tr>\n",
       "    <tr>\n",
       "      <th>4</th>\n",
       "      <td>55</td>\n",
       "      <td>15</td>\n",
       "      <td>0</td>\n",
       "      <td>2</td>\n",
       "      <td>2</td>\n",
       "      <td>0</td>\n",
       "      <td>0</td>\n",
       "      <td>0</td>\n",
       "      <td>0</td>\n",
       "      <td>0</td>\n",
       "      <td>...</td>\n",
       "      <td>0</td>\n",
       "      <td>1</td>\n",
       "      <td>0</td>\n",
       "      <td>224</td>\n",
       "      <td>8175</td>\n",
       "      <td>8725</td>\n",
       "      <td>0</td>\n",
       "      <td>0</td>\n",
       "      <td>6</td>\n",
       "      <td>0</td>\n",
       "    </tr>\n",
       "    <tr>\n",
       "      <th>...</th>\n",
       "      <td>...</td>\n",
       "      <td>...</td>\n",
       "      <td>...</td>\n",
       "      <td>...</td>\n",
       "      <td>...</td>\n",
       "      <td>...</td>\n",
       "      <td>...</td>\n",
       "      <td>...</td>\n",
       "      <td>...</td>\n",
       "      <td>...</td>\n",
       "      <td>...</td>\n",
       "      <td>...</td>\n",
       "      <td>...</td>\n",
       "      <td>...</td>\n",
       "      <td>...</td>\n",
       "      <td>...</td>\n",
       "      <td>...</td>\n",
       "      <td>...</td>\n",
       "      <td>...</td>\n",
       "      <td>...</td>\n",
       "      <td>...</td>\n",
       "    </tr>\n",
       "    <tr>\n",
       "      <th>11425</th>\n",
       "      <td>45</td>\n",
       "      <td>17</td>\n",
       "      <td>0</td>\n",
       "      <td>2</td>\n",
       "      <td>0</td>\n",
       "      <td>0</td>\n",
       "      <td>0</td>\n",
       "      <td>0</td>\n",
       "      <td>0</td>\n",
       "      <td>0</td>\n",
       "      <td>...</td>\n",
       "      <td>0</td>\n",
       "      <td>0</td>\n",
       "      <td>0</td>\n",
       "      <td>448</td>\n",
       "      <td>5396</td>\n",
       "      <td>3980</td>\n",
       "      <td>0</td>\n",
       "      <td>0</td>\n",
       "      <td>6</td>\n",
       "      <td>0</td>\n",
       "    </tr>\n",
       "    <tr>\n",
       "      <th>11426</th>\n",
       "      <td>84</td>\n",
       "      <td>18</td>\n",
       "      <td>0</td>\n",
       "      <td>5</td>\n",
       "      <td>0</td>\n",
       "      <td>1</td>\n",
       "      <td>1</td>\n",
       "      <td>0</td>\n",
       "      <td>0</td>\n",
       "      <td>1</td>\n",
       "      <td>...</td>\n",
       "      <td>1</td>\n",
       "      <td>0</td>\n",
       "      <td>0</td>\n",
       "      <td>211</td>\n",
       "      <td>6728</td>\n",
       "      <td>0</td>\n",
       "      <td>0</td>\n",
       "      <td>1</td>\n",
       "      <td>0</td>\n",
       "      <td>1</td>\n",
       "    </tr>\n",
       "    <tr>\n",
       "      <th>11427</th>\n",
       "      <td>105</td>\n",
       "      <td>16</td>\n",
       "      <td>1</td>\n",
       "      <td>2</td>\n",
       "      <td>6</td>\n",
       "      <td>0</td>\n",
       "      <td>1</td>\n",
       "      <td>0</td>\n",
       "      <td>0</td>\n",
       "      <td>1</td>\n",
       "      <td>...</td>\n",
       "      <td>0</td>\n",
       "      <td>0</td>\n",
       "      <td>0</td>\n",
       "      <td>2809</td>\n",
       "      <td>8515</td>\n",
       "      <td>8</td>\n",
       "      <td>0</td>\n",
       "      <td>1</td>\n",
       "      <td>10</td>\n",
       "      <td>0</td>\n",
       "    </tr>\n",
       "    <tr>\n",
       "      <th>11428</th>\n",
       "      <td>38</td>\n",
       "      <td>30</td>\n",
       "      <td>0</td>\n",
       "      <td>2</td>\n",
       "      <td>0</td>\n",
       "      <td>0</td>\n",
       "      <td>0</td>\n",
       "      <td>0</td>\n",
       "      <td>0</td>\n",
       "      <td>0</td>\n",
       "      <td>...</td>\n",
       "      <td>1</td>\n",
       "      <td>0</td>\n",
       "      <td>0</td>\n",
       "      <td>85</td>\n",
       "      <td>2836</td>\n",
       "      <td>2455493</td>\n",
       "      <td>0</td>\n",
       "      <td>0</td>\n",
       "      <td>4</td>\n",
       "      <td>0</td>\n",
       "    </tr>\n",
       "    <tr>\n",
       "      <th>11429</th>\n",
       "      <td>477</td>\n",
       "      <td>14</td>\n",
       "      <td>1</td>\n",
       "      <td>24</td>\n",
       "      <td>0</td>\n",
       "      <td>1</td>\n",
       "      <td>1</td>\n",
       "      <td>9</td>\n",
       "      <td>0</td>\n",
       "      <td>9</td>\n",
       "      <td>...</td>\n",
       "      <td>1</td>\n",
       "      <td>1</td>\n",
       "      <td>1</td>\n",
       "      <td>0</td>\n",
       "      <td>-1</td>\n",
       "      <td>0</td>\n",
       "      <td>1</td>\n",
       "      <td>1</td>\n",
       "      <td>0</td>\n",
       "      <td>1</td>\n",
       "    </tr>\n",
       "  </tbody>\n",
       "</table>\n",
       "<p>11430 rows × 88 columns</p>\n",
       "</div>"
      ],
      "text/plain": [
       "       length_url  length_hostname  ip  nb_dots  nb_hyphens  nb_at  nb_qm  \\\n",
       "0              37               19   0        3           0      0      0   \n",
       "1              77               23   1        1           0      0      0   \n",
       "2             126               50   1        4           1      0      1   \n",
       "3              18               11   0        2           0      0      0   \n",
       "4              55               15   0        2           2      0      0   \n",
       "...           ...              ...  ..      ...         ...    ...    ...   \n",
       "11425          45               17   0        2           0      0      0   \n",
       "11426          84               18   0        5           0      1      1   \n",
       "11427         105               16   1        2           6      0      1   \n",
       "11428          38               30   0        2           0      0      0   \n",
       "11429         477               14   1       24           0      1      1   \n",
       "\n",
       "       nb_and  nb_or  nb_eq  ...  domain_in_title  domain_with_copyright  \\\n",
       "0           0      0      0  ...                0                      1   \n",
       "1           0      0      0  ...                1                      0   \n",
       "2           2      0      3  ...                1                      0   \n",
       "3           0      0      0  ...                1                      0   \n",
       "4           0      0      0  ...                0                      1   \n",
       "...       ...    ...    ...  ...              ...                    ...   \n",
       "11425       0      0      0  ...                0                      0   \n",
       "11426       0      0      1  ...                1                      0   \n",
       "11427       0      0      1  ...                0                      0   \n",
       "11428       0      0      0  ...                1                      0   \n",
       "11429       9      0      9  ...                1                      1   \n",
       "\n",
       "       whois_registered_domain  domain_registration_length  domain_age  \\\n",
       "0                            0                          45          -1   \n",
       "1                            0                          77        5767   \n",
       "2                            0                          14        4004   \n",
       "3                            0                          62          -1   \n",
       "4                            0                         224        8175   \n",
       "...                        ...                         ...         ...   \n",
       "11425                        0                         448        5396   \n",
       "11426                        0                         211        6728   \n",
       "11427                        0                        2809        8515   \n",
       "11428                        0                          85        2836   \n",
       "11429                        1                           0          -1   \n",
       "\n",
       "       web_traffic  dns_record  google_index  page_rank  phishing  \n",
       "0                0           1             1          4         0  \n",
       "1                0           0             1          2         1  \n",
       "2          5828815           0             1          0         1  \n",
       "3           107721           0             0          3         0  \n",
       "4             8725           0             0          6         0  \n",
       "...            ...         ...           ...        ...       ...  \n",
       "11425         3980           0             0          6         0  \n",
       "11426            0           0             1          0         1  \n",
       "11427            8           0             1         10         0  \n",
       "11428      2455493           0             0          4         0  \n",
       "11429            0           1             1          0         1  \n",
       "\n",
       "[11430 rows x 88 columns]"
      ]
     },
     "metadata": {},
     "output_type": "display_data"
    }
   ],
   "source": [
    "df = df.drop(\"legitimate\",axis=1)\n",
    "display(df)"
   ]
  },
  {
   "attachments": {},
   "cell_type": "markdown",
   "metadata": {},
   "source": [
    "#### Scaling"
   ]
  },
  {
   "cell_type": "code",
   "execution_count": 6,
   "metadata": {},
   "outputs": [
    {
     "data": {
      "text/html": [
       "<div>\n",
       "<style scoped>\n",
       "    .dataframe tbody tr th:only-of-type {\n",
       "        vertical-align: middle;\n",
       "    }\n",
       "\n",
       "    .dataframe tbody tr th {\n",
       "        vertical-align: top;\n",
       "    }\n",
       "\n",
       "    .dataframe thead th {\n",
       "        text-align: right;\n",
       "    }\n",
       "</style>\n",
       "<table border=\"1\" class=\"dataframe\">\n",
       "  <thead>\n",
       "    <tr style=\"text-align: right;\">\n",
       "      <th></th>\n",
       "      <th>length_url</th>\n",
       "      <th>length_hostname</th>\n",
       "      <th>ip</th>\n",
       "      <th>nb_dots</th>\n",
       "      <th>nb_hyphens</th>\n",
       "      <th>nb_at</th>\n",
       "      <th>nb_qm</th>\n",
       "      <th>nb_and</th>\n",
       "      <th>nb_or</th>\n",
       "      <th>nb_eq</th>\n",
       "      <th>...</th>\n",
       "      <th>domain_in_title</th>\n",
       "      <th>domain_with_copyright</th>\n",
       "      <th>whois_registered_domain</th>\n",
       "      <th>domain_registration_length</th>\n",
       "      <th>domain_age</th>\n",
       "      <th>web_traffic</th>\n",
       "      <th>dns_record</th>\n",
       "      <th>google_index</th>\n",
       "      <th>page_rank</th>\n",
       "      <th>phishing</th>\n",
       "    </tr>\n",
       "  </thead>\n",
       "  <tbody>\n",
       "    <tr>\n",
       "      <th>0</th>\n",
       "      <td>0.015347</td>\n",
       "      <td>0.071429</td>\n",
       "      <td>0.0</td>\n",
       "      <td>0.086957</td>\n",
       "      <td>0.000000</td>\n",
       "      <td>0.00</td>\n",
       "      <td>0.000000</td>\n",
       "      <td>0.000000</td>\n",
       "      <td>0.0</td>\n",
       "      <td>0.000000</td>\n",
       "      <td>...</td>\n",
       "      <td>0.0</td>\n",
       "      <td>1.0</td>\n",
       "      <td>0.0</td>\n",
       "      <td>0.001542</td>\n",
       "      <td>0.000854</td>\n",
       "      <td>0.000000e+00</td>\n",
       "      <td>1.0</td>\n",
       "      <td>1.0</td>\n",
       "      <td>0.4</td>\n",
       "      <td>0</td>\n",
       "    </tr>\n",
       "    <tr>\n",
       "      <th>1</th>\n",
       "      <td>0.039902</td>\n",
       "      <td>0.090476</td>\n",
       "      <td>1.0</td>\n",
       "      <td>0.000000</td>\n",
       "      <td>0.000000</td>\n",
       "      <td>0.00</td>\n",
       "      <td>0.000000</td>\n",
       "      <td>0.000000</td>\n",
       "      <td>0.0</td>\n",
       "      <td>0.000000</td>\n",
       "      <td>...</td>\n",
       "      <td>1.0</td>\n",
       "      <td>0.0</td>\n",
       "      <td>0.0</td>\n",
       "      <td>0.002615</td>\n",
       "      <td>0.448471</td>\n",
       "      <td>0.000000e+00</td>\n",
       "      <td>0.0</td>\n",
       "      <td>1.0</td>\n",
       "      <td>0.2</td>\n",
       "      <td>1</td>\n",
       "    </tr>\n",
       "    <tr>\n",
       "      <th>2</th>\n",
       "      <td>0.069982</td>\n",
       "      <td>0.219048</td>\n",
       "      <td>1.0</td>\n",
       "      <td>0.130435</td>\n",
       "      <td>0.023256</td>\n",
       "      <td>0.00</td>\n",
       "      <td>0.333333</td>\n",
       "      <td>0.105263</td>\n",
       "      <td>0.0</td>\n",
       "      <td>0.157895</td>\n",
       "      <td>...</td>\n",
       "      <td>1.0</td>\n",
       "      <td>0.0</td>\n",
       "      <td>0.0</td>\n",
       "      <td>0.000503</td>\n",
       "      <td>0.311656</td>\n",
       "      <td>5.413097e-01</td>\n",
       "      <td>0.0</td>\n",
       "      <td>1.0</td>\n",
       "      <td>0.0</td>\n",
       "      <td>1</td>\n",
       "    </tr>\n",
       "    <tr>\n",
       "      <th>3</th>\n",
       "      <td>0.003683</td>\n",
       "      <td>0.033333</td>\n",
       "      <td>0.0</td>\n",
       "      <td>0.043478</td>\n",
       "      <td>0.000000</td>\n",
       "      <td>0.00</td>\n",
       "      <td>0.000000</td>\n",
       "      <td>0.000000</td>\n",
       "      <td>0.0</td>\n",
       "      <td>0.000000</td>\n",
       "      <td>...</td>\n",
       "      <td>1.0</td>\n",
       "      <td>0.0</td>\n",
       "      <td>0.0</td>\n",
       "      <td>0.002112</td>\n",
       "      <td>0.000854</td>\n",
       "      <td>1.000382e-02</td>\n",
       "      <td>0.0</td>\n",
       "      <td>0.0</td>\n",
       "      <td>0.3</td>\n",
       "      <td>0</td>\n",
       "    </tr>\n",
       "    <tr>\n",
       "      <th>4</th>\n",
       "      <td>0.026397</td>\n",
       "      <td>0.052381</td>\n",
       "      <td>0.0</td>\n",
       "      <td>0.043478</td>\n",
       "      <td>0.046512</td>\n",
       "      <td>0.00</td>\n",
       "      <td>0.000000</td>\n",
       "      <td>0.000000</td>\n",
       "      <td>0.0</td>\n",
       "      <td>0.000000</td>\n",
       "      <td>...</td>\n",
       "      <td>0.0</td>\n",
       "      <td>1.0</td>\n",
       "      <td>0.0</td>\n",
       "      <td>0.007543</td>\n",
       "      <td>0.635341</td>\n",
       "      <td>8.102722e-04</td>\n",
       "      <td>0.0</td>\n",
       "      <td>0.0</td>\n",
       "      <td>0.6</td>\n",
       "      <td>0</td>\n",
       "    </tr>\n",
       "    <tr>\n",
       "      <th>...</th>\n",
       "      <td>...</td>\n",
       "      <td>...</td>\n",
       "      <td>...</td>\n",
       "      <td>...</td>\n",
       "      <td>...</td>\n",
       "      <td>...</td>\n",
       "      <td>...</td>\n",
       "      <td>...</td>\n",
       "      <td>...</td>\n",
       "      <td>...</td>\n",
       "      <td>...</td>\n",
       "      <td>...</td>\n",
       "      <td>...</td>\n",
       "      <td>...</td>\n",
       "      <td>...</td>\n",
       "      <td>...</td>\n",
       "      <td>...</td>\n",
       "      <td>...</td>\n",
       "      <td>...</td>\n",
       "      <td>...</td>\n",
       "      <td>...</td>\n",
       "    </tr>\n",
       "    <tr>\n",
       "      <th>11425</th>\n",
       "      <td>0.020258</td>\n",
       "      <td>0.061905</td>\n",
       "      <td>0.0</td>\n",
       "      <td>0.043478</td>\n",
       "      <td>0.000000</td>\n",
       "      <td>0.00</td>\n",
       "      <td>0.000000</td>\n",
       "      <td>0.000000</td>\n",
       "      <td>0.0</td>\n",
       "      <td>0.000000</td>\n",
       "      <td>...</td>\n",
       "      <td>0.0</td>\n",
       "      <td>0.0</td>\n",
       "      <td>0.0</td>\n",
       "      <td>0.015052</td>\n",
       "      <td>0.419680</td>\n",
       "      <td>3.696142e-04</td>\n",
       "      <td>0.0</td>\n",
       "      <td>0.0</td>\n",
       "      <td>0.6</td>\n",
       "      <td>0</td>\n",
       "    </tr>\n",
       "    <tr>\n",
       "      <th>11426</th>\n",
       "      <td>0.044199</td>\n",
       "      <td>0.066667</td>\n",
       "      <td>0.0</td>\n",
       "      <td>0.173913</td>\n",
       "      <td>0.000000</td>\n",
       "      <td>0.25</td>\n",
       "      <td>0.333333</td>\n",
       "      <td>0.000000</td>\n",
       "      <td>0.0</td>\n",
       "      <td>0.052632</td>\n",
       "      <td>...</td>\n",
       "      <td>1.0</td>\n",
       "      <td>0.0</td>\n",
       "      <td>0.0</td>\n",
       "      <td>0.007107</td>\n",
       "      <td>0.523048</td>\n",
       "      <td>0.000000e+00</td>\n",
       "      <td>0.0</td>\n",
       "      <td>1.0</td>\n",
       "      <td>0.0</td>\n",
       "      <td>1</td>\n",
       "    </tr>\n",
       "    <tr>\n",
       "      <th>11427</th>\n",
       "      <td>0.057090</td>\n",
       "      <td>0.057143</td>\n",
       "      <td>1.0</td>\n",
       "      <td>0.043478</td>\n",
       "      <td>0.139535</td>\n",
       "      <td>0.00</td>\n",
       "      <td>0.333333</td>\n",
       "      <td>0.000000</td>\n",
       "      <td>0.0</td>\n",
       "      <td>0.052632</td>\n",
       "      <td>...</td>\n",
       "      <td>0.0</td>\n",
       "      <td>0.0</td>\n",
       "      <td>0.0</td>\n",
       "      <td>0.094200</td>\n",
       "      <td>0.661726</td>\n",
       "      <td>7.429430e-07</td>\n",
       "      <td>0.0</td>\n",
       "      <td>1.0</td>\n",
       "      <td>1.0</td>\n",
       "      <td>0</td>\n",
       "    </tr>\n",
       "    <tr>\n",
       "      <th>11428</th>\n",
       "      <td>0.015961</td>\n",
       "      <td>0.123810</td>\n",
       "      <td>0.0</td>\n",
       "      <td>0.043478</td>\n",
       "      <td>0.000000</td>\n",
       "      <td>0.00</td>\n",
       "      <td>0.000000</td>\n",
       "      <td>0.000000</td>\n",
       "      <td>0.0</td>\n",
       "      <td>0.000000</td>\n",
       "      <td>...</td>\n",
       "      <td>1.0</td>\n",
       "      <td>0.0</td>\n",
       "      <td>0.0</td>\n",
       "      <td>0.002883</td>\n",
       "      <td>0.221015</td>\n",
       "      <td>2.280364e-01</td>\n",
       "      <td>0.0</td>\n",
       "      <td>0.0</td>\n",
       "      <td>0.4</td>\n",
       "      <td>0</td>\n",
       "    </tr>\n",
       "    <tr>\n",
       "      <th>11429</th>\n",
       "      <td>0.285451</td>\n",
       "      <td>0.047619</td>\n",
       "      <td>1.0</td>\n",
       "      <td>1.000000</td>\n",
       "      <td>0.000000</td>\n",
       "      <td>0.25</td>\n",
       "      <td>0.333333</td>\n",
       "      <td>0.473684</td>\n",
       "      <td>0.0</td>\n",
       "      <td>0.473684</td>\n",
       "      <td>...</td>\n",
       "      <td>1.0</td>\n",
       "      <td>1.0</td>\n",
       "      <td>1.0</td>\n",
       "      <td>0.000034</td>\n",
       "      <td>0.000854</td>\n",
       "      <td>0.000000e+00</td>\n",
       "      <td>1.0</td>\n",
       "      <td>1.0</td>\n",
       "      <td>0.0</td>\n",
       "      <td>1</td>\n",
       "    </tr>\n",
       "  </tbody>\n",
       "</table>\n",
       "<p>11430 rows × 88 columns</p>\n",
       "</div>"
      ],
      "text/plain": [
       "       length_url  length_hostname   ip   nb_dots  nb_hyphens  nb_at  \\\n",
       "0        0.015347         0.071429  0.0  0.086957    0.000000   0.00   \n",
       "1        0.039902         0.090476  1.0  0.000000    0.000000   0.00   \n",
       "2        0.069982         0.219048  1.0  0.130435    0.023256   0.00   \n",
       "3        0.003683         0.033333  0.0  0.043478    0.000000   0.00   \n",
       "4        0.026397         0.052381  0.0  0.043478    0.046512   0.00   \n",
       "...           ...              ...  ...       ...         ...    ...   \n",
       "11425    0.020258         0.061905  0.0  0.043478    0.000000   0.00   \n",
       "11426    0.044199         0.066667  0.0  0.173913    0.000000   0.25   \n",
       "11427    0.057090         0.057143  1.0  0.043478    0.139535   0.00   \n",
       "11428    0.015961         0.123810  0.0  0.043478    0.000000   0.00   \n",
       "11429    0.285451         0.047619  1.0  1.000000    0.000000   0.25   \n",
       "\n",
       "          nb_qm    nb_and  nb_or     nb_eq  ...  domain_in_title  \\\n",
       "0      0.000000  0.000000    0.0  0.000000  ...              0.0   \n",
       "1      0.000000  0.000000    0.0  0.000000  ...              1.0   \n",
       "2      0.333333  0.105263    0.0  0.157895  ...              1.0   \n",
       "3      0.000000  0.000000    0.0  0.000000  ...              1.0   \n",
       "4      0.000000  0.000000    0.0  0.000000  ...              0.0   \n",
       "...         ...       ...    ...       ...  ...              ...   \n",
       "11425  0.000000  0.000000    0.0  0.000000  ...              0.0   \n",
       "11426  0.333333  0.000000    0.0  0.052632  ...              1.0   \n",
       "11427  0.333333  0.000000    0.0  0.052632  ...              0.0   \n",
       "11428  0.000000  0.000000    0.0  0.000000  ...              1.0   \n",
       "11429  0.333333  0.473684    0.0  0.473684  ...              1.0   \n",
       "\n",
       "       domain_with_copyright  whois_registered_domain  \\\n",
       "0                        1.0                      0.0   \n",
       "1                        0.0                      0.0   \n",
       "2                        0.0                      0.0   \n",
       "3                        0.0                      0.0   \n",
       "4                        1.0                      0.0   \n",
       "...                      ...                      ...   \n",
       "11425                    0.0                      0.0   \n",
       "11426                    0.0                      0.0   \n",
       "11427                    0.0                      0.0   \n",
       "11428                    0.0                      0.0   \n",
       "11429                    1.0                      1.0   \n",
       "\n",
       "       domain_registration_length  domain_age   web_traffic  dns_record  \\\n",
       "0                        0.001542    0.000854  0.000000e+00         1.0   \n",
       "1                        0.002615    0.448471  0.000000e+00         0.0   \n",
       "2                        0.000503    0.311656  5.413097e-01         0.0   \n",
       "3                        0.002112    0.000854  1.000382e-02         0.0   \n",
       "4                        0.007543    0.635341  8.102722e-04         0.0   \n",
       "...                           ...         ...           ...         ...   \n",
       "11425                    0.015052    0.419680  3.696142e-04         0.0   \n",
       "11426                    0.007107    0.523048  0.000000e+00         0.0   \n",
       "11427                    0.094200    0.661726  7.429430e-07         0.0   \n",
       "11428                    0.002883    0.221015  2.280364e-01         0.0   \n",
       "11429                    0.000034    0.000854  0.000000e+00         1.0   \n",
       "\n",
       "       google_index  page_rank  phishing  \n",
       "0               1.0        0.4         0  \n",
       "1               1.0        0.2         1  \n",
       "2               1.0        0.0         1  \n",
       "3               0.0        0.3         0  \n",
       "4               0.0        0.6         0  \n",
       "...             ...        ...       ...  \n",
       "11425           0.0        0.6         0  \n",
       "11426           1.0        0.0         1  \n",
       "11427           1.0        1.0         0  \n",
       "11428           0.0        0.4         0  \n",
       "11429           1.0        0.0         1  \n",
       "\n",
       "[11430 rows x 88 columns]"
      ]
     },
     "metadata": {},
     "output_type": "display_data"
    }
   ],
   "source": [
    "from sklearn.preprocessing import MinMaxScaler\n",
    "scaler = MinMaxScaler()\n",
    "scaled_df = scaler.fit_transform(df.iloc(axis = 1)[:-1])\n",
    "scaled_df = pd.DataFrame(scaled_df, columns=df.columns.drop(\"phishing\")).join(df.iloc(axis = 1)[-1])\n",
    "display(scaled_df)"
   ]
  },
  {
   "cell_type": "code",
   "execution_count": 8,
   "metadata": {},
   "outputs": [],
   "source": [
    "import pickle\n",
    "pickle.dump(scaler, open('PhishingTester/models/min_max_scaler.sav', 'wb'))"
   ]
  },
  {
   "attachments": {},
   "cell_type": "markdown",
   "metadata": {},
   "source": [
    "### use PCA to visuallize"
   ]
  },
  {
   "cell_type": "code",
   "execution_count": 61,
   "metadata": {},
   "outputs": [
    {
     "data": {
      "text/plain": [
       "array([[-0.44605438, -0.22394008],\n",
       "       [-0.63130708, -0.88138708],\n",
       "       [-0.46771114, -1.14010981],\n",
       "       ...,\n",
       "       [ 0.46060219,  0.58480804],\n",
       "       [ 0.81210886,  0.69726578],\n",
       "       [ 0.7195052 , -0.47200236]])"
      ]
     },
     "metadata": {},
     "output_type": "display_data"
    }
   ],
   "source": [
    "from sklearn.decomposition import PCA\n",
    "pca = PCA(n_components=2)\n",
    "after_pca_data = pca.fit_transform(scaled_df.drop([\"phishing\"], axis = 1))\n",
    "display(after_pca_data)"
   ]
  },
  {
   "cell_type": "code",
   "execution_count": 52,
   "metadata": {},
   "outputs": [
    {
     "data": {
      "text/html": [
       "<div>\n",
       "<style scoped>\n",
       "    .dataframe tbody tr th:only-of-type {\n",
       "        vertical-align: middle;\n",
       "    }\n",
       "\n",
       "    .dataframe tbody tr th {\n",
       "        vertical-align: top;\n",
       "    }\n",
       "\n",
       "    .dataframe thead th {\n",
       "        text-align: right;\n",
       "    }\n",
       "</style>\n",
       "<table border=\"1\" class=\"dataframe\">\n",
       "  <thead>\n",
       "    <tr style=\"text-align: right;\">\n",
       "      <th></th>\n",
       "      <th>0</th>\n",
       "      <th>1</th>\n",
       "      <th>phishing</th>\n",
       "    </tr>\n",
       "  </thead>\n",
       "  <tbody>\n",
       "    <tr>\n",
       "      <th>0</th>\n",
       "      <td>-0.446053</td>\n",
       "      <td>-0.223941</td>\n",
       "      <td>0</td>\n",
       "    </tr>\n",
       "    <tr>\n",
       "      <th>1</th>\n",
       "      <td>-0.631310</td>\n",
       "      <td>-0.881395</td>\n",
       "      <td>1</td>\n",
       "    </tr>\n",
       "    <tr>\n",
       "      <th>2</th>\n",
       "      <td>-0.467711</td>\n",
       "      <td>-1.140107</td>\n",
       "      <td>1</td>\n",
       "    </tr>\n",
       "    <tr>\n",
       "      <th>3</th>\n",
       "      <td>-0.893468</td>\n",
       "      <td>-0.328982</td>\n",
       "      <td>0</td>\n",
       "    </tr>\n",
       "    <tr>\n",
       "      <th>4</th>\n",
       "      <td>0.011032</td>\n",
       "      <td>0.735998</td>\n",
       "      <td>0</td>\n",
       "    </tr>\n",
       "    <tr>\n",
       "      <th>...</th>\n",
       "      <td>...</td>\n",
       "      <td>...</td>\n",
       "      <td>...</td>\n",
       "    </tr>\n",
       "    <tr>\n",
       "      <th>11425</th>\n",
       "      <td>-0.100362</td>\n",
       "      <td>0.756339</td>\n",
       "      <td>0</td>\n",
       "    </tr>\n",
       "    <tr>\n",
       "      <th>11426</th>\n",
       "      <td>-0.063648</td>\n",
       "      <td>-0.882998</td>\n",
       "      <td>1</td>\n",
       "    </tr>\n",
       "    <tr>\n",
       "      <th>11427</th>\n",
       "      <td>0.460600</td>\n",
       "      <td>0.584806</td>\n",
       "      <td>0</td>\n",
       "    </tr>\n",
       "    <tr>\n",
       "      <th>11428</th>\n",
       "      <td>0.812110</td>\n",
       "      <td>0.697264</td>\n",
       "      <td>0</td>\n",
       "    </tr>\n",
       "    <tr>\n",
       "      <th>11429</th>\n",
       "      <td>0.719507</td>\n",
       "      <td>-0.471975</td>\n",
       "      <td>1</td>\n",
       "    </tr>\n",
       "  </tbody>\n",
       "</table>\n",
       "<p>11430 rows × 3 columns</p>\n",
       "</div>"
      ],
      "text/plain": [
       "              0         1  phishing\n",
       "0     -0.446053 -0.223941         0\n",
       "1     -0.631310 -0.881395         1\n",
       "2     -0.467711 -1.140107         1\n",
       "3     -0.893468 -0.328982         0\n",
       "4      0.011032  0.735998         0\n",
       "...         ...       ...       ...\n",
       "11425 -0.100362  0.756339         0\n",
       "11426 -0.063648 -0.882998         1\n",
       "11427  0.460600  0.584806         0\n",
       "11428  0.812110  0.697264         0\n",
       "11429  0.719507 -0.471975         1\n",
       "\n",
       "[11430 rows x 3 columns]"
      ]
     },
     "metadata": {},
     "output_type": "display_data"
    }
   ],
   "source": [
    "after_pca_df = pd.DataFrame(after_pca_data).join(df[\"phishing\"])\n",
    "display(after_pca_df)"
   ]
  },
  {
   "cell_type": "code",
   "execution_count": 57,
   "metadata": {},
   "outputs": [
    {
     "data": {
      "text/plain": [
       "<matplotlib.collections.PathCollection at 0x25466c5f730>"
      ]
     },
     "execution_count": 57,
     "metadata": {},
     "output_type": "execute_result"
    },
    {
     "data": {
      "image/png": "[encoded data removed]",
      "text/plain": [
       "<Figure size 640x480 with 1 Axes>"
      ]
     },
     "metadata": {},
     "output_type": "display_data"
    }
   ],
   "source": [
    "import matplotlib.pyplot as plt\n",
    "legitimate_data = after_pca_df[after_pca_df[\"phishing\"] == 1]\n",
    "phishing_data = after_pca_df[after_pca_df[\"phishing\"] == 0]\n",
    "plt.scatter(legitimate_data[0], legitimate_data[1])\n",
    "plt.scatter(phishing_data[0], phishing_data[1])"
   ]
  },
  {
   "attachments": {},
   "cell_type": "markdown",
   "metadata": {},
   "source": [
    "### feature selection by SelectFromModel"
   ]
  },
  {
   "cell_type": "code",
   "execution_count": 74,
   "metadata": {},
   "outputs": [
    {
     "data": {
      "text/plain": [
       "array(['length_hostname', 'nb_qm', 'nb_www', 'length_words_raw',\n",
       "       'phish_hints', 'nb_hyperlinks', 'domain_registration_length',\n",
       "       'domain_age', 'web_traffic', 'google_index', 'page_rank'],\n",
       "      dtype=object)"
      ]
     },
     "metadata": {},
     "output_type": "display_data"
    }
   ],
   "source": [
    "from sklearn.feature_selection import SelectFromModel\n",
    "from sklearn.tree import DecisionTreeClassifier\n",
    "\n",
    "sfm = SelectFromModel(DecisionTreeClassifier())\n",
    "sfm.fit(scaled_df[scaled_df.columns.copy().delete(-1)], scaled_df[\"phishing\"])\n",
    "selected_features = sfm.get_feature_names_out()\n",
    "display(selected_features)"
   ]
  },
  {
   "attachments": {},
   "cell_type": "markdown",
   "metadata": {},
   "source": [
    "#### Use selected feature"
   ]
  },
  {
   "cell_type": "code",
   "execution_count": 24,
   "metadata": {},
   "outputs": [
    {
     "data": {
      "text/html": [
       "<div>\n",
       "<style scoped>\n",
       "    .dataframe tbody tr th:only-of-type {\n",
       "        vertical-align: middle;\n",
       "    }\n",
       "\n",
       "    .dataframe tbody tr th {\n",
       "        vertical-align: top;\n",
       "    }\n",
       "\n",
       "    .dataframe thead th {\n",
       "        text-align: right;\n",
       "    }\n",
       "</style>\n",
       "<table border=\"1\" class=\"dataframe\">\n",
       "  <thead>\n",
       "    <tr style=\"text-align: right;\">\n",
       "      <th></th>\n",
       "      <th>length_hostname</th>\n",
       "      <th>nb_qm</th>\n",
       "      <th>nb_www</th>\n",
       "      <th>length_words_raw</th>\n",
       "      <th>phish_hints</th>\n",
       "      <th>nb_hyperlinks</th>\n",
       "      <th>domain_registration_length</th>\n",
       "      <th>domain_age</th>\n",
       "      <th>web_traffic</th>\n",
       "      <th>google_index</th>\n",
       "      <th>page_rank</th>\n",
       "      <th>phishing</th>\n",
       "    </tr>\n",
       "  </thead>\n",
       "  <tbody>\n",
       "    <tr>\n",
       "      <th>0</th>\n",
       "      <td>0.071429</td>\n",
       "      <td>0.000000</td>\n",
       "      <td>0.5</td>\n",
       "      <td>0.028571</td>\n",
       "      <td>0.0</td>\n",
       "      <td>0.003649</td>\n",
       "      <td>0.001542</td>\n",
       "      <td>0.000854</td>\n",
       "      <td>0.000000e+00</td>\n",
       "      <td>1.0</td>\n",
       "      <td>0.4</td>\n",
       "      <td>0</td>\n",
       "    </tr>\n",
       "    <tr>\n",
       "      <th>1</th>\n",
       "      <td>0.090476</td>\n",
       "      <td>0.000000</td>\n",
       "      <td>0.0</td>\n",
       "      <td>0.028571</td>\n",
       "      <td>0.0</td>\n",
       "      <td>0.006439</td>\n",
       "      <td>0.002615</td>\n",
       "      <td>0.448471</td>\n",
       "      <td>0.000000e+00</td>\n",
       "      <td>1.0</td>\n",
       "      <td>0.2</td>\n",
       "      <td>1</td>\n",
       "    </tr>\n",
       "    <tr>\n",
       "      <th>2</th>\n",
       "      <td>0.219048</td>\n",
       "      <td>0.333333</td>\n",
       "      <td>0.0</td>\n",
       "      <td>0.104762</td>\n",
       "      <td>0.0</td>\n",
       "      <td>0.000859</td>\n",
       "      <td>0.000503</td>\n",
       "      <td>0.311656</td>\n",
       "      <td>5.413097e-01</td>\n",
       "      <td>1.0</td>\n",
       "      <td>0.0</td>\n",
       "      <td>1</td>\n",
       "    </tr>\n",
       "    <tr>\n",
       "      <th>3</th>\n",
       "      <td>0.033333</td>\n",
       "      <td>0.000000</td>\n",
       "      <td>0.0</td>\n",
       "      <td>0.000000</td>\n",
       "      <td>0.0</td>\n",
       "      <td>0.031981</td>\n",
       "      <td>0.002112</td>\n",
       "      <td>0.000854</td>\n",
       "      <td>1.000382e-02</td>\n",
       "      <td>0.0</td>\n",
       "      <td>0.3</td>\n",
       "      <td>0</td>\n",
       "    </tr>\n",
       "    <tr>\n",
       "      <th>4</th>\n",
       "      <td>0.052381</td>\n",
       "      <td>0.000000</td>\n",
       "      <td>0.5</td>\n",
       "      <td>0.047619</td>\n",
       "      <td>0.0</td>\n",
       "      <td>0.021893</td>\n",
       "      <td>0.007543</td>\n",
       "      <td>0.635341</td>\n",
       "      <td>8.102722e-04</td>\n",
       "      <td>0.0</td>\n",
       "      <td>0.6</td>\n",
       "      <td>0</td>\n",
       "    </tr>\n",
       "    <tr>\n",
       "      <th>...</th>\n",
       "      <td>...</td>\n",
       "      <td>...</td>\n",
       "      <td>...</td>\n",
       "      <td>...</td>\n",
       "      <td>...</td>\n",
       "      <td>...</td>\n",
       "      <td>...</td>\n",
       "      <td>...</td>\n",
       "      <td>...</td>\n",
       "      <td>...</td>\n",
       "      <td>...</td>\n",
       "      <td>...</td>\n",
       "    </tr>\n",
       "    <tr>\n",
       "      <th>11425</th>\n",
       "      <td>0.061905</td>\n",
       "      <td>0.000000</td>\n",
       "      <td>0.5</td>\n",
       "      <td>0.028571</td>\n",
       "      <td>0.0</td>\n",
       "      <td>0.042713</td>\n",
       "      <td>0.015052</td>\n",
       "      <td>0.419680</td>\n",
       "      <td>3.696142e-04</td>\n",
       "      <td>0.0</td>\n",
       "      <td>0.6</td>\n",
       "      <td>0</td>\n",
       "    </tr>\n",
       "    <tr>\n",
       "      <th>11426</th>\n",
       "      <td>0.066667</td>\n",
       "      <td>0.333333</td>\n",
       "      <td>0.5</td>\n",
       "      <td>0.104762</td>\n",
       "      <td>0.0</td>\n",
       "      <td>0.000644</td>\n",
       "      <td>0.007107</td>\n",
       "      <td>0.523048</td>\n",
       "      <td>0.000000e+00</td>\n",
       "      <td>1.0</td>\n",
       "      <td>0.0</td>\n",
       "      <td>1</td>\n",
       "    </tr>\n",
       "    <tr>\n",
       "      <th>11427</th>\n",
       "      <td>0.057143</td>\n",
       "      <td>0.333333</td>\n",
       "      <td>0.5</td>\n",
       "      <td>0.114286</td>\n",
       "      <td>0.0</td>\n",
       "      <td>0.014595</td>\n",
       "      <td>0.094200</td>\n",
       "      <td>0.661726</td>\n",
       "      <td>7.429430e-07</td>\n",
       "      <td>1.0</td>\n",
       "      <td>1.0</td>\n",
       "      <td>0</td>\n",
       "    </tr>\n",
       "    <tr>\n",
       "      <th>11428</th>\n",
       "      <td>0.123810</td>\n",
       "      <td>0.000000</td>\n",
       "      <td>0.5</td>\n",
       "      <td>0.009524</td>\n",
       "      <td>0.0</td>\n",
       "      <td>0.006868</td>\n",
       "      <td>0.002883</td>\n",
       "      <td>0.221015</td>\n",
       "      <td>2.280364e-01</td>\n",
       "      <td>0.0</td>\n",
       "      <td>0.4</td>\n",
       "      <td>0</td>\n",
       "    </tr>\n",
       "    <tr>\n",
       "      <th>11429</th>\n",
       "      <td>0.047619</td>\n",
       "      <td>0.333333</td>\n",
       "      <td>0.5</td>\n",
       "      <td>0.847619</td>\n",
       "      <td>0.3</td>\n",
       "      <td>0.004507</td>\n",
       "      <td>0.000034</td>\n",
       "      <td>0.000854</td>\n",
       "      <td>0.000000e+00</td>\n",
       "      <td>1.0</td>\n",
       "      <td>0.0</td>\n",
       "      <td>1</td>\n",
       "    </tr>\n",
       "  </tbody>\n",
       "</table>\n",
       "<p>11430 rows × 12 columns</p>\n",
       "</div>"
      ],
      "text/plain": [
       "       length_hostname     nb_qm  nb_www  length_words_raw  phish_hints  \\\n",
       "0             0.071429  0.000000     0.5          0.028571          0.0   \n",
       "1             0.090476  0.000000     0.0          0.028571          0.0   \n",
       "2             0.219048  0.333333     0.0          0.104762          0.0   \n",
       "3             0.033333  0.000000     0.0          0.000000          0.0   \n",
       "4             0.052381  0.000000     0.5          0.047619          0.0   \n",
       "...                ...       ...     ...               ...          ...   \n",
       "11425         0.061905  0.000000     0.5          0.028571          0.0   \n",
       "11426         0.066667  0.333333     0.5          0.104762          0.0   \n",
       "11427         0.057143  0.333333     0.5          0.114286          0.0   \n",
       "11428         0.123810  0.000000     0.5          0.009524          0.0   \n",
       "11429         0.047619  0.333333     0.5          0.847619          0.3   \n",
       "\n",
       "       nb_hyperlinks  domain_registration_length  domain_age   web_traffic  \\\n",
       "0           0.003649                    0.001542    0.000854  0.000000e+00   \n",
       "1           0.006439                    0.002615    0.448471  0.000000e+00   \n",
       "2           0.000859                    0.000503    0.311656  5.413097e-01   \n",
       "3           0.031981                    0.002112    0.000854  1.000382e-02   \n",
       "4           0.021893                    0.007543    0.635341  8.102722e-04   \n",
       "...              ...                         ...         ...           ...   \n",
       "11425       0.042713                    0.015052    0.419680  3.696142e-04   \n",
       "11426       0.000644                    0.007107    0.523048  0.000000e+00   \n",
       "11427       0.014595                    0.094200    0.661726  7.429430e-07   \n",
       "11428       0.006868                    0.002883    0.221015  2.280364e-01   \n",
       "11429       0.004507                    0.000034    0.000854  0.000000e+00   \n",
       "\n",
       "       google_index  page_rank  phishing  \n",
       "0               1.0        0.4         0  \n",
       "1               1.0        0.2         1  \n",
       "2               1.0        0.0         1  \n",
       "3               0.0        0.3         0  \n",
       "4               0.0        0.6         0  \n",
       "...             ...        ...       ...  \n",
       "11425           0.0        0.6         0  \n",
       "11426           1.0        0.0         1  \n",
       "11427           1.0        1.0         0  \n",
       "11428           0.0        0.4         0  \n",
       "11429           1.0        0.0         1  \n",
       "\n",
       "[11430 rows x 12 columns]"
      ]
     },
     "metadata": {},
     "output_type": "display_data"
    }
   ],
   "source": [
    "selected_features = ['length_hostname', 'nb_qm', 'nb_www', 'length_words_raw',\n",
    "      'phish_hints', 'nb_hyperlinks', 'domain_registration_length',\n",
    "      'domain_age', 'web_traffic', 'google_index', 'page_rank']\n",
    "\n",
    "selected_df = scaled_df[selected_features].join(scaled_df[\"phishing\"])\n",
    "display(selected_df)"
   ]
  },
  {
   "cell_type": "code",
   "execution_count": 118,
   "metadata": {},
   "outputs": [],
   "source": [
    "selected_X = scaled_df[selected_features]\n",
    "selected_y = scaled_df[\"phishing\"]"
   ]
  },
  {
   "attachments": {},
   "cell_type": "markdown",
   "metadata": {},
   "source": [
    "### Split training data and test data"
   ]
  },
  {
   "cell_type": "code",
   "execution_count": 11,
   "metadata": {},
   "outputs": [
    {
     "ename": "NameError",
     "evalue": "name 'selected_X' is not defined",
     "output_type": "error",
     "traceback": [
      "\u001b[1;31m---------------------------------------------------------------------------\u001b[0m",
      "\u001b[1;31mNameError\u001b[0m                                 Traceback (most recent call last)",
      "Cell \u001b[1;32mIn[11], line 3\u001b[0m\n\u001b[0;32m      1\u001b[0m \u001b[39m# all dataset\u001b[39;00m\n\u001b[0;32m      2\u001b[0m \u001b[39mfrom\u001b[39;00m \u001b[39msklearn\u001b[39;00m\u001b[39m.\u001b[39;00m\u001b[39mmodel_selection\u001b[39;00m \u001b[39mimport\u001b[39;00m train_test_split\n\u001b[1;32m----> 3\u001b[0m X_train, X_test, y_train, y_test \u001b[39m=\u001b[39m train_test_split(selected_X, selected_y, test_size\u001b[39m=\u001b[39m\u001b[39m0.2\u001b[39m)\n",
      "\u001b[1;31mNameError\u001b[0m: name 'selected_X' is not defined"
     ]
    }
   ],
   "source": [
    "# all dataset\n",
    "from sklearn.model_selection import train_test_split\n",
    "X_train, X_test, y_train, y_test = train_test_split(selected_X, selected_y, test_size=0.2)"
   ]
  },
  {
   "cell_type": "code",
   "execution_count": 162,
   "metadata": {},
   "outputs": [
    {
     "data": {
      "text/plain": [
       "array([1829, 1830, 1831, ..., 9141, 9142, 9143])"
      ]
     },
     "metadata": {},
     "output_type": "display_data"
    },
    {
     "data": {
      "text/plain": [
       "array([   0,    1,    2, ..., 1826, 1827, 1828])"
      ]
     },
     "metadata": {},
     "output_type": "display_data"
    },
    {
     "data": {
      "text/plain": [
       "array([   0,    1,    2, ..., 9141, 9142, 9143])"
      ]
     },
     "metadata": {},
     "output_type": "display_data"
    },
    {
     "data": {
      "text/plain": [
       "array([1829, 1830, 1831, ..., 3655, 3656, 3657])"
      ]
     },
     "metadata": {},
     "output_type": "display_data"
    },
    {
     "data": {
      "text/plain": [
       "array([   0,    1,    2, ..., 9141, 9142, 9143])"
      ]
     },
     "metadata": {},
     "output_type": "display_data"
    },
    {
     "data": {
      "text/plain": [
       "array([3658, 3659, 3660, ..., 5484, 5485, 5486])"
      ]
     },
     "metadata": {},
     "output_type": "display_data"
    },
    {
     "data": {
      "text/plain": [
       "array([   0,    1,    2, ..., 9141, 9142, 9143])"
      ]
     },
     "metadata": {},
     "output_type": "display_data"
    },
    {
     "data": {
      "text/plain": [
       "array([5487, 5488, 5489, ..., 7313, 7314, 7315])"
      ]
     },
     "metadata": {},
     "output_type": "display_data"
    },
    {
     "data": {
      "text/plain": [
       "array([   0,    1,    2, ..., 7313, 7314, 7315])"
      ]
     },
     "metadata": {},
     "output_type": "display_data"
    },
    {
     "data": {
      "text/plain": [
       "array([7316, 7317, 7318, ..., 9141, 9142, 9143])"
      ]
     },
     "metadata": {},
     "output_type": "display_data"
    }
   ],
   "source": [
    "from sklearn.model_selection import KFold\n",
    "kf = KFold()\n",
    "s = kf.split(X_train, y_train)\n",
    "\n",
    "X_train_kf = []\n",
    "y_train_kf = []\n",
    "X_test_kf = []\n",
    "y_test_kf = []\n",
    "\n",
    "for train_idx, test_idx in s:\n",
    "    display(train_idx, test_idx)\n",
    "    X_train_kf.append(X_train.iloc[train_idx])\n",
    "    y_train_kf.append(y_train.iloc[train_idx])\n",
    "    X_test_kf.append(X_train.iloc[test_idx])\n",
    "    y_test_kf.append(y_train.iloc[test_idx])"
   ]
  },
  {
   "attachments": {},
   "cell_type": "markdown",
   "metadata": {},
   "source": [
    "### ML method\n",
    "\n",
    "Naive bayse, Random Forset, SVM, k-NN, DNN"
   ]
  },
  {
   "attachments": {},
   "cell_type": "markdown",
   "metadata": {},
   "source": [
    "Naive Bayse"
   ]
  },
  {
   "cell_type": "code",
   "execution_count": 163,
   "metadata": {},
   "outputs": [
    {
     "data": {
      "text/plain": [
       "[0.8879168944778568,\n",
       " 0.8850771869639794,\n",
       " 0.8931830381105743,\n",
       " 0.8917127071823204,\n",
       " 0.8840161569532602]"
      ]
     },
     "metadata": {},
     "output_type": "display_data"
    },
    {
     "data": {
      "text/plain": [
       "0.8883811967375982"
      ]
     },
     "metadata": {},
     "output_type": "display_data"
    }
   ],
   "source": [
    "from sklearn.naive_bayes import GaussianNB\n",
    "from sklearn.metrics import accuracy_score, confusion_matrix, recall_score, precision_score, f1_score\n",
    "\n",
    "scores = []\n",
    "for i in range(0, 5):\n",
    "    nb = GaussianNB()\n",
    "    nb.fit(X_train_kf[i], y_train_kf[i])\n",
    "    y_pred = nb.predict(X_test_kf[i])\n",
    "    score = f1_score(y_test_kf[i], y_pred)\n",
    "    scores.append(score)\n",
    "\n",
    "display(scores)\n",
    "display(sum(scores) / len(scores))"
   ]
  },
  {
   "attachments": {},
   "cell_type": "markdown",
   "metadata": {},
   "source": [
    "Random Forest"
   ]
  },
  {
   "cell_type": "code",
   "execution_count": 164,
   "metadata": {},
   "outputs": [
    {
     "data": {
      "text/plain": [
       "0.9595314164004259"
      ]
     },
     "metadata": {},
     "output_type": "display_data"
    },
    {
     "data": {
      "text/plain": [
       "0.9576365663322186"
      ]
     },
     "metadata": {},
     "output_type": "display_data"
    },
    {
     "data": {
      "text/plain": [
       "0.9620253164556962"
      ]
     },
     "metadata": {},
     "output_type": "display_data"
    },
    {
     "data": {
      "text/plain": [
       "0.9474260679079957"
      ]
     },
     "metadata": {},
     "output_type": "display_data"
    },
    {
     "data": {
      "text/plain": [
       "0.9648526077097506"
      ]
     },
     "metadata": {},
     "output_type": "display_data"
    },
    {
     "data": {
      "text/plain": [
       "[0.9595314164004259,\n",
       " 0.9576365663322186,\n",
       " 0.9620253164556962,\n",
       " 0.9474260679079957,\n",
       " 0.9648526077097506]"
      ]
     },
     "metadata": {},
     "output_type": "display_data"
    },
    {
     "data": {
      "text/plain": [
       "0.9582943949612174"
      ]
     },
     "metadata": {},
     "output_type": "display_data"
    }
   ],
   "source": [
    "from sklearn.ensemble import RandomForestClassifier\n",
    "\n",
    "scores = []\n",
    "for i in range(0, 5):\n",
    "    model_random_forest = RandomForestClassifier(n_estimators=350, random_state=38)\n",
    "    model_random_forest.fit(X_train_kf[i], y_train_kf[i])\n",
    "    y_pred = model_random_forest.predict(X_test_kf[i])\n",
    "    s = f1_score(y_test_kf[i], y_pred)\n",
    "    scores.append(s)\n",
    "    display(s)\n",
    "\n",
    "display(scores)\n",
    "display(sum(scores) / len(scores))"
   ]
  },
  {
   "attachments": {},
   "cell_type": "markdown",
   "metadata": {},
   "source": [
    "SVM"
   ]
  },
  {
   "cell_type": "code",
   "execution_count": 165,
   "metadata": {},
   "outputs": [
    {
     "data": {
      "text/plain": [
       "0.9257503949447078"
      ]
     },
     "metadata": {},
     "output_type": "display_data"
    },
    {
     "data": {
      "text/plain": [
       "0.928061504667765"
      ]
     },
     "metadata": {},
     "output_type": "display_data"
    },
    {
     "data": {
      "text/plain": [
       "0.922037422037422"
      ]
     },
     "metadata": {},
     "output_type": "display_data"
    },
    {
     "data": {
      "text/plain": [
       "0.9274583557227297"
      ]
     },
     "metadata": {},
     "output_type": "display_data"
    },
    {
     "data": {
      "text/plain": [
       "0.9298147108366087"
      ]
     },
     "metadata": {},
     "output_type": "display_data"
    },
    {
     "data": {
      "text/plain": [
       "[0.9257503949447078,\n",
       " 0.928061504667765,\n",
       " 0.922037422037422,\n",
       " 0.9274583557227297,\n",
       " 0.9298147108366087]"
      ]
     },
     "metadata": {},
     "output_type": "display_data"
    },
    {
     "data": {
      "text/plain": [
       "0.9266244776418466"
      ]
     },
     "metadata": {},
     "output_type": "display_data"
    }
   ],
   "source": [
    "from sklearn.svm import SVC\n",
    "\n",
    "scores = []\n",
    "for i in range(5):\n",
    "    model_svm = SVC(C=1)\n",
    "    model_svm.fit(X_train_kf[i], y_train_kf[i])\n",
    "    y_pred = model_svm.predict(X_test_kf[i])\n",
    "    s = f1_score(y_test_kf[i], y_pred)\n",
    "    display(s)\n",
    "    scores.append(s)\n",
    "\n",
    "display(scores)\n",
    "display(sum(scores) / len(scores))"
   ]
  },
  {
   "attachments": {},
   "cell_type": "markdown",
   "metadata": {},
   "source": [
    "KNN"
   ]
  },
  {
   "cell_type": "code",
   "execution_count": 166,
   "metadata": {},
   "outputs": [
    {
     "data": {
      "text/plain": [
       "array([[840,  56],\n",
       "       [ 55, 878]], dtype=int64)"
      ]
     },
     "metadata": {},
     "output_type": "display_data"
    },
    {
     "data": {
      "text/plain": [
       "0.9405463310123191"
      ]
     },
     "metadata": {},
     "output_type": "display_data"
    },
    {
     "data": {
      "text/plain": [
       "array([[868,  62],\n",
       "       [ 63, 836]], dtype=int64)"
      ]
     },
     "metadata": {},
     "output_type": "display_data"
    },
    {
     "data": {
      "text/plain": [
       "0.9304396215915415"
      ]
     },
     "metadata": {},
     "output_type": "display_data"
    },
    {
     "data": {
      "text/plain": [
       "array([[834,  49],\n",
       "       [ 59, 887]], dtype=int64)"
      ]
     },
     "metadata": {},
     "output_type": "display_data"
    },
    {
     "data": {
      "text/plain": [
       "0.9426142401700318"
      ]
     },
     "metadata": {},
     "output_type": "display_data"
    },
    {
     "data": {
      "text/plain": [
       "array([[863,  56],\n",
       "       [ 67, 843]], dtype=int64)"
      ]
     },
     "metadata": {},
     "output_type": "display_data"
    },
    {
     "data": {
      "text/plain": [
       "0.9320066334991708"
      ]
     },
     "metadata": {},
     "output_type": "display_data"
    },
    {
     "data": {
      "text/plain": [
       "array([[890,  59],\n",
       "       [ 52, 827]], dtype=int64)"
      ]
     },
     "metadata": {},
     "output_type": "display_data"
    },
    {
     "data": {
      "text/plain": [
       "0.9371104815864022"
      ]
     },
     "metadata": {},
     "output_type": "display_data"
    },
    {
     "data": {
      "text/plain": [
       "[0.9405463310123191,\n",
       " 0.9304396215915415,\n",
       " 0.9426142401700318,\n",
       " 0.9320066334991708,\n",
       " 0.9371104815864022]"
      ]
     },
     "metadata": {},
     "output_type": "display_data"
    },
    {
     "data": {
      "text/plain": [
       "0.936543461571893"
      ]
     },
     "metadata": {},
     "output_type": "display_data"
    }
   ],
   "source": [
    "from sklearn.neighbors import KNeighborsClassifier\n",
    "\n",
    "scores = []\n",
    "for i in range(5):\n",
    "    model_knn = KNeighborsClassifier(n_neighbors=3)\n",
    "    model_knn.fit(X_train_kf[i], y_train_kf[i])\n",
    "    y_pred = model_knn.predict(X_test_kf[i])\n",
    "    display(confusion_matrix(y_test_kf[i], y_pred))\n",
    "    s = f1_score(y_test_kf[i], y_pred)\n",
    "    display(s)\n",
    "    scores.append(s)\n",
    "\n",
    "display(scores)\n",
    "display(sum(scores) / len(scores))"
   ]
  },
  {
   "attachments": {},
   "cell_type": "markdown",
   "metadata": {},
   "source": [
    "NN"
   ]
  },
  {
   "cell_type": "code",
   "execution_count": 181,
   "metadata": {},
   "outputs": [],
   "source": [
    "import tensorflow as tf\n",
    "from tensorflow import keras\n",
    "from keras import Sequential\n",
    "from keras.layers import Input, Dense, Dropout, BatchNormalization\n",
    "\n",
    "model_list: list[Sequential] = []\n",
    "for i in range(5):\n",
    "    model_nn = Sequential()\n",
    "    model_nn.add(Input(shape=(X_train_kf[i].shape[1], )))\n",
    "    model_nn.add(Dense(256, activation=\"relu\"))\n",
    "    model_nn.add(BatchNormalization())\n",
    "    model_nn.add(Dense(128, activation=\"relu\"))\n",
    "    model_nn.add(BatchNormalization())\n",
    "    model_nn.add(Dropout(0.1))\n",
    "    model_nn.add(Dense(1, activation=\"sigmoid\"))\n",
    "    model_nn.compile(optimizer=\"adamax\", loss=\"binary_crossentropy\")\n",
    "    model_list.append(model_nn)"
   ]
  },
  {
   "cell_type": "code",
   "execution_count": 182,
   "metadata": {},
   "outputs": [
    {
     "name": "stdout",
     "output_type": "stream",
     "text": [
      "58/58 [==============================] - 0s 632us/step\n"
     ]
    },
    {
     "data": {
      "text/plain": [
       "0.9474243228890069"
      ]
     },
     "metadata": {},
     "output_type": "display_data"
    },
    {
     "name": "stdout",
     "output_type": "stream",
     "text": [
      "58/58 [==============================] - 0s 614us/step\n"
     ]
    },
    {
     "data": {
      "text/plain": [
       "0.945213060320974"
      ]
     },
     "metadata": {},
     "output_type": "display_data"
    },
    {
     "name": "stdout",
     "output_type": "stream",
     "text": [
      "58/58 [==============================] - 0s 632us/step\n"
     ]
    },
    {
     "data": {
      "text/plain": [
       "0.944502617801047"
      ]
     },
     "metadata": {},
     "output_type": "display_data"
    },
    {
     "name": "stdout",
     "output_type": "stream",
     "text": [
      "58/58 [==============================] - 0s 649us/step\n"
     ]
    },
    {
     "data": {
      "text/plain": [
       "0.9290038525041278"
      ]
     },
     "metadata": {},
     "output_type": "display_data"
    },
    {
     "name": "stdout",
     "output_type": "stream",
     "text": [
      "58/58 [==============================] - 0s 632us/step\n"
     ]
    },
    {
     "data": {
      "text/plain": [
       "0.9490555237550086"
      ]
     },
     "metadata": {},
     "output_type": "display_data"
    },
    {
     "data": {
      "text/plain": [
       "[0.9474243228890069,\n",
       " 0.945213060320974,\n",
       " 0.944502617801047,\n",
       " 0.9290038525041278,\n",
       " 0.9490555237550086]"
      ]
     },
     "metadata": {},
     "output_type": "display_data"
    },
    {
     "data": {
      "text/plain": [
       "0.9430398754540329"
      ]
     },
     "metadata": {},
     "output_type": "display_data"
    }
   ],
   "source": [
    "scores = []\n",
    "for i in range(5):\n",
    "    model_list[i].fit(X_train_kf[i], y_train_kf[i], epochs=50, verbose=0, batch_size=128)\n",
    "    y_pred = model_list[i].predict(X_test_kf[i])\n",
    "    y_pred_trans = y_pred >= 0.5\n",
    "    s = f1_score(y_test_kf[i], y_pred_trans)\n",
    "    display(s)\n",
    "    scores.append(s)\n",
    "\n",
    "display(scores)\n",
    "display(sum(scores) / len(scores))"
   ]
  },
  {
   "attachments": {},
   "cell_type": "markdown",
   "metadata": {},
   "source": [
    "### Use full dataset"
   ]
  },
  {
   "cell_type": "code",
   "execution_count": 9,
   "metadata": {},
   "outputs": [],
   "source": [
    "# performance metrics\n",
    "from sklearn.metrics import accuracy_score, confusion_matrix, recall_score, precision_score, f1_score\n",
    "def print_perf(y_true, y_pred):\n",
    "    display(\"precision_score: \", precision_score(y_true, y_pred))\n",
    "    display(\"recall_score: \", recall_score(y_true, y_pred))\n",
    "    display(\"f1_score: \", f1_score(y_true, y_pred))\n",
    "    display(\"accu: \", accuracy_score(y_true, y_pred))\n",
    "    display(\"confusion_matrix: \")\n",
    "    display(confusion_matrix(y_true, y_pred))"
   ]
  },
  {
   "attachments": {},
   "cell_type": "markdown",
   "metadata": {},
   "source": [
    "Naive bayse"
   ]
  },
  {
   "cell_type": "code",
   "execution_count": 151,
   "metadata": {},
   "outputs": [
    {
     "data": {
      "text/plain": [
       "'precision_score: '"
      ]
     },
     "metadata": {},
     "output_type": "display_data"
    },
    {
     "data": {
      "text/plain": [
       "0.9206927985414768"
      ]
     },
     "metadata": {},
     "output_type": "display_data"
    },
    {
     "data": {
      "text/plain": [
       "'recall_score: '"
      ]
     },
     "metadata": {},
     "output_type": "display_data"
    },
    {
     "data": {
      "text/plain": [
       "0.8797909407665505"
      ]
     },
     "metadata": {},
     "output_type": "display_data"
    },
    {
     "data": {
      "text/plain": [
       "'f1_score: '"
      ]
     },
     "metadata": {},
     "output_type": "display_data"
    },
    {
     "data": {
      "text/plain": [
       "0.8997772828507795"
      ]
     },
     "metadata": {},
     "output_type": "display_data"
    },
    {
     "data": {
      "text/plain": [
       "'accu: '"
      ]
     },
     "metadata": {},
     "output_type": "display_data"
    },
    {
     "data": {
      "text/plain": [
       "0.9015748031496063"
      ]
     },
     "metadata": {},
     "output_type": "display_data"
    },
    {
     "data": {
      "text/plain": [
       "'confusion_matrix: '"
      ]
     },
     "metadata": {},
     "output_type": "display_data"
    },
    {
     "data": {
      "text/plain": [
       "array([[1051,   87],\n",
       "       [ 138, 1010]], dtype=int64)"
      ]
     },
     "metadata": {},
     "output_type": "display_data"
    }
   ],
   "source": [
    "model_nb = GaussianNB()\n",
    "model_nb.fit(X_train, y_train)\n",
    "y_pred = model_nb.predict(X_test)\n",
    "print_perf(y_test, y_pred)"
   ]
  },
  {
   "attachments": {},
   "cell_type": "markdown",
   "metadata": {},
   "source": [
    "Random Forest"
   ]
  },
  {
   "cell_type": "code",
   "execution_count": 12,
   "metadata": {},
   "outputs": [
    {
     "ename": "NameError",
     "evalue": "name 'X_train' is not defined",
     "output_type": "error",
     "traceback": [
      "\u001b[1;31m---------------------------------------------------------------------------\u001b[0m",
      "\u001b[1;31mNameError\u001b[0m                                 Traceback (most recent call last)",
      "Cell \u001b[1;32mIn[12], line 3\u001b[0m\n\u001b[0;32m      1\u001b[0m \u001b[39mfrom\u001b[39;00m \u001b[39msklearn\u001b[39;00m\u001b[39m.\u001b[39;00m\u001b[39mensemble\u001b[39;00m \u001b[39mimport\u001b[39;00m RandomForestClassifier\n\u001b[0;32m      2\u001b[0m model_random_forest \u001b[39m=\u001b[39m RandomForestClassifier(n_estimators\u001b[39m=\u001b[39m\u001b[39m100\u001b[39m, random_state\u001b[39m=\u001b[39m\u001b[39m47\u001b[39m, n_jobs\u001b[39m=\u001b[39m\u001b[39m-\u001b[39m\u001b[39m1\u001b[39m)\n\u001b[1;32m----> 3\u001b[0m model_random_forest\u001b[39m.\u001b[39mfit(X_train, y_train)\n\u001b[0;32m      4\u001b[0m y_pred \u001b[39m=\u001b[39m model_random_forest\u001b[39m.\u001b[39mpredict(X_test)\n\u001b[0;32m      5\u001b[0m print_perf(y_test, y_pred)\n",
      "\u001b[1;31mNameError\u001b[0m: name 'X_train' is not defined"
     ]
    }
   ],
   "source": [
    "from sklearn.ensemble import RandomForestClassifier\n",
    "model_random_forest = RandomForestClassifier(n_estimators=100, random_state=47, n_jobs=-1)\n",
    "model_random_forest.fit(X_train, y_train)\n",
    "y_pred = model_random_forest.predict(X_test)\n",
    "print_perf(y_test, y_pred)"
   ]
  },
  {
   "attachments": {},
   "cell_type": "markdown",
   "metadata": {},
   "source": [
    "SVM"
   ]
  },
  {
   "cell_type": "code",
   "execution_count": 153,
   "metadata": {},
   "outputs": [
    {
     "data": {
      "text/plain": [
       "'precision_score: '"
      ]
     },
     "metadata": {},
     "output_type": "display_data"
    },
    {
     "data": {
      "text/plain": [
       "0.927536231884058"
      ]
     },
     "metadata": {},
     "output_type": "display_data"
    },
    {
     "data": {
      "text/plain": [
       "'recall_score: '"
      ]
     },
     "metadata": {},
     "output_type": "display_data"
    },
    {
     "data": {
      "text/plain": [
       "0.9477351916376306"
      ]
     },
     "metadata": {},
     "output_type": "display_data"
    },
    {
     "data": {
      "text/plain": [
       "'f1_score: '"
      ]
     },
     "metadata": {},
     "output_type": "display_data"
    },
    {
     "data": {
      "text/plain": [
       "0.9375269280482551"
      ]
     },
     "metadata": {},
     "output_type": "display_data"
    },
    {
     "data": {
      "text/plain": [
       "'accu: '"
      ]
     },
     "metadata": {},
     "output_type": "display_data"
    },
    {
     "data": {
      "text/plain": [
       "0.9365704286964129"
      ]
     },
     "metadata": {},
     "output_type": "display_data"
    },
    {
     "data": {
      "text/plain": [
       "'confusion_matrix: '"
      ]
     },
     "metadata": {},
     "output_type": "display_data"
    },
    {
     "data": {
      "text/plain": [
       "array([[1053,   85],\n",
       "       [  60, 1088]], dtype=int64)"
      ]
     },
     "metadata": {},
     "output_type": "display_data"
    }
   ],
   "source": [
    "model_svm = SVC(C=1)\n",
    "model_svm.fit(X_train, y_train)\n",
    "y_pred = model_svm.predict(X_test)\n",
    "print_perf(y_test, y_pred)"
   ]
  },
  {
   "attachments": {},
   "cell_type": "markdown",
   "metadata": {},
   "source": [
    "KNN"
   ]
  },
  {
   "cell_type": "code",
   "execution_count": 154,
   "metadata": {},
   "outputs": [
    {
     "data": {
      "text/plain": [
       "'precision_score: '"
      ]
     },
     "metadata": {},
     "output_type": "display_data"
    },
    {
     "data": {
      "text/plain": [
       "0.9530141843971631"
      ]
     },
     "metadata": {},
     "output_type": "display_data"
    },
    {
     "data": {
      "text/plain": [
       "'recall_score: '"
      ]
     },
     "metadata": {},
     "output_type": "display_data"
    },
    {
     "data": {
      "text/plain": [
       "0.936411149825784"
      ]
     },
     "metadata": {},
     "output_type": "display_data"
    },
    {
     "data": {
      "text/plain": [
       "'f1_score: '"
      ]
     },
     "metadata": {},
     "output_type": "display_data"
    },
    {
     "data": {
      "text/plain": [
       "0.9446397188049208"
      ]
     },
     "metadata": {},
     "output_type": "display_data"
    },
    {
     "data": {
      "text/plain": [
       "'accu: '"
      ]
     },
     "metadata": {},
     "output_type": "display_data"
    },
    {
     "data": {
      "text/plain": [
       "0.9448818897637795"
      ]
     },
     "metadata": {},
     "output_type": "display_data"
    },
    {
     "data": {
      "text/plain": [
       "'confusion_matrix: '"
      ]
     },
     "metadata": {},
     "output_type": "display_data"
    },
    {
     "data": {
      "text/plain": [
       "array([[1085,   53],\n",
       "       [  73, 1075]], dtype=int64)"
      ]
     },
     "metadata": {},
     "output_type": "display_data"
    }
   ],
   "source": [
    "model_knn = KNeighborsClassifier(n_neighbors=5)\n",
    "model_knn.fit(X_train, y_train)\n",
    "y_pred = model_knn.predict(X_test)\n",
    "print_perf(y_test, y_pred)"
   ]
  },
  {
   "attachments": {},
   "cell_type": "markdown",
   "metadata": {},
   "source": [
    "NN"
   ]
  },
  {
   "cell_type": "code",
   "execution_count": 183,
   "metadata": {},
   "outputs": [],
   "source": [
    "model_nn = Sequential()\n",
    "model_nn.add(Input(shape=(X_train.shape[1], )))\n",
    "model_nn.add(Dense(256, activation=\"relu\"))\n",
    "model_nn.add(BatchNormalization())\n",
    "model_nn.add(Dense(128, activation=\"relu\"))\n",
    "model_nn.add(BatchNormalization())\n",
    "model_nn.add(Dropout(0.1))\n",
    "model_nn.add(Dense(1, activation=\"sigmoid\"))\n",
    "model_nn.compile(optimizer=\"adamax\", loss=\"binary_crossentropy\")"
   ]
  },
  {
   "cell_type": "code",
   "execution_count": 184,
   "metadata": {},
   "outputs": [
    {
     "name": "stdout",
     "output_type": "stream",
     "text": [
      "Epoch 1/50\n",
      "72/72 [==============================] - 1s 2ms/step - loss: 0.2600\n",
      "Epoch 2/50\n",
      "72/72 [==============================] - 0s 2ms/step - loss: 0.1926\n",
      "Epoch 3/50\n",
      "72/72 [==============================] - 0s 2ms/step - loss: 0.1793\n",
      "Epoch 4/50\n",
      "72/72 [==============================] - 0s 2ms/step - loss: 0.1757\n",
      "Epoch 5/50\n",
      "72/72 [==============================] - 0s 2ms/step - loss: 0.1736\n",
      "Epoch 6/50\n",
      "72/72 [==============================] - 0s 2ms/step - loss: 0.1715\n",
      "Epoch 7/50\n",
      "72/72 [==============================] - 0s 2ms/step - loss: 0.1636\n",
      "Epoch 8/50\n",
      "72/72 [==============================] - 0s 2ms/step - loss: 0.1625\n",
      "Epoch 9/50\n",
      "72/72 [==============================] - 0s 2ms/step - loss: 0.1614\n",
      "Epoch 10/50\n",
      "72/72 [==============================] - 0s 2ms/step - loss: 0.1551\n",
      "Epoch 11/50\n",
      "72/72 [==============================] - 0s 2ms/step - loss: 0.1562\n",
      "Epoch 12/50\n",
      "72/72 [==============================] - 0s 2ms/step - loss: 0.1541\n",
      "Epoch 13/50\n",
      "72/72 [==============================] - 0s 2ms/step - loss: 0.1525\n",
      "Epoch 14/50\n",
      "72/72 [==============================] - 0s 2ms/step - loss: 0.1518\n",
      "Epoch 15/50\n",
      "72/72 [==============================] - 0s 2ms/step - loss: 0.1481\n",
      "Epoch 16/50\n",
      "72/72 [==============================] - 0s 2ms/step - loss: 0.1484\n",
      "Epoch 17/50\n",
      "72/72 [==============================] - 0s 2ms/step - loss: 0.1440\n",
      "Epoch 18/50\n",
      "72/72 [==============================] - 0s 2ms/step - loss: 0.1443\n",
      "Epoch 19/50\n",
      "72/72 [==============================] - 0s 2ms/step - loss: 0.1472\n",
      "Epoch 20/50\n",
      "72/72 [==============================] - 0s 2ms/step - loss: 0.1441\n",
      "Epoch 21/50\n",
      "72/72 [==============================] - 0s 2ms/step - loss: 0.1409\n",
      "Epoch 22/50\n",
      "72/72 [==============================] - 0s 2ms/step - loss: 0.1416\n",
      "Epoch 23/50\n",
      "72/72 [==============================] - 0s 2ms/step - loss: 0.1448\n",
      "Epoch 24/50\n",
      "72/72 [==============================] - 0s 2ms/step - loss: 0.1369\n",
      "Epoch 25/50\n",
      "72/72 [==============================] - 0s 2ms/step - loss: 0.1385\n",
      "Epoch 26/50\n",
      "72/72 [==============================] - 0s 2ms/step - loss: 0.1361\n",
      "Epoch 27/50\n",
      "72/72 [==============================] - 0s 2ms/step - loss: 0.1341\n",
      "Epoch 28/50\n",
      "72/72 [==============================] - 0s 2ms/step - loss: 0.1331\n",
      "Epoch 29/50\n",
      "72/72 [==============================] - 0s 2ms/step - loss: 0.1310\n",
      "Epoch 30/50\n",
      "72/72 [==============================] - 0s 2ms/step - loss: 0.1347\n",
      "Epoch 31/50\n",
      "72/72 [==============================] - 0s 2ms/step - loss: 0.1314\n",
      "Epoch 32/50\n",
      "72/72 [==============================] - 0s 2ms/step - loss: 0.1330\n",
      "Epoch 33/50\n",
      "72/72 [==============================] - 0s 2ms/step - loss: 0.1294\n",
      "Epoch 34/50\n",
      "72/72 [==============================] - 0s 2ms/step - loss: 0.1257\n",
      "Epoch 35/50\n",
      "72/72 [==============================] - 0s 2ms/step - loss: 0.1260\n",
      "Epoch 36/50\n",
      "72/72 [==============================] - 0s 2ms/step - loss: 0.1268\n",
      "Epoch 37/50\n",
      "72/72 [==============================] - 0s 2ms/step - loss: 0.1228\n",
      "Epoch 38/50\n",
      "72/72 [==============================] - 0s 2ms/step - loss: 0.1218\n",
      "Epoch 39/50\n",
      "72/72 [==============================] - 0s 2ms/step - loss: 0.1245\n",
      "Epoch 40/50\n",
      "72/72 [==============================] - 0s 2ms/step - loss: 0.1242\n",
      "Epoch 41/50\n",
      "72/72 [==============================] - 0s 2ms/step - loss: 0.1224\n",
      "Epoch 42/50\n",
      "72/72 [==============================] - 0s 2ms/step - loss: 0.1205\n",
      "Epoch 43/50\n",
      "72/72 [==============================] - 0s 2ms/step - loss: 0.1227\n",
      "Epoch 44/50\n",
      "72/72 [==============================] - 0s 2ms/step - loss: 0.1171\n",
      "Epoch 45/50\n",
      "72/72 [==============================] - 0s 2ms/step - loss: 0.1160\n",
      "Epoch 46/50\n",
      "72/72 [==============================] - 0s 2ms/step - loss: 0.1199\n",
      "Epoch 47/50\n",
      "72/72 [==============================] - 0s 2ms/step - loss: 0.1147\n",
      "Epoch 48/50\n",
      "72/72 [==============================] - 0s 2ms/step - loss: 0.1170\n",
      "Epoch 49/50\n",
      "72/72 [==============================] - 0s 2ms/step - loss: 0.1136\n",
      "Epoch 50/50\n",
      "72/72 [==============================] - 0s 2ms/step - loss: 0.1155\n",
      "72/72 [==============================] - 0s 610us/step\n"
     ]
    },
    {
     "data": {
      "text/plain": [
       "'precision_score: '"
      ]
     },
     "metadata": {},
     "output_type": "display_data"
    },
    {
     "data": {
      "text/plain": [
       "0.9585537918871252"
      ]
     },
     "metadata": {},
     "output_type": "display_data"
    },
    {
     "data": {
      "text/plain": [
       "'recall_score: '"
      ]
     },
     "metadata": {},
     "output_type": "display_data"
    },
    {
     "data": {
      "text/plain": [
       "0.9468641114982579"
      ]
     },
     "metadata": {},
     "output_type": "display_data"
    },
    {
     "data": {
      "text/plain": [
       "'f1_score: '"
      ]
     },
     "metadata": {},
     "output_type": "display_data"
    },
    {
     "data": {
      "text/plain": [
       "0.9526730937773883"
      ]
     },
     "metadata": {},
     "output_type": "display_data"
    },
    {
     "data": {
      "text/plain": [
       "'accu: '"
      ]
     },
     "metadata": {},
     "output_type": "display_data"
    },
    {
     "data": {
      "text/plain": [
       "0.952755905511811"
      ]
     },
     "metadata": {},
     "output_type": "display_data"
    },
    {
     "data": {
      "text/plain": [
       "'confusion_matrix: '"
      ]
     },
     "metadata": {},
     "output_type": "display_data"
    },
    {
     "data": {
      "text/plain": [
       "array([[1091,   47],\n",
       "       [  61, 1087]], dtype=int64)"
      ]
     },
     "metadata": {},
     "output_type": "display_data"
    }
   ],
   "source": [
    "model_nn.fit(X_train, y_train, epochs=50, batch_size=128)\n",
    "y_pred = model_nn.predict(X_test)\n",
    "print_perf(y_test, y_pred > 0.5)"
   ]
  },
  {
   "cell_type": "code",
   "execution_count": 212,
   "metadata": {},
   "outputs": [],
   "source": [
    "X_train_full, X_test_full, y_train_full, y_test_full = train_test_split(scaled_df.iloc(axis=1)[:-1], scaled_df.iloc(axis=1)[-1], test_size=0.2)"
   ]
  },
  {
   "cell_type": "code",
   "execution_count": 213,
   "metadata": {},
   "outputs": [],
   "source": [
    "model_nn = Sequential()\n",
    "model_nn.add(Input(shape=(X_train_full.shape[1], )))\n",
    "model_nn.add(Dense(256, activation=\"relu\"))\n",
    "model_nn.add(BatchNormalization())\n",
    "model_nn.add(Dense(128, activation=\"relu\"))\n",
    "model_nn.add(BatchNormalization())\n",
    "model_nn.add(Dropout(0.1))\n",
    "model_nn.add(Dense(1, activation=\"sigmoid\"))\n",
    "model_nn.compile(optimizer=\"adamax\", loss=\"binary_crossentropy\")"
   ]
  },
  {
   "cell_type": "code",
   "execution_count": 214,
   "metadata": {},
   "outputs": [
    {
     "name": "stdout",
     "output_type": "stream",
     "text": [
      "Epoch 1/50\n",
      "72/72 [==============================] - 1s 2ms/step - loss: 0.2333\n",
      "Epoch 2/50\n",
      "72/72 [==============================] - 0s 2ms/step - loss: 0.1523\n",
      "Epoch 3/50\n",
      "72/72 [==============================] - 0s 2ms/step - loss: 0.1367\n",
      "Epoch 4/50\n",
      "72/72 [==============================] - 0s 2ms/step - loss: 0.1206\n",
      "Epoch 5/50\n",
      "72/72 [==============================] - 0s 2ms/step - loss: 0.1073\n",
      "Epoch 6/50\n",
      "72/72 [==============================] - 0s 2ms/step - loss: 0.0987\n",
      "Epoch 7/50\n",
      "72/72 [==============================] - 0s 2ms/step - loss: 0.0948\n",
      "Epoch 8/50\n",
      "72/72 [==============================] - 0s 2ms/step - loss: 0.0878\n",
      "Epoch 9/50\n",
      "72/72 [==============================] - 0s 2ms/step - loss: 0.0802\n",
      "Epoch 10/50\n",
      "72/72 [==============================] - 0s 2ms/step - loss: 0.0778\n",
      "Epoch 11/50\n",
      "72/72 [==============================] - 0s 2ms/step - loss: 0.0701\n",
      "Epoch 12/50\n",
      "72/72 [==============================] - 0s 2ms/step - loss: 0.0657\n",
      "Epoch 13/50\n",
      "72/72 [==============================] - 0s 2ms/step - loss: 0.0631\n",
      "Epoch 14/50\n",
      "72/72 [==============================] - 0s 2ms/step - loss: 0.0572\n",
      "Epoch 15/50\n",
      "72/72 [==============================] - 0s 2ms/step - loss: 0.0551\n",
      "Epoch 16/50\n",
      "72/72 [==============================] - 0s 2ms/step - loss: 0.0496\n",
      "Epoch 17/50\n",
      "72/72 [==============================] - 0s 2ms/step - loss: 0.0476\n",
      "Epoch 18/50\n",
      "72/72 [==============================] - 0s 2ms/step - loss: 0.0442\n",
      "Epoch 19/50\n",
      "72/72 [==============================] - 0s 2ms/step - loss: 0.0409\n",
      "Epoch 20/50\n",
      "72/72 [==============================] - 0s 2ms/step - loss: 0.0404\n",
      "Epoch 21/50\n",
      "72/72 [==============================] - 0s 2ms/step - loss: 0.0371\n",
      "Epoch 22/50\n",
      "72/72 [==============================] - 0s 2ms/step - loss: 0.0380\n",
      "Epoch 23/50\n",
      "72/72 [==============================] - 0s 2ms/step - loss: 0.0324\n",
      "Epoch 24/50\n",
      "72/72 [==============================] - 0s 2ms/step - loss: 0.0331\n",
      "Epoch 25/50\n",
      "72/72 [==============================] - 0s 2ms/step - loss: 0.0291\n",
      "Epoch 26/50\n",
      "72/72 [==============================] - 0s 2ms/step - loss: 0.0314\n",
      "Epoch 27/50\n",
      "72/72 [==============================] - 0s 2ms/step - loss: 0.0267\n",
      "Epoch 28/50\n",
      "72/72 [==============================] - 0s 2ms/step - loss: 0.0248\n",
      "Epoch 29/50\n",
      "72/72 [==============================] - 0s 2ms/step - loss: 0.0235\n",
      "Epoch 30/50\n",
      "72/72 [==============================] - 0s 2ms/step - loss: 0.0232\n",
      "Epoch 31/50\n",
      "72/72 [==============================] - 0s 2ms/step - loss: 0.0219\n",
      "Epoch 32/50\n",
      "72/72 [==============================] - 0s 2ms/step - loss: 0.0214\n",
      "Epoch 33/50\n",
      "72/72 [==============================] - 0s 2ms/step - loss: 0.0191\n",
      "Epoch 34/50\n",
      "72/72 [==============================] - 0s 2ms/step - loss: 0.0165\n",
      "Epoch 35/50\n",
      "72/72 [==============================] - 0s 2ms/step - loss: 0.0173\n",
      "Epoch 36/50\n",
      "72/72 [==============================] - 0s 2ms/step - loss: 0.0177\n",
      "Epoch 37/50\n",
      "72/72 [==============================] - 0s 2ms/step - loss: 0.0156\n",
      "Epoch 38/50\n",
      "72/72 [==============================] - 0s 2ms/step - loss: 0.0148\n",
      "Epoch 39/50\n",
      "72/72 [==============================] - 0s 2ms/step - loss: 0.0146\n",
      "Epoch 40/50\n",
      "72/72 [==============================] - 0s 2ms/step - loss: 0.0144\n",
      "Epoch 41/50\n",
      "72/72 [==============================] - 0s 2ms/step - loss: 0.0128\n",
      "Epoch 42/50\n",
      "72/72 [==============================] - 0s 2ms/step - loss: 0.0132\n",
      "Epoch 43/50\n",
      "72/72 [==============================] - 0s 2ms/step - loss: 0.0126\n",
      "Epoch 44/50\n",
      "72/72 [==============================] - 0s 2ms/step - loss: 0.0115\n",
      "Epoch 45/50\n",
      "72/72 [==============================] - 0s 2ms/step - loss: 0.0098\n",
      "Epoch 46/50\n",
      "72/72 [==============================] - 0s 2ms/step - loss: 0.0107\n",
      "Epoch 47/50\n",
      "72/72 [==============================] - 0s 2ms/step - loss: 0.0107\n",
      "Epoch 48/50\n",
      "72/72 [==============================] - 0s 2ms/step - loss: 0.0095\n",
      "Epoch 49/50\n",
      "72/72 [==============================] - 0s 2ms/step - loss: 0.0080\n",
      "Epoch 50/50\n",
      "72/72 [==============================] - 0s 2ms/step - loss: 0.0111\n",
      "72/72 [==============================] - 0s 634us/step\n"
     ]
    },
    {
     "data": {
      "text/plain": [
       "'precision_score: '"
      ]
     },
     "metadata": {},
     "output_type": "display_data"
    },
    {
     "data": {
      "text/plain": [
       "0.9544235924932976"
      ]
     },
     "metadata": {},
     "output_type": "display_data"
    },
    {
     "data": {
      "text/plain": [
       "'recall_score: '"
      ]
     },
     "metadata": {},
     "output_type": "display_data"
    },
    {
     "data": {
      "text/plain": [
       "0.9552772808586762"
      ]
     },
     "metadata": {},
     "output_type": "display_data"
    },
    {
     "data": {
      "text/plain": [
       "'f1_score: '"
      ]
     },
     "metadata": {},
     "output_type": "display_data"
    },
    {
     "data": {
      "text/plain": [
       "0.9548502458649978"
      ]
     },
     "metadata": {},
     "output_type": "display_data"
    },
    {
     "data": {
      "text/plain": [
       "'accu: '"
      ]
     },
     "metadata": {},
     "output_type": "display_data"
    },
    {
     "data": {
      "text/plain": [
       "0.9558180227471567"
      ]
     },
     "metadata": {},
     "output_type": "display_data"
    },
    {
     "data": {
      "text/plain": [
       "'confusion_matrix: '"
      ]
     },
     "metadata": {},
     "output_type": "display_data"
    },
    {
     "data": {
      "text/plain": [
       "array([[1117,   51],\n",
       "       [  50, 1068]], dtype=int64)"
      ]
     },
     "metadata": {},
     "output_type": "display_data"
    }
   ],
   "source": [
    "model_nn.fit(X_train_full, y_train_full, epochs=50, batch_size=128)\n",
    "y_pred = model_nn.predict(X_test_full)\n",
    "print_perf(y_test_full, y_pred > 0.5)"
   ]
  },
  {
   "attachments": {},
   "cell_type": "markdown",
   "metadata": {},
   "source": [
    "### By only url info"
   ]
  },
  {
   "cell_type": "code",
   "execution_count": 13,
   "metadata": {},
   "outputs": [
    {
     "data": {
      "text/html": [
       "<div>\n",
       "<style scoped>\n",
       "    .dataframe tbody tr th:only-of-type {\n",
       "        vertical-align: middle;\n",
       "    }\n",
       "\n",
       "    .dataframe tbody tr th {\n",
       "        vertical-align: top;\n",
       "    }\n",
       "\n",
       "    .dataframe thead th {\n",
       "        text-align: right;\n",
       "    }\n",
       "</style>\n",
       "<table border=\"1\" class=\"dataframe\">\n",
       "  <thead>\n",
       "    <tr style=\"text-align: right;\">\n",
       "      <th></th>\n",
       "      <th>length_url</th>\n",
       "      <th>length_hostname</th>\n",
       "      <th>ip</th>\n",
       "      <th>nb_dots</th>\n",
       "      <th>nb_hyphens</th>\n",
       "      <th>nb_at</th>\n",
       "      <th>nb_qm</th>\n",
       "      <th>nb_and</th>\n",
       "      <th>nb_or</th>\n",
       "      <th>nb_eq</th>\n",
       "      <th>...</th>\n",
       "      <th>avg_words_raw</th>\n",
       "      <th>avg_word_host</th>\n",
       "      <th>avg_word_path</th>\n",
       "      <th>phish_hints</th>\n",
       "      <th>domain_in_brand</th>\n",
       "      <th>brand_in_subdomain</th>\n",
       "      <th>brand_in_path</th>\n",
       "      <th>suspecious_tld</th>\n",
       "      <th>statistical_report</th>\n",
       "      <th>phishing</th>\n",
       "    </tr>\n",
       "  </thead>\n",
       "  <tbody>\n",
       "    <tr>\n",
       "      <th>0</th>\n",
       "      <td>0.015347</td>\n",
       "      <td>0.071429</td>\n",
       "      <td>0.0</td>\n",
       "      <td>0.086957</td>\n",
       "      <td>0.000000</td>\n",
       "      <td>0.00</td>\n",
       "      <td>0.000000</td>\n",
       "      <td>0.000000</td>\n",
       "      <td>0.0</td>\n",
       "      <td>0.000000</td>\n",
       "      <td>...</td>\n",
       "      <td>0.029703</td>\n",
       "      <td>0.157895</td>\n",
       "      <td>0.018000</td>\n",
       "      <td>0.0</td>\n",
       "      <td>0.0</td>\n",
       "      <td>0.0</td>\n",
       "      <td>0.0</td>\n",
       "      <td>0.0</td>\n",
       "      <td>0.0</td>\n",
       "      <td>0</td>\n",
       "    </tr>\n",
       "    <tr>\n",
       "      <th>1</th>\n",
       "      <td>0.039902</td>\n",
       "      <td>0.090476</td>\n",
       "      <td>1.0</td>\n",
       "      <td>0.000000</td>\n",
       "      <td>0.000000</td>\n",
       "      <td>0.00</td>\n",
       "      <td>0.000000</td>\n",
       "      <td>0.000000</td>\n",
       "      <td>0.0</td>\n",
       "      <td>0.000000</td>\n",
       "      <td>...</td>\n",
       "      <td>0.108911</td>\n",
       "      <td>0.473684</td>\n",
       "      <td>0.058667</td>\n",
       "      <td>0.0</td>\n",
       "      <td>0.0</td>\n",
       "      <td>0.0</td>\n",
       "      <td>0.0</td>\n",
       "      <td>0.0</td>\n",
       "      <td>0.0</td>\n",
       "      <td>1</td>\n",
       "    </tr>\n",
       "    <tr>\n",
       "      <th>2</th>\n",
       "      <td>0.069982</td>\n",
       "      <td>0.219048</td>\n",
       "      <td>1.0</td>\n",
       "      <td>0.130435</td>\n",
       "      <td>0.023256</td>\n",
       "      <td>0.00</td>\n",
       "      <td>0.333333</td>\n",
       "      <td>0.105263</td>\n",
       "      <td>0.0</td>\n",
       "      <td>0.157895</td>\n",
       "      <td>...</td>\n",
       "      <td>0.049505</td>\n",
       "      <td>0.194737</td>\n",
       "      <td>0.032571</td>\n",
       "      <td>0.0</td>\n",
       "      <td>0.0</td>\n",
       "      <td>0.0</td>\n",
       "      <td>0.0</td>\n",
       "      <td>0.0</td>\n",
       "      <td>0.0</td>\n",
       "      <td>1</td>\n",
       "    </tr>\n",
       "    <tr>\n",
       "      <th>3</th>\n",
       "      <td>0.003683</td>\n",
       "      <td>0.033333</td>\n",
       "      <td>0.0</td>\n",
       "      <td>0.043478</td>\n",
       "      <td>0.000000</td>\n",
       "      <td>0.00</td>\n",
       "      <td>0.000000</td>\n",
       "      <td>0.000000</td>\n",
       "      <td>0.0</td>\n",
       "      <td>0.000000</td>\n",
       "      <td>...</td>\n",
       "      <td>0.023762</td>\n",
       "      <td>0.105263</td>\n",
       "      <td>0.000000</td>\n",
       "      <td>0.0</td>\n",
       "      <td>0.0</td>\n",
       "      <td>0.0</td>\n",
       "      <td>0.0</td>\n",
       "      <td>0.0</td>\n",
       "      <td>0.0</td>\n",
       "      <td>0</td>\n",
       "    </tr>\n",
       "    <tr>\n",
       "      <th>4</th>\n",
       "      <td>0.026397</td>\n",
       "      <td>0.052381</td>\n",
       "      <td>0.0</td>\n",
       "      <td>0.043478</td>\n",
       "      <td>0.046512</td>\n",
       "      <td>0.00</td>\n",
       "      <td>0.000000</td>\n",
       "      <td>0.000000</td>\n",
       "      <td>0.0</td>\n",
       "      <td>0.000000</td>\n",
       "      <td>...</td>\n",
       "      <td>0.034323</td>\n",
       "      <td>0.105263</td>\n",
       "      <td>0.028000</td>\n",
       "      <td>0.0</td>\n",
       "      <td>0.0</td>\n",
       "      <td>0.0</td>\n",
       "      <td>0.0</td>\n",
       "      <td>0.0</td>\n",
       "      <td>0.0</td>\n",
       "      <td>0</td>\n",
       "    </tr>\n",
       "    <tr>\n",
       "      <th>...</th>\n",
       "      <td>...</td>\n",
       "      <td>...</td>\n",
       "      <td>...</td>\n",
       "      <td>...</td>\n",
       "      <td>...</td>\n",
       "      <td>...</td>\n",
       "      <td>...</td>\n",
       "      <td>...</td>\n",
       "      <td>...</td>\n",
       "      <td>...</td>\n",
       "      <td>...</td>\n",
       "      <td>...</td>\n",
       "      <td>...</td>\n",
       "      <td>...</td>\n",
       "      <td>...</td>\n",
       "      <td>...</td>\n",
       "      <td>...</td>\n",
       "      <td>...</td>\n",
       "      <td>...</td>\n",
       "      <td>...</td>\n",
       "      <td>...</td>\n",
       "    </tr>\n",
       "    <tr>\n",
       "      <th>11425</th>\n",
       "      <td>0.020258</td>\n",
       "      <td>0.061905</td>\n",
       "      <td>0.0</td>\n",
       "      <td>0.043478</td>\n",
       "      <td>0.000000</td>\n",
       "      <td>0.00</td>\n",
       "      <td>0.000000</td>\n",
       "      <td>0.000000</td>\n",
       "      <td>0.0</td>\n",
       "      <td>0.000000</td>\n",
       "      <td>...</td>\n",
       "      <td>0.045545</td>\n",
       "      <td>0.131579</td>\n",
       "      <td>0.038000</td>\n",
       "      <td>0.0</td>\n",
       "      <td>0.0</td>\n",
       "      <td>0.0</td>\n",
       "      <td>0.0</td>\n",
       "      <td>0.0</td>\n",
       "      <td>0.0</td>\n",
       "      <td>0</td>\n",
       "    </tr>\n",
       "    <tr>\n",
       "      <th>11426</th>\n",
       "      <td>0.044199</td>\n",
       "      <td>0.066667</td>\n",
       "      <td>0.0</td>\n",
       "      <td>0.173913</td>\n",
       "      <td>0.000000</td>\n",
       "      <td>0.25</td>\n",
       "      <td>0.333333</td>\n",
       "      <td>0.000000</td>\n",
       "      <td>0.0</td>\n",
       "      <td>0.052632</td>\n",
       "      <td>...</td>\n",
       "      <td>0.025083</td>\n",
       "      <td>0.144737</td>\n",
       "      <td>0.019600</td>\n",
       "      <td>0.0</td>\n",
       "      <td>0.0</td>\n",
       "      <td>0.0</td>\n",
       "      <td>0.0</td>\n",
       "      <td>0.0</td>\n",
       "      <td>0.0</td>\n",
       "      <td>1</td>\n",
       "    </tr>\n",
       "    <tr>\n",
       "      <th>11427</th>\n",
       "      <td>0.057090</td>\n",
       "      <td>0.057143</td>\n",
       "      <td>1.0</td>\n",
       "      <td>0.043478</td>\n",
       "      <td>0.139535</td>\n",
       "      <td>0.00</td>\n",
       "      <td>0.333333</td>\n",
       "      <td>0.000000</td>\n",
       "      <td>0.0</td>\n",
       "      <td>0.052632</td>\n",
       "      <td>...</td>\n",
       "      <td>0.032902</td>\n",
       "      <td>0.118421</td>\n",
       "      <td>0.025091</td>\n",
       "      <td>0.0</td>\n",
       "      <td>1.0</td>\n",
       "      <td>0.0</td>\n",
       "      <td>0.0</td>\n",
       "      <td>0.0</td>\n",
       "      <td>0.0</td>\n",
       "      <td>0</td>\n",
       "    </tr>\n",
       "    <tr>\n",
       "      <th>11428</th>\n",
       "      <td>0.015961</td>\n",
       "      <td>0.123810</td>\n",
       "      <td>0.0</td>\n",
       "      <td>0.043478</td>\n",
       "      <td>0.000000</td>\n",
       "      <td>0.00</td>\n",
       "      <td>0.000000</td>\n",
       "      <td>0.000000</td>\n",
       "      <td>0.0</td>\n",
       "      <td>0.000000</td>\n",
       "      <td>...</td>\n",
       "      <td>0.083168</td>\n",
       "      <td>0.302632</td>\n",
       "      <td>0.000000</td>\n",
       "      <td>0.0</td>\n",
       "      <td>0.0</td>\n",
       "      <td>0.0</td>\n",
       "      <td>0.0</td>\n",
       "      <td>0.0</td>\n",
       "      <td>0.0</td>\n",
       "      <td>0</td>\n",
       "    </tr>\n",
       "    <tr>\n",
       "      <th>11429</th>\n",
       "      <td>0.285451</td>\n",
       "      <td>0.047619</td>\n",
       "      <td>1.0</td>\n",
       "      <td>1.000000</td>\n",
       "      <td>0.000000</td>\n",
       "      <td>0.25</td>\n",
       "      <td>0.333333</td>\n",
       "      <td>0.473684</td>\n",
       "      <td>0.0</td>\n",
       "      <td>0.473684</td>\n",
       "      <td>...</td>\n",
       "      <td>0.018834</td>\n",
       "      <td>0.046053</td>\n",
       "      <td>0.017814</td>\n",
       "      <td>0.3</td>\n",
       "      <td>0.0</td>\n",
       "      <td>0.0</td>\n",
       "      <td>1.0</td>\n",
       "      <td>0.0</td>\n",
       "      <td>1.0</td>\n",
       "      <td>1</td>\n",
       "    </tr>\n",
       "  </tbody>\n",
       "</table>\n",
       "<p>11430 rows × 57 columns</p>\n",
       "</div>"
      ],
      "text/plain": [
       "       length_url  length_hostname   ip   nb_dots  nb_hyphens  nb_at  \\\n",
       "0        0.015347         0.071429  0.0  0.086957    0.000000   0.00   \n",
       "1        0.039902         0.090476  1.0  0.000000    0.000000   0.00   \n",
       "2        0.069982         0.219048  1.0  0.130435    0.023256   0.00   \n",
       "3        0.003683         0.033333  0.0  0.043478    0.000000   0.00   \n",
       "4        0.026397         0.052381  0.0  0.043478    0.046512   0.00   \n",
       "...           ...              ...  ...       ...         ...    ...   \n",
       "11425    0.020258         0.061905  0.0  0.043478    0.000000   0.00   \n",
       "11426    0.044199         0.066667  0.0  0.173913    0.000000   0.25   \n",
       "11427    0.057090         0.057143  1.0  0.043478    0.139535   0.00   \n",
       "11428    0.015961         0.123810  0.0  0.043478    0.000000   0.00   \n",
       "11429    0.285451         0.047619  1.0  1.000000    0.000000   0.25   \n",
       "\n",
       "          nb_qm    nb_and  nb_or     nb_eq  ...  avg_words_raw  avg_word_host  \\\n",
       "0      0.000000  0.000000    0.0  0.000000  ...       0.029703       0.157895   \n",
       "1      0.000000  0.000000    0.0  0.000000  ...       0.108911       0.473684   \n",
       "2      0.333333  0.105263    0.0  0.157895  ...       0.049505       0.194737   \n",
       "3      0.000000  0.000000    0.0  0.000000  ...       0.023762       0.105263   \n",
       "4      0.000000  0.000000    0.0  0.000000  ...       0.034323       0.105263   \n",
       "...         ...       ...    ...       ...  ...            ...            ...   \n",
       "11425  0.000000  0.000000    0.0  0.000000  ...       0.045545       0.131579   \n",
       "11426  0.333333  0.000000    0.0  0.052632  ...       0.025083       0.144737   \n",
       "11427  0.333333  0.000000    0.0  0.052632  ...       0.032902       0.118421   \n",
       "11428  0.000000  0.000000    0.0  0.000000  ...       0.083168       0.302632   \n",
       "11429  0.333333  0.473684    0.0  0.473684  ...       0.018834       0.046053   \n",
       "\n",
       "       avg_word_path  phish_hints  domain_in_brand  brand_in_subdomain  \\\n",
       "0           0.018000          0.0              0.0                 0.0   \n",
       "1           0.058667          0.0              0.0                 0.0   \n",
       "2           0.032571          0.0              0.0                 0.0   \n",
       "3           0.000000          0.0              0.0                 0.0   \n",
       "4           0.028000          0.0              0.0                 0.0   \n",
       "...              ...          ...              ...                 ...   \n",
       "11425       0.038000          0.0              0.0                 0.0   \n",
       "11426       0.019600          0.0              0.0                 0.0   \n",
       "11427       0.025091          0.0              1.0                 0.0   \n",
       "11428       0.000000          0.0              0.0                 0.0   \n",
       "11429       0.017814          0.3              0.0                 0.0   \n",
       "\n",
       "       brand_in_path  suspecious_tld  statistical_report  phishing  \n",
       "0                0.0             0.0                 0.0         0  \n",
       "1                0.0             0.0                 0.0         1  \n",
       "2                0.0             0.0                 0.0         1  \n",
       "3                0.0             0.0                 0.0         0  \n",
       "4                0.0             0.0                 0.0         0  \n",
       "...              ...             ...                 ...       ...  \n",
       "11425            0.0             0.0                 0.0         0  \n",
       "11426            0.0             0.0                 0.0         1  \n",
       "11427            0.0             0.0                 0.0         0  \n",
       "11428            0.0             0.0                 0.0         0  \n",
       "11429            1.0             0.0                 1.0         1  \n",
       "\n",
       "[11430 rows x 57 columns]"
      ]
     },
     "metadata": {},
     "output_type": "display_data"
    }
   ],
   "source": [
    "df_url_info = scaled_df.iloc(axis=1)[:56].join(scaled_df[\"phishing\"])\n",
    "display(df_url_info)"
   ]
  },
  {
   "cell_type": "code",
   "execution_count": 191,
   "metadata": {},
   "outputs": [
    {
     "data": {
      "text/html": [
       "<div>\n",
       "<style scoped>\n",
       "    .dataframe tbody tr th:only-of-type {\n",
       "        vertical-align: middle;\n",
       "    }\n",
       "\n",
       "    .dataframe tbody tr th {\n",
       "        vertical-align: top;\n",
       "    }\n",
       "\n",
       "    .dataframe thead th {\n",
       "        text-align: right;\n",
       "    }\n",
       "</style>\n",
       "<table border=\"1\" class=\"dataframe\">\n",
       "  <thead>\n",
       "    <tr style=\"text-align: right;\">\n",
       "      <th></th>\n",
       "      <th>length_url</th>\n",
       "      <th>length_hostname</th>\n",
       "      <th>ip</th>\n",
       "      <th>nb_dots</th>\n",
       "      <th>nb_hyphens</th>\n",
       "      <th>nb_at</th>\n",
       "      <th>nb_qm</th>\n",
       "      <th>nb_and</th>\n",
       "      <th>nb_or</th>\n",
       "      <th>nb_eq</th>\n",
       "      <th>...</th>\n",
       "      <th>avg_words_raw</th>\n",
       "      <th>avg_word_host</th>\n",
       "      <th>avg_word_path</th>\n",
       "      <th>phish_hints</th>\n",
       "      <th>domain_in_brand</th>\n",
       "      <th>brand_in_subdomain</th>\n",
       "      <th>brand_in_path</th>\n",
       "      <th>suspecious_tld</th>\n",
       "      <th>statistical_report</th>\n",
       "      <th>phishing</th>\n",
       "    </tr>\n",
       "  </thead>\n",
       "  <tbody>\n",
       "    <tr>\n",
       "      <th>count</th>\n",
       "      <td>11430.000000</td>\n",
       "      <td>11430.000000</td>\n",
       "      <td>11430.000000</td>\n",
       "      <td>11430.000000</td>\n",
       "      <td>11430.000000</td>\n",
       "      <td>11430.000000</td>\n",
       "      <td>11430.000000</td>\n",
       "      <td>11430.000000</td>\n",
       "      <td>11430.0</td>\n",
       "      <td>11430.000000</td>\n",
       "      <td>...</td>\n",
       "      <td>11430.000000</td>\n",
       "      <td>11430.000000</td>\n",
       "      <td>11430.000000</td>\n",
       "      <td>11430.000000</td>\n",
       "      <td>11430.000000</td>\n",
       "      <td>11430.000000</td>\n",
       "      <td>11430.000000</td>\n",
       "      <td>11430.000000</td>\n",
       "      <td>11430.000000</td>\n",
       "      <td>11430.000000</td>\n",
       "    </tr>\n",
       "    <tr>\n",
       "      <th>mean</th>\n",
       "      <td>0.030158</td>\n",
       "      <td>0.081382</td>\n",
       "      <td>0.150569</td>\n",
       "      <td>0.064381</td>\n",
       "      <td>0.023199</td>\n",
       "      <td>0.005556</td>\n",
       "      <td>0.047069</td>\n",
       "      <td>0.008542</td>\n",
       "      <td>0.0</td>\n",
       "      <td>0.015430</td>\n",
       "      <td>...</td>\n",
       "      <td>0.041655</td>\n",
       "      <td>0.175739</td>\n",
       "      <td>0.020370</td>\n",
       "      <td>0.032773</td>\n",
       "      <td>0.104199</td>\n",
       "      <td>0.004112</td>\n",
       "      <td>0.004899</td>\n",
       "      <td>0.017935</td>\n",
       "      <td>0.029878</td>\n",
       "      <td>0.500000</td>\n",
       "    </tr>\n",
       "    <tr>\n",
       "      <th>std</th>\n",
       "      <td>0.033946</td>\n",
       "      <td>0.051320</td>\n",
       "      <td>0.357644</td>\n",
       "      <td>0.059552</td>\n",
       "      <td>0.048537</td>\n",
       "      <td>0.038875</td>\n",
       "      <td>0.121485</td>\n",
       "      <td>0.043228</td>\n",
       "      <td>0.0</td>\n",
       "      <td>0.052543</td>\n",
       "      <td>...</td>\n",
       "      <td>0.032838</td>\n",
       "      <td>0.094169</td>\n",
       "      <td>0.028588</td>\n",
       "      <td>0.084260</td>\n",
       "      <td>0.305533</td>\n",
       "      <td>0.063996</td>\n",
       "      <td>0.069827</td>\n",
       "      <td>0.132722</td>\n",
       "      <td>0.165633</td>\n",
       "      <td>0.500022</td>\n",
       "    </tr>\n",
       "    <tr>\n",
       "      <th>min</th>\n",
       "      <td>0.000000</td>\n",
       "      <td>0.000000</td>\n",
       "      <td>0.000000</td>\n",
       "      <td>0.000000</td>\n",
       "      <td>0.000000</td>\n",
       "      <td>0.000000</td>\n",
       "      <td>0.000000</td>\n",
       "      <td>0.000000</td>\n",
       "      <td>0.0</td>\n",
       "      <td>0.000000</td>\n",
       "      <td>...</td>\n",
       "      <td>0.000000</td>\n",
       "      <td>0.000000</td>\n",
       "      <td>0.000000</td>\n",
       "      <td>0.000000</td>\n",
       "      <td>0.000000</td>\n",
       "      <td>0.000000</td>\n",
       "      <td>0.000000</td>\n",
       "      <td>0.000000</td>\n",
       "      <td>0.000000</td>\n",
       "      <td>0.000000</td>\n",
       "    </tr>\n",
       "    <tr>\n",
       "      <th>25%</th>\n",
       "      <td>0.012891</td>\n",
       "      <td>0.052381</td>\n",
       "      <td>0.000000</td>\n",
       "      <td>0.043478</td>\n",
       "      <td>0.000000</td>\n",
       "      <td>0.000000</td>\n",
       "      <td>0.000000</td>\n",
       "      <td>0.000000</td>\n",
       "      <td>0.0</td>\n",
       "      <td>0.000000</td>\n",
       "      <td>...</td>\n",
       "      <td>0.025743</td>\n",
       "      <td>0.111842</td>\n",
       "      <td>0.000000</td>\n",
       "      <td>0.000000</td>\n",
       "      <td>0.000000</td>\n",
       "      <td>0.000000</td>\n",
       "      <td>0.000000</td>\n",
       "      <td>0.000000</td>\n",
       "      <td>0.000000</td>\n",
       "      <td>0.000000</td>\n",
       "    </tr>\n",
       "    <tr>\n",
       "      <th>50%</th>\n",
       "      <td>0.021486</td>\n",
       "      <td>0.071429</td>\n",
       "      <td>0.000000</td>\n",
       "      <td>0.043478</td>\n",
       "      <td>0.000000</td>\n",
       "      <td>0.000000</td>\n",
       "      <td>0.000000</td>\n",
       "      <td>0.000000</td>\n",
       "      <td>0.0</td>\n",
       "      <td>0.000000</td>\n",
       "      <td>...</td>\n",
       "      <td>0.035644</td>\n",
       "      <td>0.157895</td>\n",
       "      <td>0.019429</td>\n",
       "      <td>0.000000</td>\n",
       "      <td>0.000000</td>\n",
       "      <td>0.000000</td>\n",
       "      <td>0.000000</td>\n",
       "      <td>0.000000</td>\n",
       "      <td>0.000000</td>\n",
       "      <td>0.500000</td>\n",
       "    </tr>\n",
       "    <tr>\n",
       "      <th>75%</th>\n",
       "      <td>0.036219</td>\n",
       "      <td>0.095238</td>\n",
       "      <td>0.000000</td>\n",
       "      <td>0.086957</td>\n",
       "      <td>0.023256</td>\n",
       "      <td>0.000000</td>\n",
       "      <td>0.000000</td>\n",
       "      <td>0.000000</td>\n",
       "      <td>0.0</td>\n",
       "      <td>0.000000</td>\n",
       "      <td>...</td>\n",
       "      <td>0.047525</td>\n",
       "      <td>0.210526</td>\n",
       "      <td>0.026857</td>\n",
       "      <td>0.000000</td>\n",
       "      <td>0.000000</td>\n",
       "      <td>0.000000</td>\n",
       "      <td>0.000000</td>\n",
       "      <td>0.000000</td>\n",
       "      <td>0.000000</td>\n",
       "      <td>1.000000</td>\n",
       "    </tr>\n",
       "    <tr>\n",
       "      <th>max</th>\n",
       "      <td>1.000000</td>\n",
       "      <td>1.000000</td>\n",
       "      <td>1.000000</td>\n",
       "      <td>1.000000</td>\n",
       "      <td>1.000000</td>\n",
       "      <td>1.000000</td>\n",
       "      <td>1.000000</td>\n",
       "      <td>1.000000</td>\n",
       "      <td>0.0</td>\n",
       "      <td>1.000000</td>\n",
       "      <td>...</td>\n",
       "      <td>1.000000</td>\n",
       "      <td>1.000000</td>\n",
       "      <td>1.000000</td>\n",
       "      <td>1.000000</td>\n",
       "      <td>1.000000</td>\n",
       "      <td>1.000000</td>\n",
       "      <td>1.000000</td>\n",
       "      <td>1.000000</td>\n",
       "      <td>1.000000</td>\n",
       "      <td>1.000000</td>\n",
       "    </tr>\n",
       "  </tbody>\n",
       "</table>\n",
       "<p>8 rows × 57 columns</p>\n",
       "</div>"
      ],
      "text/plain": [
       "         length_url  length_hostname            ip       nb_dots  \\\n",
       "count  11430.000000     11430.000000  11430.000000  11430.000000   \n",
       "mean       0.030158         0.081382      0.150569      0.064381   \n",
       "std        0.033946         0.051320      0.357644      0.059552   \n",
       "min        0.000000         0.000000      0.000000      0.000000   \n",
       "25%        0.012891         0.052381      0.000000      0.043478   \n",
       "50%        0.021486         0.071429      0.000000      0.043478   \n",
       "75%        0.036219         0.095238      0.000000      0.086957   \n",
       "max        1.000000         1.000000      1.000000      1.000000   \n",
       "\n",
       "         nb_hyphens         nb_at         nb_qm        nb_and    nb_or  \\\n",
       "count  11430.000000  11430.000000  11430.000000  11430.000000  11430.0   \n",
       "mean       0.023199      0.005556      0.047069      0.008542      0.0   \n",
       "std        0.048537      0.038875      0.121485      0.043228      0.0   \n",
       "min        0.000000      0.000000      0.000000      0.000000      0.0   \n",
       "25%        0.000000      0.000000      0.000000      0.000000      0.0   \n",
       "50%        0.000000      0.000000      0.000000      0.000000      0.0   \n",
       "75%        0.023256      0.000000      0.000000      0.000000      0.0   \n",
       "max        1.000000      1.000000      1.000000      1.000000      0.0   \n",
       "\n",
       "              nb_eq  ...  avg_words_raw  avg_word_host  avg_word_path  \\\n",
       "count  11430.000000  ...   11430.000000   11430.000000   11430.000000   \n",
       "mean       0.015430  ...       0.041655       0.175739       0.020370   \n",
       "std        0.052543  ...       0.032838       0.094169       0.028588   \n",
       "min        0.000000  ...       0.000000       0.000000       0.000000   \n",
       "25%        0.000000  ...       0.025743       0.111842       0.000000   \n",
       "50%        0.000000  ...       0.035644       0.157895       0.019429   \n",
       "75%        0.000000  ...       0.047525       0.210526       0.026857   \n",
       "max        1.000000  ...       1.000000       1.000000       1.000000   \n",
       "\n",
       "        phish_hints  domain_in_brand  brand_in_subdomain  brand_in_path  \\\n",
       "count  11430.000000     11430.000000        11430.000000   11430.000000   \n",
       "mean       0.032773         0.104199            0.004112       0.004899   \n",
       "std        0.084260         0.305533            0.063996       0.069827   \n",
       "min        0.000000         0.000000            0.000000       0.000000   \n",
       "25%        0.000000         0.000000            0.000000       0.000000   \n",
       "50%        0.000000         0.000000            0.000000       0.000000   \n",
       "75%        0.000000         0.000000            0.000000       0.000000   \n",
       "max        1.000000         1.000000            1.000000       1.000000   \n",
       "\n",
       "       suspecious_tld  statistical_report      phishing  \n",
       "count    11430.000000        11430.000000  11430.000000  \n",
       "mean         0.017935            0.029878      0.500000  \n",
       "std          0.132722            0.165633      0.500022  \n",
       "min          0.000000            0.000000      0.000000  \n",
       "25%          0.000000            0.000000      0.000000  \n",
       "50%          0.000000            0.000000      0.500000  \n",
       "75%          0.000000            0.000000      1.000000  \n",
       "max          1.000000            1.000000      1.000000  \n",
       "\n",
       "[8 rows x 57 columns]"
      ]
     },
     "execution_count": 191,
     "metadata": {},
     "output_type": "execute_result"
    }
   ],
   "source": [
    "df_url_info.describe()"
   ]
  },
  {
   "cell_type": "code",
   "execution_count": 195,
   "metadata": {},
   "outputs": [
    {
     "data": {
      "text/plain": [
       "array(['length_url', 'length_hostname', 'nb_dots', 'nb_hyphens',\n",
       "       'nb_slash', 'nb_www', 'https_token', 'ratio_digits_url',\n",
       "       'ratio_digits_host', 'nb_redirection', 'length_words_raw',\n",
       "       'longest_word_path', 'avg_words_raw', 'avg_word_host',\n",
       "       'avg_word_path', 'phish_hints', 'domain_in_brand'], dtype=object)"
      ]
     },
     "execution_count": 195,
     "metadata": {},
     "output_type": "execute_result"
    }
   ],
   "source": [
    "from sklearn.feature_selection import SelectFromModel\n",
    "from sklearn.tree import DecisionTreeClassifier\n",
    "\n",
    "s = SelectFromModel(DecisionTreeClassifier())\n",
    "s.fit(df_url_info.iloc(axis=1)[:-1], df_url_info.phishing)\n",
    "selected_features = s.get_feature_names_out()"
   ]
  },
  {
   "cell_type": "code",
   "execution_count": 16,
   "metadata": {},
   "outputs": [],
   "source": [
    "selected_features = ['length_url', 'length_hostname', 'nb_dots', 'nb_hyphens',\n",
    "       'nb_slash', 'nb_www', 'https_token', 'ratio_digits_url',\n",
    "       'ratio_digits_host', 'nb_redirection', 'length_words_raw',\n",
    "       'longest_word_path', 'avg_words_raw', 'avg_word_host',\n",
    "       'avg_word_path', 'phish_hints', 'domain_in_brand']\n",
    "selected_url_info_X = df_url_info[selected_features]\n",
    "selected_url_info_y = df_url_info[\"phishing\"]"
   ]
  },
  {
   "cell_type": "code",
   "execution_count": 17,
   "metadata": {},
   "outputs": [],
   "source": [
    "from sklearn.model_selection import train_test_split\n",
    "X_train_url, X_test_url, y_train_url, y_test_url = train_test_split(selected_url_info_X, selected_url_info_y, test_size=0.2)"
   ]
  },
  {
   "attachments": {},
   "cell_type": "markdown",
   "metadata": {},
   "source": [
    "Naive Bayes"
   ]
  },
  {
   "cell_type": "code",
   "execution_count": 198,
   "metadata": {},
   "outputs": [
    {
     "data": {
      "text/plain": [
       "'precision_score: '"
      ]
     },
     "metadata": {},
     "output_type": "display_data"
    },
    {
     "data": {
      "text/plain": [
       "0.9076154806491885"
      ]
     },
     "metadata": {},
     "output_type": "display_data"
    },
    {
     "data": {
      "text/plain": [
       "'recall_score: '"
      ]
     },
     "metadata": {},
     "output_type": "display_data"
    },
    {
     "data": {
      "text/plain": [
       "0.6145393068469992"
      ]
     },
     "metadata": {},
     "output_type": "display_data"
    },
    {
     "data": {
      "text/plain": [
       "'f1_score: '"
      ]
     },
     "metadata": {},
     "output_type": "display_data"
    },
    {
     "data": {
      "text/plain": [
       "0.7328629032258065"
      ]
     },
     "metadata": {},
     "output_type": "display_data"
    },
    {
     "data": {
      "text/plain": [
       "'accu: '"
      ]
     },
     "metadata": {},
     "output_type": "display_data"
    },
    {
     "data": {
      "text/plain": [
       "0.7681539807524059"
      ]
     },
     "metadata": {},
     "output_type": "display_data"
    },
    {
     "data": {
      "text/plain": [
       "'confusion_matrix: '"
      ]
     },
     "metadata": {},
     "output_type": "display_data"
    },
    {
     "data": {
      "text/plain": [
       "array([[1029,   74],\n",
       "       [ 456,  727]], dtype=int64)"
      ]
     },
     "metadata": {},
     "output_type": "display_data"
    }
   ],
   "source": [
    "model_nb = GaussianNB()\n",
    "model_nb.fit(X_train_url, y_train_url)\n",
    "y_pred = model_nb.predict(X_test_url)\n",
    "print_perf(y_test_url, y_pred)"
   ]
  },
  {
   "attachments": {},
   "cell_type": "markdown",
   "metadata": {},
   "source": [
    "Random Forest"
   ]
  },
  {
   "cell_type": "code",
   "execution_count": 18,
   "metadata": {},
   "outputs": [
    {
     "data": {
      "text/plain": [
       "'precision_score: '"
      ]
     },
     "metadata": {},
     "output_type": "display_data"
    },
    {
     "data": {
      "text/plain": [
       "0.9046345811051694"
      ]
     },
     "metadata": {},
     "output_type": "display_data"
    },
    {
     "data": {
      "text/plain": [
       "'recall_score: '"
      ]
     },
     "metadata": {},
     "output_type": "display_data"
    },
    {
     "data": {
      "text/plain": [
       "0.8982300884955752"
      ]
     },
     "metadata": {},
     "output_type": "display_data"
    },
    {
     "data": {
      "text/plain": [
       "'f1_score: '"
      ]
     },
     "metadata": {},
     "output_type": "display_data"
    },
    {
     "data": {
      "text/plain": [
       "0.9014209591474245"
      ]
     },
     "metadata": {},
     "output_type": "display_data"
    },
    {
     "data": {
      "text/plain": [
       "'accu: '"
      ]
     },
     "metadata": {},
     "output_type": "display_data"
    },
    {
     "data": {
      "text/plain": [
       "0.9028871391076115"
      ]
     },
     "metadata": {},
     "output_type": "display_data"
    },
    {
     "data": {
      "text/plain": [
       "'confusion_matrix: '"
      ]
     },
     "metadata": {},
     "output_type": "display_data"
    },
    {
     "data": {
      "text/plain": [
       "array([[1049,  107],\n",
       "       [ 115, 1015]], dtype=int64)"
      ]
     },
     "metadata": {},
     "output_type": "display_data"
    }
   ],
   "source": [
    "from sklearn.ensemble import RandomForestClassifier\n",
    "model_random_forest = RandomForestClassifier(n_estimators=100, random_state=47, n_jobs=-1)\n",
    "model_ = model_random_forest\n",
    "model_.fit(X_train_url, y_train_url)\n",
    "y_pred = model_.predict(X_test_url)\n",
    "print_perf(y_test_url, y_pred)"
   ]
  },
  {
   "cell_type": "code",
   "execution_count": 20,
   "metadata": {},
   "outputs": [],
   "source": [
    "import pickle\n",
    "import os\n",
    "pickle.dump(model_random_forest, open(\"PhishingTester/models/random_forest_model.sav\", \"wb\"))"
   ]
  },
  {
   "attachments": {},
   "cell_type": "markdown",
   "metadata": {},
   "source": [
    "SVM"
   ]
  },
  {
   "cell_type": "code",
   "execution_count": 200,
   "metadata": {},
   "outputs": [
    {
     "data": {
      "text/plain": [
       "'precision_score: '"
      ]
     },
     "metadata": {},
     "output_type": "display_data"
    },
    {
     "data": {
      "text/plain": [
       "0.8220810166799047"
      ]
     },
     "metadata": {},
     "output_type": "display_data"
    },
    {
     "data": {
      "text/plain": [
       "'recall_score: '"
      ]
     },
     "metadata": {},
     "output_type": "display_data"
    },
    {
     "data": {
      "text/plain": [
       "0.874894336432798"
      ]
     },
     "metadata": {},
     "output_type": "display_data"
    },
    {
     "data": {
      "text/plain": [
       "'f1_score: '"
      ]
     },
     "metadata": {},
     "output_type": "display_data"
    },
    {
     "data": {
      "text/plain": [
       "0.8476658476658477"
      ]
     },
     "metadata": {},
     "output_type": "display_data"
    },
    {
     "data": {
      "text/plain": [
       "'accu: '"
      ]
     },
     "metadata": {},
     "output_type": "display_data"
    },
    {
     "data": {
      "text/plain": [
       "0.8372703412073491"
      ]
     },
     "metadata": {},
     "output_type": "display_data"
    },
    {
     "data": {
      "text/plain": [
       "'confusion_matrix: '"
      ]
     },
     "metadata": {},
     "output_type": "display_data"
    },
    {
     "data": {
      "text/plain": [
       "array([[ 879,  224],\n",
       "       [ 148, 1035]], dtype=int64)"
      ]
     },
     "metadata": {},
     "output_type": "display_data"
    }
   ],
   "source": [
    "model_svm = SVC(C=1)\n",
    "model_ = model_svm\n",
    "model_.fit(X_train_url, y_train_url)\n",
    "y_pred = model_.predict(X_test_url)\n",
    "print_perf(y_test_url, y_pred)"
   ]
  },
  {
   "attachments": {},
   "cell_type": "markdown",
   "metadata": {},
   "source": [
    "KNN"
   ]
  },
  {
   "cell_type": "code",
   "execution_count": 202,
   "metadata": {},
   "outputs": [
    {
     "data": {
      "text/plain": [
       "'precision_score: '"
      ]
     },
     "metadata": {},
     "output_type": "display_data"
    },
    {
     "data": {
      "text/plain": [
       "0.8987566607460036"
      ]
     },
     "metadata": {},
     "output_type": "display_data"
    },
    {
     "data": {
      "text/plain": [
       "'recall_score: '"
      ]
     },
     "metadata": {},
     "output_type": "display_data"
    },
    {
     "data": {
      "text/plain": [
       "0.8554522400676247"
      ]
     },
     "metadata": {},
     "output_type": "display_data"
    },
    {
     "data": {
      "text/plain": [
       "'f1_score: '"
      ]
     },
     "metadata": {},
     "output_type": "display_data"
    },
    {
     "data": {
      "text/plain": [
       "0.8765699436985708"
      ]
     },
     "metadata": {},
     "output_type": "display_data"
    },
    {
     "data": {
      "text/plain": [
       "'accu: '"
      ]
     },
     "metadata": {},
     "output_type": "display_data"
    },
    {
     "data": {
      "text/plain": [
       "0.8753280839895013"
      ]
     },
     "metadata": {},
     "output_type": "display_data"
    },
    {
     "data": {
      "text/plain": [
       "'confusion_matrix: '"
      ]
     },
     "metadata": {},
     "output_type": "display_data"
    },
    {
     "data": {
      "text/plain": [
       "array([[ 989,  114],\n",
       "       [ 171, 1012]], dtype=int64)"
      ]
     },
     "metadata": {},
     "output_type": "display_data"
    }
   ],
   "source": [
    "model_knn = KNeighborsClassifier(n_neighbors=5)\n",
    "model_ = model_knn\n",
    "model_.fit(X_train_url, y_train_url)\n",
    "y_pred = model_.predict(X_test_url)\n",
    "print_perf(y_test_url, y_pred)"
   ]
  },
  {
   "attachments": {},
   "cell_type": "markdown",
   "metadata": {},
   "source": [
    "NN"
   ]
  },
  {
   "cell_type": "code",
   "execution_count": 205,
   "metadata": {},
   "outputs": [],
   "source": [
    "model_nn = Sequential()\n",
    "model_nn.add(Input(shape=(X_train_url.shape[1], )))\n",
    "model_nn.add(Dense(256, activation=\"relu\"))\n",
    "model_nn.add(BatchNormalization())\n",
    "model_nn.add(Dense(128, activation=\"relu\"))\n",
    "model_nn.add(BatchNormalization())\n",
    "model_nn.add(Dropout(0.1))\n",
    "model_nn.add(Dense(1, activation=\"sigmoid\"))\n",
    "model_nn.compile(optimizer=\"adamax\", loss=\"binary_crossentropy\")"
   ]
  },
  {
   "cell_type": "code",
   "execution_count": 206,
   "metadata": {},
   "outputs": [
    {
     "name": "stdout",
     "output_type": "stream",
     "text": [
      "Epoch 1/50\n",
      "286/286 [==============================] - 1s 1ms/step - loss: 0.4166\n",
      "Epoch 2/50\n",
      "286/286 [==============================] - 0s 1ms/step - loss: 0.3705\n",
      "Epoch 3/50\n",
      "286/286 [==============================] - 0s 1ms/step - loss: 0.3543\n",
      "Epoch 4/50\n",
      "286/286 [==============================] - 0s 1ms/step - loss: 0.3443\n",
      "Epoch 5/50\n",
      "286/286 [==============================] - 0s 1ms/step - loss: 0.3355\n",
      "Epoch 6/50\n",
      "286/286 [==============================] - 0s 1ms/step - loss: 0.3287\n",
      "Epoch 7/50\n",
      "286/286 [==============================] - 0s 1ms/step - loss: 0.3245\n",
      "Epoch 8/50\n",
      "286/286 [==============================] - 0s 1ms/step - loss: 0.3170\n",
      "Epoch 9/50\n",
      "286/286 [==============================] - 0s 1ms/step - loss: 0.3163\n",
      "Epoch 10/50\n",
      "286/286 [==============================] - 0s 1ms/step - loss: 0.3052\n",
      "Epoch 11/50\n",
      "286/286 [==============================] - 0s 1ms/step - loss: 0.3035\n",
      "Epoch 12/50\n",
      "286/286 [==============================] - 0s 1ms/step - loss: 0.2953\n",
      "Epoch 13/50\n",
      "286/286 [==============================] - 0s 1ms/step - loss: 0.2944\n",
      "Epoch 14/50\n",
      "286/286 [==============================] - 0s 1ms/step - loss: 0.2919\n",
      "Epoch 15/50\n",
      "286/286 [==============================] - 0s 1ms/step - loss: 0.2921\n",
      "Epoch 16/50\n",
      "286/286 [==============================] - 0s 1ms/step - loss: 0.2834\n",
      "Epoch 17/50\n",
      "286/286 [==============================] - 0s 1ms/step - loss: 0.2810\n",
      "Epoch 18/50\n",
      "286/286 [==============================] - 0s 1ms/step - loss: 0.2831\n",
      "Epoch 19/50\n",
      "286/286 [==============================] - 0s 1ms/step - loss: 0.2740\n",
      "Epoch 20/50\n",
      "286/286 [==============================] - 0s 1ms/step - loss: 0.2742\n",
      "Epoch 21/50\n",
      "286/286 [==============================] - 0s 1ms/step - loss: 0.2715\n",
      "Epoch 22/50\n",
      "286/286 [==============================] - 0s 1ms/step - loss: 0.2759\n",
      "Epoch 23/50\n",
      "286/286 [==============================] - 0s 1ms/step - loss: 0.2735\n",
      "Epoch 24/50\n",
      "286/286 [==============================] - 0s 1ms/step - loss: 0.2689\n",
      "Epoch 25/50\n",
      "286/286 [==============================] - 0s 1ms/step - loss: 0.2682\n",
      "Epoch 26/50\n",
      "286/286 [==============================] - 0s 1ms/step - loss: 0.2643\n",
      "Epoch 27/50\n",
      "286/286 [==============================] - 0s 1ms/step - loss: 0.2642\n",
      "Epoch 28/50\n",
      "286/286 [==============================] - 0s 1ms/step - loss: 0.2633\n",
      "Epoch 29/50\n",
      "286/286 [==============================] - 0s 1ms/step - loss: 0.2627\n",
      "Epoch 30/50\n",
      "286/286 [==============================] - 0s 1ms/step - loss: 0.2626\n",
      "Epoch 31/50\n",
      "286/286 [==============================] - 0s 1ms/step - loss: 0.2602\n",
      "Epoch 32/50\n",
      "286/286 [==============================] - 0s 1ms/step - loss: 0.2617\n",
      "Epoch 33/50\n",
      "286/286 [==============================] - 0s 1ms/step - loss: 0.2620\n",
      "Epoch 34/50\n",
      "286/286 [==============================] - 0s 1ms/step - loss: 0.2495\n",
      "Epoch 35/50\n",
      "286/286 [==============================] - 0s 1ms/step - loss: 0.2521\n",
      "Epoch 36/50\n",
      "286/286 [==============================] - 0s 1ms/step - loss: 0.2515\n",
      "Epoch 37/50\n",
      "286/286 [==============================] - 0s 1ms/step - loss: 0.2559\n",
      "Epoch 38/50\n",
      "286/286 [==============================] - 0s 1ms/step - loss: 0.2440\n",
      "Epoch 39/50\n",
      "286/286 [==============================] - 0s 1ms/step - loss: 0.2447\n",
      "Epoch 40/50\n",
      "286/286 [==============================] - 0s 1ms/step - loss: 0.2463\n",
      "Epoch 41/50\n",
      "286/286 [==============================] - 0s 1ms/step - loss: 0.2401\n",
      "Epoch 42/50\n",
      "286/286 [==============================] - 0s 1ms/step - loss: 0.2513\n",
      "Epoch 43/50\n",
      "286/286 [==============================] - 0s 1ms/step - loss: 0.2435\n",
      "Epoch 44/50\n",
      "286/286 [==============================] - 0s 1ms/step - loss: 0.2414\n",
      "Epoch 45/50\n",
      "286/286 [==============================] - 0s 1ms/step - loss: 0.2383\n",
      "Epoch 46/50\n",
      "286/286 [==============================] - 0s 1ms/step - loss: 0.2411\n",
      "Epoch 47/50\n",
      "286/286 [==============================] - 0s 1ms/step - loss: 0.2354\n",
      "Epoch 48/50\n",
      "286/286 [==============================] - 0s 1ms/step - loss: 0.2361\n",
      "Epoch 49/50\n",
      "286/286 [==============================] - 0s 1ms/step - loss: 0.2364\n",
      "Epoch 50/50\n",
      "286/286 [==============================] - 0s 1ms/step - loss: 0.2395\n",
      "72/72 [==============================] - 0s 606us/step\n"
     ]
    },
    {
     "data": {
      "text/plain": [
       "'precision_score: '"
      ]
     },
     "metadata": {},
     "output_type": "display_data"
    },
    {
     "data": {
      "text/plain": [
       "0.916892502258356"
      ]
     },
     "metadata": {},
     "output_type": "display_data"
    },
    {
     "data": {
      "text/plain": [
       "'recall_score: '"
      ]
     },
     "metadata": {},
     "output_type": "display_data"
    },
    {
     "data": {
      "text/plain": [
       "0.8579881656804734"
      ]
     },
     "metadata": {},
     "output_type": "display_data"
    },
    {
     "data": {
      "text/plain": [
       "'f1_score: '"
      ]
     },
     "metadata": {},
     "output_type": "display_data"
    },
    {
     "data": {
      "text/plain": [
       "0.8864628820960698"
      ]
     },
     "metadata": {},
     "output_type": "display_data"
    },
    {
     "data": {
      "text/plain": [
       "'accu: '"
      ]
     },
     "metadata": {},
     "output_type": "display_data"
    },
    {
     "data": {
      "text/plain": [
       "0.8862642169728784"
      ]
     },
     "metadata": {},
     "output_type": "display_data"
    },
    {
     "data": {
      "text/plain": [
       "'confusion_matrix: '"
      ]
     },
     "metadata": {},
     "output_type": "display_data"
    },
    {
     "data": {
      "text/plain": [
       "array([[1011,   92],\n",
       "       [ 168, 1015]], dtype=int64)"
      ]
     },
     "metadata": {},
     "output_type": "display_data"
    }
   ],
   "source": [
    "model_ = model_nn\n",
    "model_.fit(X_train_url, y_train_url, epochs=50)\n",
    "y_pred = model_.predict(X_test_url)\n",
    "print_perf(y_test_url, y_pred > 0.5)"
   ]
  },
  {
   "cell_type": "code",
   "execution_count": 207,
   "metadata": {},
   "outputs": [],
   "source": [
    "X_train_url_full, X_test_url_full, y_train_url_full, y_test_url_full = train_test_split(df_url_info.iloc(axis=1)[:-1], df_url_info.iloc(axis=1)[-1], test_size=0.2)"
   ]
  },
  {
   "cell_type": "code",
   "execution_count": 210,
   "metadata": {},
   "outputs": [],
   "source": [
    "model_nn = Sequential()\n",
    "model_nn.add(Input(shape=(X_train_url_full.shape[1], )))\n",
    "model_nn.add(Dense(256, activation=\"relu\"))\n",
    "model_nn.add(BatchNormalization())\n",
    "model_nn.add(Dense(128, activation=\"relu\"))\n",
    "model_nn.add(BatchNormalization())\n",
    "model_nn.add(Dropout(0.1))\n",
    "model_nn.add(Dense(1, activation=\"sigmoid\"))\n",
    "model_nn.compile(optimizer=\"adamax\", loss=\"binary_crossentropy\")"
   ]
  },
  {
   "cell_type": "code",
   "execution_count": 211,
   "metadata": {},
   "outputs": [
    {
     "name": "stdout",
     "output_type": "stream",
     "text": [
      "Epoch 1/50\n",
      "286/286 [==============================] - 1s 1ms/step - loss: 0.4142\n",
      "Epoch 2/50\n",
      "286/286 [==============================] - 0s 1ms/step - loss: 0.3271\n",
      "Epoch 3/50\n",
      "286/286 [==============================] - 0s 1ms/step - loss: 0.3040\n",
      "Epoch 4/50\n",
      "286/286 [==============================] - 0s 1ms/step - loss: 0.3000\n",
      "Epoch 5/50\n",
      "286/286 [==============================] - 0s 1ms/step - loss: 0.2865\n",
      "Epoch 6/50\n",
      "286/286 [==============================] - 0s 1ms/step - loss: 0.2796\n",
      "Epoch 7/50\n",
      "286/286 [==============================] - 0s 1ms/step - loss: 0.2736\n",
      "Epoch 8/50\n",
      "286/286 [==============================] - 0s 1ms/step - loss: 0.2646\n",
      "Epoch 9/50\n",
      "286/286 [==============================] - 0s 1ms/step - loss: 0.2639\n",
      "Epoch 10/50\n",
      "286/286 [==============================] - 0s 1ms/step - loss: 0.2509\n",
      "Epoch 11/50\n",
      "286/286 [==============================] - 0s 1ms/step - loss: 0.2499\n",
      "Epoch 12/50\n",
      "286/286 [==============================] - 0s 1ms/step - loss: 0.2429\n",
      "Epoch 13/50\n",
      "286/286 [==============================] - 0s 1ms/step - loss: 0.2430\n",
      "Epoch 14/50\n",
      "286/286 [==============================] - 0s 1ms/step - loss: 0.2322\n",
      "Epoch 15/50\n",
      "286/286 [==============================] - 0s 1ms/step - loss: 0.2305\n",
      "Epoch 16/50\n",
      "286/286 [==============================] - 0s 1ms/step - loss: 0.2290\n",
      "Epoch 17/50\n",
      "286/286 [==============================] - 0s 1ms/step - loss: 0.2221\n",
      "Epoch 18/50\n",
      "286/286 [==============================] - 0s 1ms/step - loss: 0.2264\n",
      "Epoch 19/50\n",
      "286/286 [==============================] - 0s 1ms/step - loss: 0.2230\n",
      "Epoch 20/50\n",
      "286/286 [==============================] - 0s 1ms/step - loss: 0.2232\n",
      "Epoch 21/50\n",
      "286/286 [==============================] - 0s 1ms/step - loss: 0.2179\n",
      "Epoch 22/50\n",
      "286/286 [==============================] - 0s 1ms/step - loss: 0.2091\n",
      "Epoch 23/50\n",
      "286/286 [==============================] - 0s 1ms/step - loss: 0.2083\n",
      "Epoch 24/50\n",
      "286/286 [==============================] - 0s 1ms/step - loss: 0.2033\n",
      "Epoch 25/50\n",
      "286/286 [==============================] - 0s 1ms/step - loss: 0.1996\n",
      "Epoch 26/50\n",
      "286/286 [==============================] - 0s 1ms/step - loss: 0.1974\n",
      "Epoch 27/50\n",
      "286/286 [==============================] - 0s 1ms/step - loss: 0.2011\n",
      "Epoch 28/50\n",
      "286/286 [==============================] - 0s 1ms/step - loss: 0.2004\n",
      "Epoch 29/50\n",
      "286/286 [==============================] - 0s 1ms/step - loss: 0.1969\n",
      "Epoch 30/50\n",
      "286/286 [==============================] - 0s 1ms/step - loss: 0.1854\n",
      "Epoch 31/50\n",
      "286/286 [==============================] - 0s 1ms/step - loss: 0.1944\n",
      "Epoch 32/50\n",
      "286/286 [==============================] - 0s 1ms/step - loss: 0.1904\n",
      "Epoch 33/50\n",
      "286/286 [==============================] - 0s 1ms/step - loss: 0.1858\n",
      "Epoch 34/50\n",
      "286/286 [==============================] - 0s 1ms/step - loss: 0.1842\n",
      "Epoch 35/50\n",
      "286/286 [==============================] - 0s 1ms/step - loss: 0.1842\n",
      "Epoch 36/50\n",
      "286/286 [==============================] - 0s 1ms/step - loss: 0.1770\n",
      "Epoch 37/50\n",
      "286/286 [==============================] - 0s 1ms/step - loss: 0.1809\n",
      "Epoch 38/50\n",
      "286/286 [==============================] - 0s 1ms/step - loss: 0.1804\n",
      "Epoch 39/50\n",
      "286/286 [==============================] - 0s 1ms/step - loss: 0.1796\n",
      "Epoch 40/50\n",
      "286/286 [==============================] - 0s 1ms/step - loss: 0.1786\n",
      "Epoch 41/50\n",
      "286/286 [==============================] - 0s 1ms/step - loss: 0.1785\n",
      "Epoch 42/50\n",
      "286/286 [==============================] - 0s 1ms/step - loss: 0.1796\n",
      "Epoch 43/50\n",
      "286/286 [==============================] - 0s 1ms/step - loss: 0.1734\n",
      "Epoch 44/50\n",
      "286/286 [==============================] - 0s 1ms/step - loss: 0.1727\n",
      "Epoch 45/50\n",
      "286/286 [==============================] - 0s 1ms/step - loss: 0.1690\n",
      "Epoch 46/50\n",
      "286/286 [==============================] - 0s 1ms/step - loss: 0.1693\n",
      "Epoch 47/50\n",
      "286/286 [==============================] - 0s 1ms/step - loss: 0.1664\n",
      "Epoch 48/50\n",
      "286/286 [==============================] - 0s 1ms/step - loss: 0.1681\n",
      "Epoch 49/50\n",
      "286/286 [==============================] - 0s 1ms/step - loss: 0.1606\n",
      "Epoch 50/50\n",
      "286/286 [==============================] - 0s 1ms/step - loss: 0.1705\n",
      "72/72 [==============================] - 0s 620us/step\n"
     ]
    },
    {
     "data": {
      "text/plain": [
       "'precision_score: '"
      ]
     },
     "metadata": {},
     "output_type": "display_data"
    },
    {
     "data": {
      "text/plain": [
       "0.9083769633507853"
      ]
     },
     "metadata": {},
     "output_type": "display_data"
    },
    {
     "data": {
      "text/plain": [
       "'recall_score: '"
      ]
     },
     "metadata": {},
     "output_type": "display_data"
    },
    {
     "data": {
      "text/plain": [
       "0.9083769633507853"
      ]
     },
     "metadata": {},
     "output_type": "display_data"
    },
    {
     "data": {
      "text/plain": [
       "'f1_score: '"
      ]
     },
     "metadata": {},
     "output_type": "display_data"
    },
    {
     "data": {
      "text/plain": [
       "0.9083769633507853"
      ]
     },
     "metadata": {},
     "output_type": "display_data"
    },
    {
     "data": {
      "text/plain": [
       "'accu: '"
      ]
     },
     "metadata": {},
     "output_type": "display_data"
    },
    {
     "data": {
      "text/plain": [
       "0.9081364829396326"
      ]
     },
     "metadata": {},
     "output_type": "display_data"
    },
    {
     "data": {
      "text/plain": [
       "'confusion_matrix: '"
      ]
     },
     "metadata": {},
     "output_type": "display_data"
    },
    {
     "data": {
      "text/plain": [
       "array([[1035,  105],\n",
       "       [ 105, 1041]], dtype=int64)"
      ]
     },
     "metadata": {},
     "output_type": "display_data"
    }
   ],
   "source": [
    "model_ = model_nn\n",
    "model_.fit(X_train_url_full, y_train_url_full, epochs=50)\n",
    "y_pred = model_.predict(X_test_url_full)\n",
    "print_perf(y_test_url_full, y_pred > 0.5)"
   ]
  }
 ],
 "metadata": {
  "kernelspec": {
   "display_name": "venv",
   "language": "python",
   "name": "python3"
  },
  "language_info": {
   "codemirror_mode": {
    "name": "ipython",
    "version": 3
   },
   "file_extension": ".py",
   "mimetype": "text/x-python",
   "name": "python",
   "nbconvert_exporter": "python",
   "pygments_lexer": "ipython3",
   "version": "3.10.9 (tags/v3.10.9:1dd9be6, Dec  6 2022, 20:01:21) [MSC v.1934 64 bit (AMD64)]"
  },
  "orig_nbformat": 4,
  "vscode": {
   "interpreter": {
    "hash": "42749e707c38284449c15fb455861f0e0ab6dccf2d8d1a88cdaa6d1d2e0ff59d"
   }
  }
 },
 "nbformat": 4,
 "nbformat_minor": 2
}
